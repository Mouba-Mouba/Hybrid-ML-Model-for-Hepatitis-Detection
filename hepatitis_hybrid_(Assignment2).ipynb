{
  "metadata": {
    "kernelspec": {
      "language": "python",
      "display_name": "Python 3",
      "name": "python3"
    },
    "language_info": {
      "name": "python",
      "version": "3.6.6",
      "mimetype": "text/x-python",
      "codemirror_mode": {
        "name": "ipython",
        "version": 3
      },
      "pygments_lexer": "ipython3",
      "nbconvert_exporter": "python",
      "file_extension": ".py"
    },
    "colab": {
      "name": "hepatitis-hybrid (Assignment2).ipynb",
      "provenance": [],
      "collapsed_sections": []
    }
  },
  "nbformat_minor": 0,
  "nbformat": 4,
  "cells": [
    {
      "cell_type": "code",
      "source": [
        "# Import basic libraries \n",
        "import pandas as pd \n",
        "import numpy as np\n",
        "import matplotlib.pyplot as plt \n",
        "import seaborn as sns\n",
        "%matplotlib inline\n",
        "\n",
        "import sklearn.preprocessing as skp\n",
        "import sklearn.model_selection as skm\n",
        "import os\n",
        "#import classification modules\n",
        "from sklearn.linear_model import LogisticRegression\n",
        "from sklearn.neural_network import MLPClassifier\n",
        "# first neural network with keras tutorial\n",
        "from sklearn.metrics import accuracy_score, confusion_matrix,precision_score, recall_score, roc_auc_score,roc_curve, auc, f1_score "
      ],
      "metadata": {
        "execution": {
          "iopub.status.busy": "2022-04-20T10:07:39.125436Z",
          "iopub.execute_input": "2022-04-20T10:07:39.125684Z",
          "iopub.status.idle": "2022-04-20T10:07:39.133673Z",
          "shell.execute_reply.started": "2022-04-20T10:07:39.125651Z",
          "shell.execute_reply": "2022-04-20T10:07:39.132809Z"
        },
        "trusted": true,
        "id": "3YoAv9oiZaK4"
      },
      "execution_count": null,
      "outputs": []
    },
    {
      "cell_type": "code",
      "source": [
        "df = pd.read_csv(\"hepatitis.csv\")"
      ],
      "metadata": {
        "execution": {
          "iopub.status.busy": "2022-04-20T10:07:39.476759Z",
          "iopub.execute_input": "2022-04-20T10:07:39.477078Z",
          "iopub.status.idle": "2022-04-20T10:07:39.490796Z",
          "shell.execute_reply.started": "2022-04-20T10:07:39.477022Z",
          "shell.execute_reply": "2022-04-20T10:07:39.489926Z"
        },
        "trusted": true,
        "id": "Hho8Y_QxZaK9"
      },
      "execution_count": null,
      "outputs": []
    },
    {
      "cell_type": "code",
      "source": [
        "print(\"Shape is :\", df.shape)\n",
        "display(df.dtypes)"
      ],
      "metadata": {
        "execution": {
          "iopub.status.busy": "2022-04-20T10:07:39.648037Z",
          "iopub.execute_input": "2022-04-20T10:07:39.648287Z",
          "iopub.status.idle": "2022-04-20T10:07:39.656876Z",
          "shell.execute_reply.started": "2022-04-20T10:07:39.648232Z",
          "shell.execute_reply": "2022-04-20T10:07:39.655913Z"
        },
        "trusted": true,
        "colab": {
          "base_uri": "https://localhost:8080/",
          "height": 399
        },
        "id": "IOj-0q0DZaK-",
        "outputId": "43dfc9fd-2904-47e5-b21e-aa43be278dc1"
      },
      "execution_count": null,
      "outputs": [
        {
          "output_type": "stream",
          "name": "stdout",
          "text": [
            "Shape is : (142, 20)\n"
          ]
        },
        {
          "output_type": "display_data",
          "data": {
            "text/plain": [
              "class               int64\n",
              "age                 int64\n",
              "sex                 int64\n",
              "steroid             int64\n",
              "antivirals          int64\n",
              "fatigue             int64\n",
              "malaise             int64\n",
              "anorexia            int64\n",
              "liver_big           int64\n",
              "liver_firm          int64\n",
              "spleen_palable      int64\n",
              "spiders             int64\n",
              "ascites             int64\n",
              "varices             int64\n",
              "bilirubin         float64\n",
              "alk_phosphate       int64\n",
              "sgot                int64\n",
              "albumin           float64\n",
              "protime             int64\n",
              "histology           int64\n",
              "dtype: object"
            ]
          },
          "metadata": {}
        }
      ]
    },
    {
      "cell_type": "code",
      "source": [
        "df.isnull().sum()"
      ],
      "metadata": {
        "execution": {
          "iopub.status.busy": "2022-04-20T10:07:39.754653Z",
          "iopub.execute_input": "2022-04-20T10:07:39.754946Z",
          "iopub.status.idle": "2022-04-20T10:07:39.762680Z",
          "shell.execute_reply.started": "2022-04-20T10:07:39.754898Z",
          "shell.execute_reply": "2022-04-20T10:07:39.761827Z"
        },
        "trusted": true,
        "colab": {
          "base_uri": "https://localhost:8080/"
        },
        "id": "kBLHCjn9ZaK_",
        "outputId": "67a29825-1b09-4b36-c76b-0d66aa07d0af"
      },
      "execution_count": null,
      "outputs": [
        {
          "output_type": "execute_result",
          "data": {
            "text/plain": [
              "class             0\n",
              "age               0\n",
              "sex               0\n",
              "steroid           0\n",
              "antivirals        0\n",
              "fatigue           0\n",
              "malaise           0\n",
              "anorexia          0\n",
              "liver_big         0\n",
              "liver_firm        0\n",
              "spleen_palable    0\n",
              "spiders           0\n",
              "ascites           0\n",
              "varices           0\n",
              "bilirubin         0\n",
              "alk_phosphate     0\n",
              "sgot              0\n",
              "albumin           0\n",
              "protime           0\n",
              "histology         0\n",
              "dtype: int64"
            ]
          },
          "metadata": {},
          "execution_count": 4
        }
      ]
    },
    {
      "cell_type": "code",
      "source": [
        "df.head(5)"
      ],
      "metadata": {
        "execution": {
          "iopub.status.busy": "2022-04-20T10:07:40.658592Z",
          "iopub.execute_input": "2022-04-20T10:07:40.658858Z",
          "iopub.status.idle": "2022-04-20T10:07:40.682079Z",
          "shell.execute_reply.started": "2022-04-20T10:07:40.658796Z",
          "shell.execute_reply": "2022-04-20T10:07:40.681109Z"
        },
        "trusted": true,
        "colab": {
          "base_uri": "https://localhost:8080/",
          "height": 206
        },
        "id": "vQht0TDaZaK_",
        "outputId": "b1edb1c0-d410-48e4-a2f0-d6f7bca52d16"
      },
      "execution_count": null,
      "outputs": [
        {
          "output_type": "execute_result",
          "data": {
            "text/plain": [
              "   class  age  sex  steroid  antivirals  fatigue  malaise  anorexia  \\\n",
              "0      2   30    2        1           2        2        2         2   \n",
              "1      2   50    1        1           2        1        2         2   \n",
              "2      2   78    1        2           2        1        2         2   \n",
              "3      2   34    1        2           2        2        2         2   \n",
              "4      2   34    1        2           2        2        2         2   \n",
              "\n",
              "   liver_big  liver_firm  spleen_palable  spiders  ascites  varices  \\\n",
              "0          1           2               2        2        2        2   \n",
              "1          1           2               2        2        2        2   \n",
              "2          2           2               2        2        2        2   \n",
              "3          2           2               2        2        2        2   \n",
              "4          2           2               2        2        2        2   \n",
              "\n",
              "   bilirubin  alk_phosphate  sgot  albumin  protime  histology  \n",
              "0        1.0             85    18      4.0       61          1  \n",
              "1        0.9            135    42      3.5       61          1  \n",
              "2        0.7             96    32      4.0       61          1  \n",
              "3        1.0            105   200      4.0       61          1  \n",
              "4        0.9             95    28      4.0       75          1  "
            ],
            "text/html": [
              "\n",
              "  <div id=\"df-e9cde4b3-f755-41ba-ab3e-f72c8be6af60\">\n",
              "    <div class=\"colab-df-container\">\n",
              "      <div>\n",
              "<style scoped>\n",
              "    .dataframe tbody tr th:only-of-type {\n",
              "        vertical-align: middle;\n",
              "    }\n",
              "\n",
              "    .dataframe tbody tr th {\n",
              "        vertical-align: top;\n",
              "    }\n",
              "\n",
              "    .dataframe thead th {\n",
              "        text-align: right;\n",
              "    }\n",
              "</style>\n",
              "<table border=\"1\" class=\"dataframe\">\n",
              "  <thead>\n",
              "    <tr style=\"text-align: right;\">\n",
              "      <th></th>\n",
              "      <th>class</th>\n",
              "      <th>age</th>\n",
              "      <th>sex</th>\n",
              "      <th>steroid</th>\n",
              "      <th>antivirals</th>\n",
              "      <th>fatigue</th>\n",
              "      <th>malaise</th>\n",
              "      <th>anorexia</th>\n",
              "      <th>liver_big</th>\n",
              "      <th>liver_firm</th>\n",
              "      <th>spleen_palable</th>\n",
              "      <th>spiders</th>\n",
              "      <th>ascites</th>\n",
              "      <th>varices</th>\n",
              "      <th>bilirubin</th>\n",
              "      <th>alk_phosphate</th>\n",
              "      <th>sgot</th>\n",
              "      <th>albumin</th>\n",
              "      <th>protime</th>\n",
              "      <th>histology</th>\n",
              "    </tr>\n",
              "  </thead>\n",
              "  <tbody>\n",
              "    <tr>\n",
              "      <th>0</th>\n",
              "      <td>2</td>\n",
              "      <td>30</td>\n",
              "      <td>2</td>\n",
              "      <td>1</td>\n",
              "      <td>2</td>\n",
              "      <td>2</td>\n",
              "      <td>2</td>\n",
              "      <td>2</td>\n",
              "      <td>1</td>\n",
              "      <td>2</td>\n",
              "      <td>2</td>\n",
              "      <td>2</td>\n",
              "      <td>2</td>\n",
              "      <td>2</td>\n",
              "      <td>1.0</td>\n",
              "      <td>85</td>\n",
              "      <td>18</td>\n",
              "      <td>4.0</td>\n",
              "      <td>61</td>\n",
              "      <td>1</td>\n",
              "    </tr>\n",
              "    <tr>\n",
              "      <th>1</th>\n",
              "      <td>2</td>\n",
              "      <td>50</td>\n",
              "      <td>1</td>\n",
              "      <td>1</td>\n",
              "      <td>2</td>\n",
              "      <td>1</td>\n",
              "      <td>2</td>\n",
              "      <td>2</td>\n",
              "      <td>1</td>\n",
              "      <td>2</td>\n",
              "      <td>2</td>\n",
              "      <td>2</td>\n",
              "      <td>2</td>\n",
              "      <td>2</td>\n",
              "      <td>0.9</td>\n",
              "      <td>135</td>\n",
              "      <td>42</td>\n",
              "      <td>3.5</td>\n",
              "      <td>61</td>\n",
              "      <td>1</td>\n",
              "    </tr>\n",
              "    <tr>\n",
              "      <th>2</th>\n",
              "      <td>2</td>\n",
              "      <td>78</td>\n",
              "      <td>1</td>\n",
              "      <td>2</td>\n",
              "      <td>2</td>\n",
              "      <td>1</td>\n",
              "      <td>2</td>\n",
              "      <td>2</td>\n",
              "      <td>2</td>\n",
              "      <td>2</td>\n",
              "      <td>2</td>\n",
              "      <td>2</td>\n",
              "      <td>2</td>\n",
              "      <td>2</td>\n",
              "      <td>0.7</td>\n",
              "      <td>96</td>\n",
              "      <td>32</td>\n",
              "      <td>4.0</td>\n",
              "      <td>61</td>\n",
              "      <td>1</td>\n",
              "    </tr>\n",
              "    <tr>\n",
              "      <th>3</th>\n",
              "      <td>2</td>\n",
              "      <td>34</td>\n",
              "      <td>1</td>\n",
              "      <td>2</td>\n",
              "      <td>2</td>\n",
              "      <td>2</td>\n",
              "      <td>2</td>\n",
              "      <td>2</td>\n",
              "      <td>2</td>\n",
              "      <td>2</td>\n",
              "      <td>2</td>\n",
              "      <td>2</td>\n",
              "      <td>2</td>\n",
              "      <td>2</td>\n",
              "      <td>1.0</td>\n",
              "      <td>105</td>\n",
              "      <td>200</td>\n",
              "      <td>4.0</td>\n",
              "      <td>61</td>\n",
              "      <td>1</td>\n",
              "    </tr>\n",
              "    <tr>\n",
              "      <th>4</th>\n",
              "      <td>2</td>\n",
              "      <td>34</td>\n",
              "      <td>1</td>\n",
              "      <td>2</td>\n",
              "      <td>2</td>\n",
              "      <td>2</td>\n",
              "      <td>2</td>\n",
              "      <td>2</td>\n",
              "      <td>2</td>\n",
              "      <td>2</td>\n",
              "      <td>2</td>\n",
              "      <td>2</td>\n",
              "      <td>2</td>\n",
              "      <td>2</td>\n",
              "      <td>0.9</td>\n",
              "      <td>95</td>\n",
              "      <td>28</td>\n",
              "      <td>4.0</td>\n",
              "      <td>75</td>\n",
              "      <td>1</td>\n",
              "    </tr>\n",
              "  </tbody>\n",
              "</table>\n",
              "</div>\n",
              "      <button class=\"colab-df-convert\" onclick=\"convertToInteractive('df-e9cde4b3-f755-41ba-ab3e-f72c8be6af60')\"\n",
              "              title=\"Convert this dataframe to an interactive table.\"\n",
              "              style=\"display:none;\">\n",
              "        \n",
              "  <svg xmlns=\"http://www.w3.org/2000/svg\" height=\"24px\"viewBox=\"0 0 24 24\"\n",
              "       width=\"24px\">\n",
              "    <path d=\"M0 0h24v24H0V0z\" fill=\"none\"/>\n",
              "    <path d=\"M18.56 5.44l.94 2.06.94-2.06 2.06-.94-2.06-.94-.94-2.06-.94 2.06-2.06.94zm-11 1L8.5 8.5l.94-2.06 2.06-.94-2.06-.94L8.5 2.5l-.94 2.06-2.06.94zm10 10l.94 2.06.94-2.06 2.06-.94-2.06-.94-.94-2.06-.94 2.06-2.06.94z\"/><path d=\"M17.41 7.96l-1.37-1.37c-.4-.4-.92-.59-1.43-.59-.52 0-1.04.2-1.43.59L10.3 9.45l-7.72 7.72c-.78.78-.78 2.05 0 2.83L4 21.41c.39.39.9.59 1.41.59.51 0 1.02-.2 1.41-.59l7.78-7.78 2.81-2.81c.8-.78.8-2.07 0-2.86zM5.41 20L4 18.59l7.72-7.72 1.47 1.35L5.41 20z\"/>\n",
              "  </svg>\n",
              "      </button>\n",
              "      \n",
              "  <style>\n",
              "    .colab-df-container {\n",
              "      display:flex;\n",
              "      flex-wrap:wrap;\n",
              "      gap: 12px;\n",
              "    }\n",
              "\n",
              "    .colab-df-convert {\n",
              "      background-color: #E8F0FE;\n",
              "      border: none;\n",
              "      border-radius: 50%;\n",
              "      cursor: pointer;\n",
              "      display: none;\n",
              "      fill: #1967D2;\n",
              "      height: 32px;\n",
              "      padding: 0 0 0 0;\n",
              "      width: 32px;\n",
              "    }\n",
              "\n",
              "    .colab-df-convert:hover {\n",
              "      background-color: #E2EBFA;\n",
              "      box-shadow: 0px 1px 2px rgba(60, 64, 67, 0.3), 0px 1px 3px 1px rgba(60, 64, 67, 0.15);\n",
              "      fill: #174EA6;\n",
              "    }\n",
              "\n",
              "    [theme=dark] .colab-df-convert {\n",
              "      background-color: #3B4455;\n",
              "      fill: #D2E3FC;\n",
              "    }\n",
              "\n",
              "    [theme=dark] .colab-df-convert:hover {\n",
              "      background-color: #434B5C;\n",
              "      box-shadow: 0px 1px 3px 1px rgba(0, 0, 0, 0.15);\n",
              "      filter: drop-shadow(0px 1px 2px rgba(0, 0, 0, 0.3));\n",
              "      fill: #FFFFFF;\n",
              "    }\n",
              "  </style>\n",
              "\n",
              "      <script>\n",
              "        const buttonEl =\n",
              "          document.querySelector('#df-e9cde4b3-f755-41ba-ab3e-f72c8be6af60 button.colab-df-convert');\n",
              "        buttonEl.style.display =\n",
              "          google.colab.kernel.accessAllowed ? 'block' : 'none';\n",
              "\n",
              "        async function convertToInteractive(key) {\n",
              "          const element = document.querySelector('#df-e9cde4b3-f755-41ba-ab3e-f72c8be6af60');\n",
              "          const dataTable =\n",
              "            await google.colab.kernel.invokeFunction('convertToInteractive',\n",
              "                                                     [key], {});\n",
              "          if (!dataTable) return;\n",
              "\n",
              "          const docLinkHtml = 'Like what you see? Visit the ' +\n",
              "            '<a target=\"_blank\" href=https://colab.research.google.com/notebooks/data_table.ipynb>data table notebook</a>'\n",
              "            + ' to learn more about interactive tables.';\n",
              "          element.innerHTML = '';\n",
              "          dataTable['output_type'] = 'display_data';\n",
              "          await google.colab.output.renderOutput(dataTable, element);\n",
              "          const docLink = document.createElement('div');\n",
              "          docLink.innerHTML = docLinkHtml;\n",
              "          element.appendChild(docLink);\n",
              "        }\n",
              "      </script>\n",
              "    </div>\n",
              "  </div>\n",
              "  "
            ]
          },
          "metadata": {},
          "execution_count": 5
        }
      ]
    },
    {
      "cell_type": "code",
      "source": [
        "df.columns"
      ],
      "metadata": {
        "execution": {
          "iopub.status.busy": "2022-04-20T10:07:40.827085Z",
          "iopub.execute_input": "2022-04-20T10:07:40.827412Z",
          "iopub.status.idle": "2022-04-20T10:07:40.833989Z",
          "shell.execute_reply.started": "2022-04-20T10:07:40.827359Z",
          "shell.execute_reply": "2022-04-20T10:07:40.833167Z"
        },
        "trusted": true,
        "colab": {
          "base_uri": "https://localhost:8080/"
        },
        "id": "Nc8sAVnnZaK_",
        "outputId": "214c2028-c363-4f99-9265-61c832dd1872"
      },
      "execution_count": null,
      "outputs": [
        {
          "output_type": "execute_result",
          "data": {
            "text/plain": [
              "Index(['class', 'age', 'sex', 'steroid', 'antivirals', 'fatigue', 'malaise',\n",
              "       'anorexia', 'liver_big', 'liver_firm', 'spleen_palable', 'spiders',\n",
              "       'ascites', 'varices', 'bilirubin', 'alk_phosphate', 'sgot', 'albumin',\n",
              "       'protime', 'histology'],\n",
              "      dtype='object')"
            ]
          },
          "metadata": {},
          "execution_count": 6
        }
      ]
    },
    {
      "cell_type": "code",
      "source": [
        "df.describe()"
      ],
      "metadata": {
        "execution": {
          "iopub.status.busy": "2022-04-20T10:07:41.245625Z",
          "iopub.execute_input": "2022-04-20T10:07:41.245869Z",
          "iopub.status.idle": "2022-04-20T10:07:41.312616Z",
          "shell.execute_reply.started": "2022-04-20T10:07:41.245814Z",
          "shell.execute_reply": "2022-04-20T10:07:41.311906Z"
        },
        "trusted": true,
        "colab": {
          "base_uri": "https://localhost:8080/",
          "height": 364
        },
        "id": "a9kaVi1jZaLA",
        "outputId": "7d940f6f-43cf-4031-ca69-f9ce8bd8790c"
      },
      "execution_count": null,
      "outputs": [
        {
          "output_type": "execute_result",
          "data": {
            "text/plain": [
              "            class         age         sex     steroid  antivirals     fatigue  \\\n",
              "count  142.000000  142.000000  142.000000  142.000000  142.000000  142.000000   \n",
              "mean     1.816901   40.816901    1.105634    1.514085    1.838028    1.359155   \n",
              "std      0.388116   12.189182    0.308456    0.501571    0.369729    0.481451   \n",
              "min      1.000000    7.000000    1.000000    1.000000    1.000000    1.000000   \n",
              "25%      2.000000   32.000000    1.000000    1.000000    2.000000    1.000000   \n",
              "50%      2.000000   39.000000    1.000000    2.000000    2.000000    1.000000   \n",
              "75%      2.000000   50.000000    1.000000    2.000000    2.000000    2.000000   \n",
              "max      2.000000   78.000000    2.000000    2.000000    2.000000    2.000000   \n",
              "\n",
              "          malaise    anorexia   liver_big  liver_firm  spleen_palable  \\\n",
              "count  142.000000  142.000000  142.000000  142.000000      142.000000   \n",
              "mean     1.619718    1.795775    1.823944    1.584507        1.809859   \n",
              "std      0.487174    0.404561    0.382216    0.494551        0.393801   \n",
              "min      1.000000    1.000000    1.000000    1.000000        1.000000   \n",
              "25%      1.000000    2.000000    2.000000    1.000000        2.000000   \n",
              "50%      2.000000    2.000000    2.000000    2.000000        2.000000   \n",
              "75%      2.000000    2.000000    2.000000    2.000000        2.000000   \n",
              "max      2.000000    2.000000    2.000000    2.000000        2.000000   \n",
              "\n",
              "          spiders     ascites     varices   bilirubin  alk_phosphate  \\\n",
              "count  142.000000  142.000000  142.000000  142.000000     142.000000   \n",
              "mean     1.669014    1.880282    1.880282    1.382958     105.647887   \n",
              "std      0.472234    0.325781    0.325781    1.166526      47.375099   \n",
              "min      1.000000    1.000000    1.000000    0.300000      26.000000   \n",
              "25%      1.000000    2.000000    2.000000    0.700000      78.500000   \n",
              "50%      2.000000    2.000000    2.000000    1.000000     100.000000   \n",
              "75%      2.000000    2.000000    2.000000    1.480000     119.750000   \n",
              "max      2.000000    2.000000    2.000000    8.000000     295.000000   \n",
              "\n",
              "             sgot     albumin     protime   histology  \n",
              "count  142.000000  142.000000  142.000000  142.000000  \n",
              "mean    83.507042    3.830493   61.704225    1.443662  \n",
              "std     82.417700    0.618103   17.696732    0.498575  \n",
              "min     14.000000    2.100000    0.000000    1.000000  \n",
              "25%     32.250000    3.500000   56.250000    1.000000  \n",
              "50%     58.000000    3.900000   61.000000    1.000000  \n",
              "75%     99.500000    4.200000   66.000000    2.000000  \n",
              "max    648.000000    6.400000  100.000000    2.000000  "
            ],
            "text/html": [
              "\n",
              "  <div id=\"df-b53b68ea-f024-466c-aa1b-e8809c2e6920\">\n",
              "    <div class=\"colab-df-container\">\n",
              "      <div>\n",
              "<style scoped>\n",
              "    .dataframe tbody tr th:only-of-type {\n",
              "        vertical-align: middle;\n",
              "    }\n",
              "\n",
              "    .dataframe tbody tr th {\n",
              "        vertical-align: top;\n",
              "    }\n",
              "\n",
              "    .dataframe thead th {\n",
              "        text-align: right;\n",
              "    }\n",
              "</style>\n",
              "<table border=\"1\" class=\"dataframe\">\n",
              "  <thead>\n",
              "    <tr style=\"text-align: right;\">\n",
              "      <th></th>\n",
              "      <th>class</th>\n",
              "      <th>age</th>\n",
              "      <th>sex</th>\n",
              "      <th>steroid</th>\n",
              "      <th>antivirals</th>\n",
              "      <th>fatigue</th>\n",
              "      <th>malaise</th>\n",
              "      <th>anorexia</th>\n",
              "      <th>liver_big</th>\n",
              "      <th>liver_firm</th>\n",
              "      <th>spleen_palable</th>\n",
              "      <th>spiders</th>\n",
              "      <th>ascites</th>\n",
              "      <th>varices</th>\n",
              "      <th>bilirubin</th>\n",
              "      <th>alk_phosphate</th>\n",
              "      <th>sgot</th>\n",
              "      <th>albumin</th>\n",
              "      <th>protime</th>\n",
              "      <th>histology</th>\n",
              "    </tr>\n",
              "  </thead>\n",
              "  <tbody>\n",
              "    <tr>\n",
              "      <th>count</th>\n",
              "      <td>142.000000</td>\n",
              "      <td>142.000000</td>\n",
              "      <td>142.000000</td>\n",
              "      <td>142.000000</td>\n",
              "      <td>142.000000</td>\n",
              "      <td>142.000000</td>\n",
              "      <td>142.000000</td>\n",
              "      <td>142.000000</td>\n",
              "      <td>142.000000</td>\n",
              "      <td>142.000000</td>\n",
              "      <td>142.000000</td>\n",
              "      <td>142.000000</td>\n",
              "      <td>142.000000</td>\n",
              "      <td>142.000000</td>\n",
              "      <td>142.000000</td>\n",
              "      <td>142.000000</td>\n",
              "      <td>142.000000</td>\n",
              "      <td>142.000000</td>\n",
              "      <td>142.000000</td>\n",
              "      <td>142.000000</td>\n",
              "    </tr>\n",
              "    <tr>\n",
              "      <th>mean</th>\n",
              "      <td>1.816901</td>\n",
              "      <td>40.816901</td>\n",
              "      <td>1.105634</td>\n",
              "      <td>1.514085</td>\n",
              "      <td>1.838028</td>\n",
              "      <td>1.359155</td>\n",
              "      <td>1.619718</td>\n",
              "      <td>1.795775</td>\n",
              "      <td>1.823944</td>\n",
              "      <td>1.584507</td>\n",
              "      <td>1.809859</td>\n",
              "      <td>1.669014</td>\n",
              "      <td>1.880282</td>\n",
              "      <td>1.880282</td>\n",
              "      <td>1.382958</td>\n",
              "      <td>105.647887</td>\n",
              "      <td>83.507042</td>\n",
              "      <td>3.830493</td>\n",
              "      <td>61.704225</td>\n",
              "      <td>1.443662</td>\n",
              "    </tr>\n",
              "    <tr>\n",
              "      <th>std</th>\n",
              "      <td>0.388116</td>\n",
              "      <td>12.189182</td>\n",
              "      <td>0.308456</td>\n",
              "      <td>0.501571</td>\n",
              "      <td>0.369729</td>\n",
              "      <td>0.481451</td>\n",
              "      <td>0.487174</td>\n",
              "      <td>0.404561</td>\n",
              "      <td>0.382216</td>\n",
              "      <td>0.494551</td>\n",
              "      <td>0.393801</td>\n",
              "      <td>0.472234</td>\n",
              "      <td>0.325781</td>\n",
              "      <td>0.325781</td>\n",
              "      <td>1.166526</td>\n",
              "      <td>47.375099</td>\n",
              "      <td>82.417700</td>\n",
              "      <td>0.618103</td>\n",
              "      <td>17.696732</td>\n",
              "      <td>0.498575</td>\n",
              "    </tr>\n",
              "    <tr>\n",
              "      <th>min</th>\n",
              "      <td>1.000000</td>\n",
              "      <td>7.000000</td>\n",
              "      <td>1.000000</td>\n",
              "      <td>1.000000</td>\n",
              "      <td>1.000000</td>\n",
              "      <td>1.000000</td>\n",
              "      <td>1.000000</td>\n",
              "      <td>1.000000</td>\n",
              "      <td>1.000000</td>\n",
              "      <td>1.000000</td>\n",
              "      <td>1.000000</td>\n",
              "      <td>1.000000</td>\n",
              "      <td>1.000000</td>\n",
              "      <td>1.000000</td>\n",
              "      <td>0.300000</td>\n",
              "      <td>26.000000</td>\n",
              "      <td>14.000000</td>\n",
              "      <td>2.100000</td>\n",
              "      <td>0.000000</td>\n",
              "      <td>1.000000</td>\n",
              "    </tr>\n",
              "    <tr>\n",
              "      <th>25%</th>\n",
              "      <td>2.000000</td>\n",
              "      <td>32.000000</td>\n",
              "      <td>1.000000</td>\n",
              "      <td>1.000000</td>\n",
              "      <td>2.000000</td>\n",
              "      <td>1.000000</td>\n",
              "      <td>1.000000</td>\n",
              "      <td>2.000000</td>\n",
              "      <td>2.000000</td>\n",
              "      <td>1.000000</td>\n",
              "      <td>2.000000</td>\n",
              "      <td>1.000000</td>\n",
              "      <td>2.000000</td>\n",
              "      <td>2.000000</td>\n",
              "      <td>0.700000</td>\n",
              "      <td>78.500000</td>\n",
              "      <td>32.250000</td>\n",
              "      <td>3.500000</td>\n",
              "      <td>56.250000</td>\n",
              "      <td>1.000000</td>\n",
              "    </tr>\n",
              "    <tr>\n",
              "      <th>50%</th>\n",
              "      <td>2.000000</td>\n",
              "      <td>39.000000</td>\n",
              "      <td>1.000000</td>\n",
              "      <td>2.000000</td>\n",
              "      <td>2.000000</td>\n",
              "      <td>1.000000</td>\n",
              "      <td>2.000000</td>\n",
              "      <td>2.000000</td>\n",
              "      <td>2.000000</td>\n",
              "      <td>2.000000</td>\n",
              "      <td>2.000000</td>\n",
              "      <td>2.000000</td>\n",
              "      <td>2.000000</td>\n",
              "      <td>2.000000</td>\n",
              "      <td>1.000000</td>\n",
              "      <td>100.000000</td>\n",
              "      <td>58.000000</td>\n",
              "      <td>3.900000</td>\n",
              "      <td>61.000000</td>\n",
              "      <td>1.000000</td>\n",
              "    </tr>\n",
              "    <tr>\n",
              "      <th>75%</th>\n",
              "      <td>2.000000</td>\n",
              "      <td>50.000000</td>\n",
              "      <td>1.000000</td>\n",
              "      <td>2.000000</td>\n",
              "      <td>2.000000</td>\n",
              "      <td>2.000000</td>\n",
              "      <td>2.000000</td>\n",
              "      <td>2.000000</td>\n",
              "      <td>2.000000</td>\n",
              "      <td>2.000000</td>\n",
              "      <td>2.000000</td>\n",
              "      <td>2.000000</td>\n",
              "      <td>2.000000</td>\n",
              "      <td>2.000000</td>\n",
              "      <td>1.480000</td>\n",
              "      <td>119.750000</td>\n",
              "      <td>99.500000</td>\n",
              "      <td>4.200000</td>\n",
              "      <td>66.000000</td>\n",
              "      <td>2.000000</td>\n",
              "    </tr>\n",
              "    <tr>\n",
              "      <th>max</th>\n",
              "      <td>2.000000</td>\n",
              "      <td>78.000000</td>\n",
              "      <td>2.000000</td>\n",
              "      <td>2.000000</td>\n",
              "      <td>2.000000</td>\n",
              "      <td>2.000000</td>\n",
              "      <td>2.000000</td>\n",
              "      <td>2.000000</td>\n",
              "      <td>2.000000</td>\n",
              "      <td>2.000000</td>\n",
              "      <td>2.000000</td>\n",
              "      <td>2.000000</td>\n",
              "      <td>2.000000</td>\n",
              "      <td>2.000000</td>\n",
              "      <td>8.000000</td>\n",
              "      <td>295.000000</td>\n",
              "      <td>648.000000</td>\n",
              "      <td>6.400000</td>\n",
              "      <td>100.000000</td>\n",
              "      <td>2.000000</td>\n",
              "    </tr>\n",
              "  </tbody>\n",
              "</table>\n",
              "</div>\n",
              "      <button class=\"colab-df-convert\" onclick=\"convertToInteractive('df-b53b68ea-f024-466c-aa1b-e8809c2e6920')\"\n",
              "              title=\"Convert this dataframe to an interactive table.\"\n",
              "              style=\"display:none;\">\n",
              "        \n",
              "  <svg xmlns=\"http://www.w3.org/2000/svg\" height=\"24px\"viewBox=\"0 0 24 24\"\n",
              "       width=\"24px\">\n",
              "    <path d=\"M0 0h24v24H0V0z\" fill=\"none\"/>\n",
              "    <path d=\"M18.56 5.44l.94 2.06.94-2.06 2.06-.94-2.06-.94-.94-2.06-.94 2.06-2.06.94zm-11 1L8.5 8.5l.94-2.06 2.06-.94-2.06-.94L8.5 2.5l-.94 2.06-2.06.94zm10 10l.94 2.06.94-2.06 2.06-.94-2.06-.94-.94-2.06-.94 2.06-2.06.94z\"/><path d=\"M17.41 7.96l-1.37-1.37c-.4-.4-.92-.59-1.43-.59-.52 0-1.04.2-1.43.59L10.3 9.45l-7.72 7.72c-.78.78-.78 2.05 0 2.83L4 21.41c.39.39.9.59 1.41.59.51 0 1.02-.2 1.41-.59l7.78-7.78 2.81-2.81c.8-.78.8-2.07 0-2.86zM5.41 20L4 18.59l7.72-7.72 1.47 1.35L5.41 20z\"/>\n",
              "  </svg>\n",
              "      </button>\n",
              "      \n",
              "  <style>\n",
              "    .colab-df-container {\n",
              "      display:flex;\n",
              "      flex-wrap:wrap;\n",
              "      gap: 12px;\n",
              "    }\n",
              "\n",
              "    .colab-df-convert {\n",
              "      background-color: #E8F0FE;\n",
              "      border: none;\n",
              "      border-radius: 50%;\n",
              "      cursor: pointer;\n",
              "      display: none;\n",
              "      fill: #1967D2;\n",
              "      height: 32px;\n",
              "      padding: 0 0 0 0;\n",
              "      width: 32px;\n",
              "    }\n",
              "\n",
              "    .colab-df-convert:hover {\n",
              "      background-color: #E2EBFA;\n",
              "      box-shadow: 0px 1px 2px rgba(60, 64, 67, 0.3), 0px 1px 3px 1px rgba(60, 64, 67, 0.15);\n",
              "      fill: #174EA6;\n",
              "    }\n",
              "\n",
              "    [theme=dark] .colab-df-convert {\n",
              "      background-color: #3B4455;\n",
              "      fill: #D2E3FC;\n",
              "    }\n",
              "\n",
              "    [theme=dark] .colab-df-convert:hover {\n",
              "      background-color: #434B5C;\n",
              "      box-shadow: 0px 1px 3px 1px rgba(0, 0, 0, 0.15);\n",
              "      filter: drop-shadow(0px 1px 2px rgba(0, 0, 0, 0.3));\n",
              "      fill: #FFFFFF;\n",
              "    }\n",
              "  </style>\n",
              "\n",
              "      <script>\n",
              "        const buttonEl =\n",
              "          document.querySelector('#df-b53b68ea-f024-466c-aa1b-e8809c2e6920 button.colab-df-convert');\n",
              "        buttonEl.style.display =\n",
              "          google.colab.kernel.accessAllowed ? 'block' : 'none';\n",
              "\n",
              "        async function convertToInteractive(key) {\n",
              "          const element = document.querySelector('#df-b53b68ea-f024-466c-aa1b-e8809c2e6920');\n",
              "          const dataTable =\n",
              "            await google.colab.kernel.invokeFunction('convertToInteractive',\n",
              "                                                     [key], {});\n",
              "          if (!dataTable) return;\n",
              "\n",
              "          const docLinkHtml = 'Like what you see? Visit the ' +\n",
              "            '<a target=\"_blank\" href=https://colab.research.google.com/notebooks/data_table.ipynb>data table notebook</a>'\n",
              "            + ' to learn more about interactive tables.';\n",
              "          element.innerHTML = '';\n",
              "          dataTable['output_type'] = 'display_data';\n",
              "          await google.colab.output.renderOutput(dataTable, element);\n",
              "          const docLink = document.createElement('div');\n",
              "          docLink.innerHTML = docLinkHtml;\n",
              "          element.appendChild(docLink);\n",
              "        }\n",
              "      </script>\n",
              "    </div>\n",
              "  </div>\n",
              "  "
            ]
          },
          "metadata": {},
          "execution_count": 7
        }
      ]
    },
    {
      "cell_type": "code",
      "source": [
        "# converting age to categorical data for better analysis \n",
        "df['age']  = np.where((df['age'] <18) ,'Teenager',\n",
        "                               np.where((df['age'] >=18) & (df['age'] <=25),'Young',\n",
        "                                np.where((df['age'] >=25) & (df['age'] <=40),'Adult',\n",
        "                               'Old')))"
      ],
      "metadata": {
        "execution": {
          "iopub.status.busy": "2022-04-20T10:07:41.400613Z",
          "iopub.execute_input": "2022-04-20T10:07:41.400871Z",
          "iopub.status.idle": "2022-04-20T10:07:41.409078Z",
          "shell.execute_reply.started": "2022-04-20T10:07:41.400806Z",
          "shell.execute_reply": "2022-04-20T10:07:41.408024Z"
        },
        "trusted": true,
        "id": "wgQ4AVVQZaLA"
      },
      "execution_count": null,
      "outputs": []
    },
    {
      "cell_type": "code",
      "source": [
        "df['age'].value_counts()"
      ],
      "metadata": {
        "execution": {
          "iopub.status.busy": "2022-04-20T10:07:41.618611Z",
          "iopub.execute_input": "2022-04-20T10:07:41.618876Z",
          "iopub.status.idle": "2022-04-20T10:07:41.626902Z",
          "shell.execute_reply.started": "2022-04-20T10:07:41.618803Z",
          "shell.execute_reply": "2022-04-20T10:07:41.625642Z"
        },
        "trusted": true,
        "colab": {
          "base_uri": "https://localhost:8080/"
        },
        "id": "Pyx8L_mRZaLB",
        "outputId": "1834b798-002b-4084-c593-e056bbfb8ae0"
      },
      "execution_count": null,
      "outputs": [
        {
          "output_type": "execute_result",
          "data": {
            "text/plain": [
              "Old         65\n",
              "Adult       63\n",
              "Young       13\n",
              "Teenager     1\n",
              "Name: age, dtype: int64"
            ]
          },
          "metadata": {},
          "execution_count": 9
        }
      ]
    },
    {
      "cell_type": "code",
      "source": [
        "df.columns\n"
      ],
      "metadata": {
        "execution": {
          "iopub.status.busy": "2022-04-20T10:07:41.785271Z",
          "iopub.execute_input": "2022-04-20T10:07:41.785550Z",
          "iopub.status.idle": "2022-04-20T10:07:41.792366Z",
          "shell.execute_reply.started": "2022-04-20T10:07:41.785507Z",
          "shell.execute_reply": "2022-04-20T10:07:41.791692Z"
        },
        "trusted": true,
        "colab": {
          "base_uri": "https://localhost:8080/"
        },
        "id": "CW8M3iXLZaLB",
        "outputId": "df0fc147-5066-4b3f-d67d-f62e7b21960e"
      },
      "execution_count": null,
      "outputs": [
        {
          "output_type": "execute_result",
          "data": {
            "text/plain": [
              "Index(['class', 'age', 'sex', 'steroid', 'antivirals', 'fatigue', 'malaise',\n",
              "       'anorexia', 'liver_big', 'liver_firm', 'spleen_palable', 'spiders',\n",
              "       'ascites', 'varices', 'bilirubin', 'alk_phosphate', 'sgot', 'albumin',\n",
              "       'protime', 'histology'],\n",
              "      dtype='object')"
            ]
          },
          "metadata": {},
          "execution_count": 10
        }
      ]
    },
    {
      "cell_type": "code",
      "source": [
        "df.head()"
      ],
      "metadata": {
        "colab": {
          "base_uri": "https://localhost:8080/",
          "height": 206
        },
        "id": "wIfJdQQ_aU18",
        "outputId": "5e5bf621-dc01-4d1a-802c-56907e2430f7"
      },
      "execution_count": null,
      "outputs": [
        {
          "output_type": "execute_result",
          "data": {
            "text/plain": [
              "   class    age  sex  steroid  antivirals  fatigue  malaise  anorexia  \\\n",
              "0      2  Adult    2        1           2        2        2         2   \n",
              "1      2    Old    1        1           2        1        2         2   \n",
              "2      2    Old    1        2           2        1        2         2   \n",
              "3      2  Adult    1        2           2        2        2         2   \n",
              "4      2  Adult    1        2           2        2        2         2   \n",
              "\n",
              "   liver_big  liver_firm  spleen_palable  spiders  ascites  varices  \\\n",
              "0          1           2               2        2        2        2   \n",
              "1          1           2               2        2        2        2   \n",
              "2          2           2               2        2        2        2   \n",
              "3          2           2               2        2        2        2   \n",
              "4          2           2               2        2        2        2   \n",
              "\n",
              "   bilirubin  alk_phosphate  sgot  albumin  protime  histology  \n",
              "0        1.0             85    18      4.0       61          1  \n",
              "1        0.9            135    42      3.5       61          1  \n",
              "2        0.7             96    32      4.0       61          1  \n",
              "3        1.0            105   200      4.0       61          1  \n",
              "4        0.9             95    28      4.0       75          1  "
            ],
            "text/html": [
              "\n",
              "  <div id=\"df-2813558e-783a-4da0-a9b2-c1f77c5dffc0\">\n",
              "    <div class=\"colab-df-container\">\n",
              "      <div>\n",
              "<style scoped>\n",
              "    .dataframe tbody tr th:only-of-type {\n",
              "        vertical-align: middle;\n",
              "    }\n",
              "\n",
              "    .dataframe tbody tr th {\n",
              "        vertical-align: top;\n",
              "    }\n",
              "\n",
              "    .dataframe thead th {\n",
              "        text-align: right;\n",
              "    }\n",
              "</style>\n",
              "<table border=\"1\" class=\"dataframe\">\n",
              "  <thead>\n",
              "    <tr style=\"text-align: right;\">\n",
              "      <th></th>\n",
              "      <th>class</th>\n",
              "      <th>age</th>\n",
              "      <th>sex</th>\n",
              "      <th>steroid</th>\n",
              "      <th>antivirals</th>\n",
              "      <th>fatigue</th>\n",
              "      <th>malaise</th>\n",
              "      <th>anorexia</th>\n",
              "      <th>liver_big</th>\n",
              "      <th>liver_firm</th>\n",
              "      <th>spleen_palable</th>\n",
              "      <th>spiders</th>\n",
              "      <th>ascites</th>\n",
              "      <th>varices</th>\n",
              "      <th>bilirubin</th>\n",
              "      <th>alk_phosphate</th>\n",
              "      <th>sgot</th>\n",
              "      <th>albumin</th>\n",
              "      <th>protime</th>\n",
              "      <th>histology</th>\n",
              "    </tr>\n",
              "  </thead>\n",
              "  <tbody>\n",
              "    <tr>\n",
              "      <th>0</th>\n",
              "      <td>2</td>\n",
              "      <td>Adult</td>\n",
              "      <td>2</td>\n",
              "      <td>1</td>\n",
              "      <td>2</td>\n",
              "      <td>2</td>\n",
              "      <td>2</td>\n",
              "      <td>2</td>\n",
              "      <td>1</td>\n",
              "      <td>2</td>\n",
              "      <td>2</td>\n",
              "      <td>2</td>\n",
              "      <td>2</td>\n",
              "      <td>2</td>\n",
              "      <td>1.0</td>\n",
              "      <td>85</td>\n",
              "      <td>18</td>\n",
              "      <td>4.0</td>\n",
              "      <td>61</td>\n",
              "      <td>1</td>\n",
              "    </tr>\n",
              "    <tr>\n",
              "      <th>1</th>\n",
              "      <td>2</td>\n",
              "      <td>Old</td>\n",
              "      <td>1</td>\n",
              "      <td>1</td>\n",
              "      <td>2</td>\n",
              "      <td>1</td>\n",
              "      <td>2</td>\n",
              "      <td>2</td>\n",
              "      <td>1</td>\n",
              "      <td>2</td>\n",
              "      <td>2</td>\n",
              "      <td>2</td>\n",
              "      <td>2</td>\n",
              "      <td>2</td>\n",
              "      <td>0.9</td>\n",
              "      <td>135</td>\n",
              "      <td>42</td>\n",
              "      <td>3.5</td>\n",
              "      <td>61</td>\n",
              "      <td>1</td>\n",
              "    </tr>\n",
              "    <tr>\n",
              "      <th>2</th>\n",
              "      <td>2</td>\n",
              "      <td>Old</td>\n",
              "      <td>1</td>\n",
              "      <td>2</td>\n",
              "      <td>2</td>\n",
              "      <td>1</td>\n",
              "      <td>2</td>\n",
              "      <td>2</td>\n",
              "      <td>2</td>\n",
              "      <td>2</td>\n",
              "      <td>2</td>\n",
              "      <td>2</td>\n",
              "      <td>2</td>\n",
              "      <td>2</td>\n",
              "      <td>0.7</td>\n",
              "      <td>96</td>\n",
              "      <td>32</td>\n",
              "      <td>4.0</td>\n",
              "      <td>61</td>\n",
              "      <td>1</td>\n",
              "    </tr>\n",
              "    <tr>\n",
              "      <th>3</th>\n",
              "      <td>2</td>\n",
              "      <td>Adult</td>\n",
              "      <td>1</td>\n",
              "      <td>2</td>\n",
              "      <td>2</td>\n",
              "      <td>2</td>\n",
              "      <td>2</td>\n",
              "      <td>2</td>\n",
              "      <td>2</td>\n",
              "      <td>2</td>\n",
              "      <td>2</td>\n",
              "      <td>2</td>\n",
              "      <td>2</td>\n",
              "      <td>2</td>\n",
              "      <td>1.0</td>\n",
              "      <td>105</td>\n",
              "      <td>200</td>\n",
              "      <td>4.0</td>\n",
              "      <td>61</td>\n",
              "      <td>1</td>\n",
              "    </tr>\n",
              "    <tr>\n",
              "      <th>4</th>\n",
              "      <td>2</td>\n",
              "      <td>Adult</td>\n",
              "      <td>1</td>\n",
              "      <td>2</td>\n",
              "      <td>2</td>\n",
              "      <td>2</td>\n",
              "      <td>2</td>\n",
              "      <td>2</td>\n",
              "      <td>2</td>\n",
              "      <td>2</td>\n",
              "      <td>2</td>\n",
              "      <td>2</td>\n",
              "      <td>2</td>\n",
              "      <td>2</td>\n",
              "      <td>0.9</td>\n",
              "      <td>95</td>\n",
              "      <td>28</td>\n",
              "      <td>4.0</td>\n",
              "      <td>75</td>\n",
              "      <td>1</td>\n",
              "    </tr>\n",
              "  </tbody>\n",
              "</table>\n",
              "</div>\n",
              "      <button class=\"colab-df-convert\" onclick=\"convertToInteractive('df-2813558e-783a-4da0-a9b2-c1f77c5dffc0')\"\n",
              "              title=\"Convert this dataframe to an interactive table.\"\n",
              "              style=\"display:none;\">\n",
              "        \n",
              "  <svg xmlns=\"http://www.w3.org/2000/svg\" height=\"24px\"viewBox=\"0 0 24 24\"\n",
              "       width=\"24px\">\n",
              "    <path d=\"M0 0h24v24H0V0z\" fill=\"none\"/>\n",
              "    <path d=\"M18.56 5.44l.94 2.06.94-2.06 2.06-.94-2.06-.94-.94-2.06-.94 2.06-2.06.94zm-11 1L8.5 8.5l.94-2.06 2.06-.94-2.06-.94L8.5 2.5l-.94 2.06-2.06.94zm10 10l.94 2.06.94-2.06 2.06-.94-2.06-.94-.94-2.06-.94 2.06-2.06.94z\"/><path d=\"M17.41 7.96l-1.37-1.37c-.4-.4-.92-.59-1.43-.59-.52 0-1.04.2-1.43.59L10.3 9.45l-7.72 7.72c-.78.78-.78 2.05 0 2.83L4 21.41c.39.39.9.59 1.41.59.51 0 1.02-.2 1.41-.59l7.78-7.78 2.81-2.81c.8-.78.8-2.07 0-2.86zM5.41 20L4 18.59l7.72-7.72 1.47 1.35L5.41 20z\"/>\n",
              "  </svg>\n",
              "      </button>\n",
              "      \n",
              "  <style>\n",
              "    .colab-df-container {\n",
              "      display:flex;\n",
              "      flex-wrap:wrap;\n",
              "      gap: 12px;\n",
              "    }\n",
              "\n",
              "    .colab-df-convert {\n",
              "      background-color: #E8F0FE;\n",
              "      border: none;\n",
              "      border-radius: 50%;\n",
              "      cursor: pointer;\n",
              "      display: none;\n",
              "      fill: #1967D2;\n",
              "      height: 32px;\n",
              "      padding: 0 0 0 0;\n",
              "      width: 32px;\n",
              "    }\n",
              "\n",
              "    .colab-df-convert:hover {\n",
              "      background-color: #E2EBFA;\n",
              "      box-shadow: 0px 1px 2px rgba(60, 64, 67, 0.3), 0px 1px 3px 1px rgba(60, 64, 67, 0.15);\n",
              "      fill: #174EA6;\n",
              "    }\n",
              "\n",
              "    [theme=dark] .colab-df-convert {\n",
              "      background-color: #3B4455;\n",
              "      fill: #D2E3FC;\n",
              "    }\n",
              "\n",
              "    [theme=dark] .colab-df-convert:hover {\n",
              "      background-color: #434B5C;\n",
              "      box-shadow: 0px 1px 3px 1px rgba(0, 0, 0, 0.15);\n",
              "      filter: drop-shadow(0px 1px 2px rgba(0, 0, 0, 0.3));\n",
              "      fill: #FFFFFF;\n",
              "    }\n",
              "  </style>\n",
              "\n",
              "      <script>\n",
              "        const buttonEl =\n",
              "          document.querySelector('#df-2813558e-783a-4da0-a9b2-c1f77c5dffc0 button.colab-df-convert');\n",
              "        buttonEl.style.display =\n",
              "          google.colab.kernel.accessAllowed ? 'block' : 'none';\n",
              "\n",
              "        async function convertToInteractive(key) {\n",
              "          const element = document.querySelector('#df-2813558e-783a-4da0-a9b2-c1f77c5dffc0');\n",
              "          const dataTable =\n",
              "            await google.colab.kernel.invokeFunction('convertToInteractive',\n",
              "                                                     [key], {});\n",
              "          if (!dataTable) return;\n",
              "\n",
              "          const docLinkHtml = 'Like what you see? Visit the ' +\n",
              "            '<a target=\"_blank\" href=https://colab.research.google.com/notebooks/data_table.ipynb>data table notebook</a>'\n",
              "            + ' to learn more about interactive tables.';\n",
              "          element.innerHTML = '';\n",
              "          dataTable['output_type'] = 'display_data';\n",
              "          await google.colab.output.renderOutput(dataTable, element);\n",
              "          const docLink = document.createElement('div');\n",
              "          docLink.innerHTML = docLinkHtml;\n",
              "          element.appendChild(docLink);\n",
              "        }\n",
              "      </script>\n",
              "    </div>\n",
              "  </div>\n",
              "  "
            ]
          },
          "metadata": {},
          "execution_count": 11
        }
      ]
    },
    {
      "cell_type": "code",
      "source": [
        "df['bilirubin'].head()"
      ],
      "metadata": {
        "execution": {
          "iopub.status.busy": "2022-04-20T10:07:41.889956Z",
          "iopub.execute_input": "2022-04-20T10:07:41.890241Z",
          "iopub.status.idle": "2022-04-20T10:07:41.896774Z",
          "shell.execute_reply.started": "2022-04-20T10:07:41.890190Z",
          "shell.execute_reply": "2022-04-20T10:07:41.896088Z"
        },
        "trusted": true,
        "colab": {
          "base_uri": "https://localhost:8080/"
        },
        "id": "mxLPtzdVZaLC",
        "outputId": "67a4877e-49b9-4bb5-cec2-c5a4b8a8c259"
      },
      "execution_count": null,
      "outputs": [
        {
          "output_type": "execute_result",
          "data": {
            "text/plain": [
              "0    1.0\n",
              "1    0.9\n",
              "2    0.7\n",
              "3    1.0\n",
              "4    0.9\n",
              "Name: bilirubin, dtype: float64"
            ]
          },
          "metadata": {},
          "execution_count": 12
        }
      ]
    },
    {
      "cell_type": "code",
      "source": [
        "# from matplotlib import rcParams\n",
        "# figure size in inches\n",
        "# rcParams['figure.figsize'] = 11.7,8.27\n",
        "sns.set(rc={'figure.figsize':(10,8)})\n",
        "sns.set_style(\"whitegrid\")\n",
        "sns.countplot(x=\"age\", data=df)"
      ],
      "metadata": {
        "execution": {
          "iopub.status.busy": "2022-04-20T10:07:41.998038Z",
          "iopub.execute_input": "2022-04-20T10:07:41.998360Z",
          "iopub.status.idle": "2022-04-20T10:07:42.169264Z",
          "shell.execute_reply.started": "2022-04-20T10:07:41.998318Z",
          "shell.execute_reply": "2022-04-20T10:07:42.168348Z"
        },
        "trusted": true,
        "colab": {
          "base_uri": "https://localhost:8080/",
          "height": 519
        },
        "id": "76m93anZZaLC",
        "outputId": "07f6167c-2ce3-4f92-df90-189289a5b6f8"
      },
      "execution_count": null,
      "outputs": [
        {
          "output_type": "execute_result",
          "data": {
            "text/plain": [
              "<matplotlib.axes._subplots.AxesSubplot at 0x7ff19dfb9e10>"
            ]
          },
          "metadata": {},
          "execution_count": 13
        },
        {
          "output_type": "display_data",
          "data": {
            "text/plain": [
              "<Figure size 720x576 with 1 Axes>"
            ],
            "image/png": "[encoded data removed]"
          },
          "metadata": {}
        }
      ]
    },
    {
      "cell_type": "code",
      "source": [
        "df['sex'].value_counts()"
      ],
      "metadata": {
        "execution": {
          "iopub.status.busy": "2022-04-20T10:07:42.170823Z",
          "iopub.execute_input": "2022-04-20T10:07:42.171117Z",
          "iopub.status.idle": "2022-04-20T10:07:42.181688Z",
          "shell.execute_reply.started": "2022-04-20T10:07:42.171066Z",
          "shell.execute_reply": "2022-04-20T10:07:42.180572Z"
        },
        "trusted": true,
        "colab": {
          "base_uri": "https://localhost:8080/"
        },
        "id": "ZJb2aIl1ZaLC",
        "outputId": "2a15601d-64cc-4562-ae61-0c19ff149ca6"
      },
      "execution_count": null,
      "outputs": [
        {
          "output_type": "execute_result",
          "data": {
            "text/plain": [
              "1    127\n",
              "2     15\n",
              "Name: sex, dtype: int64"
            ]
          },
          "metadata": {},
          "execution_count": 14
        }
      ]
    },
    {
      "cell_type": "code",
      "source": [
        "df.head(5)"
      ],
      "metadata": {
        "execution": {
          "iopub.status.busy": "2022-04-20T10:07:42.212483Z",
          "iopub.execute_input": "2022-04-20T10:07:42.212911Z",
          "iopub.status.idle": "2022-04-20T10:07:42.236555Z",
          "shell.execute_reply.started": "2022-04-20T10:07:42.212856Z",
          "shell.execute_reply": "2022-04-20T10:07:42.235950Z"
        },
        "trusted": true,
        "colab": {
          "base_uri": "https://localhost:8080/",
          "height": 206
        },
        "id": "HD3QHG1NZaLD",
        "outputId": "27ad9343-6a02-45ae-fdc7-c83e0cd216ab"
      },
      "execution_count": null,
      "outputs": [
        {
          "output_type": "execute_result",
          "data": {
            "text/plain": [
              "   class    age  sex  steroid  antivirals  fatigue  malaise  anorexia  \\\n",
              "0      2  Adult    2        1           2        2        2         2   \n",
              "1      2    Old    1        1           2        1        2         2   \n",
              "2      2    Old    1        2           2        1        2         2   \n",
              "3      2  Adult    1        2           2        2        2         2   \n",
              "4      2  Adult    1        2           2        2        2         2   \n",
              "\n",
              "   liver_big  liver_firm  spleen_palable  spiders  ascites  varices  \\\n",
              "0          1           2               2        2        2        2   \n",
              "1          1           2               2        2        2        2   \n",
              "2          2           2               2        2        2        2   \n",
              "3          2           2               2        2        2        2   \n",
              "4          2           2               2        2        2        2   \n",
              "\n",
              "   bilirubin  alk_phosphate  sgot  albumin  protime  histology  \n",
              "0        1.0             85    18      4.0       61          1  \n",
              "1        0.9            135    42      3.5       61          1  \n",
              "2        0.7             96    32      4.0       61          1  \n",
              "3        1.0            105   200      4.0       61          1  \n",
              "4        0.9             95    28      4.0       75          1  "
            ],
            "text/html": [
              "\n",
              "  <div id=\"df-21017a36-bc9d-4a1d-b06e-6e201f196782\">\n",
              "    <div class=\"colab-df-container\">\n",
              "      <div>\n",
              "<style scoped>\n",
              "    .dataframe tbody tr th:only-of-type {\n",
              "        vertical-align: middle;\n",
              "    }\n",
              "\n",
              "    .dataframe tbody tr th {\n",
              "        vertical-align: top;\n",
              "    }\n",
              "\n",
              "    .dataframe thead th {\n",
              "        text-align: right;\n",
              "    }\n",
              "</style>\n",
              "<table border=\"1\" class=\"dataframe\">\n",
              "  <thead>\n",
              "    <tr style=\"text-align: right;\">\n",
              "      <th></th>\n",
              "      <th>class</th>\n",
              "      <th>age</th>\n",
              "      <th>sex</th>\n",
              "      <th>steroid</th>\n",
              "      <th>antivirals</th>\n",
              "      <th>fatigue</th>\n",
              "      <th>malaise</th>\n",
              "      <th>anorexia</th>\n",
              "      <th>liver_big</th>\n",
              "      <th>liver_firm</th>\n",
              "      <th>spleen_palable</th>\n",
              "      <th>spiders</th>\n",
              "      <th>ascites</th>\n",
              "      <th>varices</th>\n",
              "      <th>bilirubin</th>\n",
              "      <th>alk_phosphate</th>\n",
              "      <th>sgot</th>\n",
              "      <th>albumin</th>\n",
              "      <th>protime</th>\n",
              "      <th>histology</th>\n",
              "    </tr>\n",
              "  </thead>\n",
              "  <tbody>\n",
              "    <tr>\n",
              "      <th>0</th>\n",
              "      <td>2</td>\n",
              "      <td>Adult</td>\n",
              "      <td>2</td>\n",
              "      <td>1</td>\n",
              "      <td>2</td>\n",
              "      <td>2</td>\n",
              "      <td>2</td>\n",
              "      <td>2</td>\n",
              "      <td>1</td>\n",
              "      <td>2</td>\n",
              "      <td>2</td>\n",
              "      <td>2</td>\n",
              "      <td>2</td>\n",
              "      <td>2</td>\n",
              "      <td>1.0</td>\n",
              "      <td>85</td>\n",
              "      <td>18</td>\n",
              "      <td>4.0</td>\n",
              "      <td>61</td>\n",
              "      <td>1</td>\n",
              "    </tr>\n",
              "    <tr>\n",
              "      <th>1</th>\n",
              "      <td>2</td>\n",
              "      <td>Old</td>\n",
              "      <td>1</td>\n",
              "      <td>1</td>\n",
              "      <td>2</td>\n",
              "      <td>1</td>\n",
              "      <td>2</td>\n",
              "      <td>2</td>\n",
              "      <td>1</td>\n",
              "      <td>2</td>\n",
              "      <td>2</td>\n",
              "      <td>2</td>\n",
              "      <td>2</td>\n",
              "      <td>2</td>\n",
              "      <td>0.9</td>\n",
              "      <td>135</td>\n",
              "      <td>42</td>\n",
              "      <td>3.5</td>\n",
              "      <td>61</td>\n",
              "      <td>1</td>\n",
              "    </tr>\n",
              "    <tr>\n",
              "      <th>2</th>\n",
              "      <td>2</td>\n",
              "      <td>Old</td>\n",
              "      <td>1</td>\n",
              "      <td>2</td>\n",
              "      <td>2</td>\n",
              "      <td>1</td>\n",
              "      <td>2</td>\n",
              "      <td>2</td>\n",
              "      <td>2</td>\n",
              "      <td>2</td>\n",
              "      <td>2</td>\n",
              "      <td>2</td>\n",
              "      <td>2</td>\n",
              "      <td>2</td>\n",
              "      <td>0.7</td>\n",
              "      <td>96</td>\n",
              "      <td>32</td>\n",
              "      <td>4.0</td>\n",
              "      <td>61</td>\n",
              "      <td>1</td>\n",
              "    </tr>\n",
              "    <tr>\n",
              "      <th>3</th>\n",
              "      <td>2</td>\n",
              "      <td>Adult</td>\n",
              "      <td>1</td>\n",
              "      <td>2</td>\n",
              "      <td>2</td>\n",
              "      <td>2</td>\n",
              "      <td>2</td>\n",
              "      <td>2</td>\n",
              "      <td>2</td>\n",
              "      <td>2</td>\n",
              "      <td>2</td>\n",
              "      <td>2</td>\n",
              "      <td>2</td>\n",
              "      <td>2</td>\n",
              "      <td>1.0</td>\n",
              "      <td>105</td>\n",
              "      <td>200</td>\n",
              "      <td>4.0</td>\n",
              "      <td>61</td>\n",
              "      <td>1</td>\n",
              "    </tr>\n",
              "    <tr>\n",
              "      <th>4</th>\n",
              "      <td>2</td>\n",
              "      <td>Adult</td>\n",
              "      <td>1</td>\n",
              "      <td>2</td>\n",
              "      <td>2</td>\n",
              "      <td>2</td>\n",
              "      <td>2</td>\n",
              "      <td>2</td>\n",
              "      <td>2</td>\n",
              "      <td>2</td>\n",
              "      <td>2</td>\n",
              "      <td>2</td>\n",
              "      <td>2</td>\n",
              "      <td>2</td>\n",
              "      <td>0.9</td>\n",
              "      <td>95</td>\n",
              "      <td>28</td>\n",
              "      <td>4.0</td>\n",
              "      <td>75</td>\n",
              "      <td>1</td>\n",
              "    </tr>\n",
              "  </tbody>\n",
              "</table>\n",
              "</div>\n",
              "      <button class=\"colab-df-convert\" onclick=\"convertToInteractive('df-21017a36-bc9d-4a1d-b06e-6e201f196782')\"\n",
              "              title=\"Convert this dataframe to an interactive table.\"\n",
              "              style=\"display:none;\">\n",
              "        \n",
              "  <svg xmlns=\"http://www.w3.org/2000/svg\" height=\"24px\"viewBox=\"0 0 24 24\"\n",
              "       width=\"24px\">\n",
              "    <path d=\"M0 0h24v24H0V0z\" fill=\"none\"/>\n",
              "    <path d=\"M18.56 5.44l.94 2.06.94-2.06 2.06-.94-2.06-.94-.94-2.06-.94 2.06-2.06.94zm-11 1L8.5 8.5l.94-2.06 2.06-.94-2.06-.94L8.5 2.5l-.94 2.06-2.06.94zm10 10l.94 2.06.94-2.06 2.06-.94-2.06-.94-.94-2.06-.94 2.06-2.06.94z\"/><path d=\"M17.41 7.96l-1.37-1.37c-.4-.4-.92-.59-1.43-.59-.52 0-1.04.2-1.43.59L10.3 9.45l-7.72 7.72c-.78.78-.78 2.05 0 2.83L4 21.41c.39.39.9.59 1.41.59.51 0 1.02-.2 1.41-.59l7.78-7.78 2.81-2.81c.8-.78.8-2.07 0-2.86zM5.41 20L4 18.59l7.72-7.72 1.47 1.35L5.41 20z\"/>\n",
              "  </svg>\n",
              "      </button>\n",
              "      \n",
              "  <style>\n",
              "    .colab-df-container {\n",
              "      display:flex;\n",
              "      flex-wrap:wrap;\n",
              "      gap: 12px;\n",
              "    }\n",
              "\n",
              "    .colab-df-convert {\n",
              "      background-color: #E8F0FE;\n",
              "      border: none;\n",
              "      border-radius: 50%;\n",
              "      cursor: pointer;\n",
              "      display: none;\n",
              "      fill: #1967D2;\n",
              "      height: 32px;\n",
              "      padding: 0 0 0 0;\n",
              "      width: 32px;\n",
              "    }\n",
              "\n",
              "    .colab-df-convert:hover {\n",
              "      background-color: #E2EBFA;\n",
              "      box-shadow: 0px 1px 2px rgba(60, 64, 67, 0.3), 0px 1px 3px 1px rgba(60, 64, 67, 0.15);\n",
              "      fill: #174EA6;\n",
              "    }\n",
              "\n",
              "    [theme=dark] .colab-df-convert {\n",
              "      background-color: #3B4455;\n",
              "      fill: #D2E3FC;\n",
              "    }\n",
              "\n",
              "    [theme=dark] .colab-df-convert:hover {\n",
              "      background-color: #434B5C;\n",
              "      box-shadow: 0px 1px 3px 1px rgba(0, 0, 0, 0.15);\n",
              "      filter: drop-shadow(0px 1px 2px rgba(0, 0, 0, 0.3));\n",
              "      fill: #FFFFFF;\n",
              "    }\n",
              "  </style>\n",
              "\n",
              "      <script>\n",
              "        const buttonEl =\n",
              "          document.querySelector('#df-21017a36-bc9d-4a1d-b06e-6e201f196782 button.colab-df-convert');\n",
              "        buttonEl.style.display =\n",
              "          google.colab.kernel.accessAllowed ? 'block' : 'none';\n",
              "\n",
              "        async function convertToInteractive(key) {\n",
              "          const element = document.querySelector('#df-21017a36-bc9d-4a1d-b06e-6e201f196782');\n",
              "          const dataTable =\n",
              "            await google.colab.kernel.invokeFunction('convertToInteractive',\n",
              "                                                     [key], {});\n",
              "          if (!dataTable) return;\n",
              "\n",
              "          const docLinkHtml = 'Like what you see? Visit the ' +\n",
              "            '<a target=\"_blank\" href=https://colab.research.google.com/notebooks/data_table.ipynb>data table notebook</a>'\n",
              "            + ' to learn more about interactive tables.';\n",
              "          element.innerHTML = '';\n",
              "          dataTable['output_type'] = 'display_data';\n",
              "          await google.colab.output.renderOutput(dataTable, element);\n",
              "          const docLink = document.createElement('div');\n",
              "          docLink.innerHTML = docLinkHtml;\n",
              "          element.appendChild(docLink);\n",
              "        }\n",
              "      </script>\n",
              "    </div>\n",
              "  </div>\n",
              "  "
            ]
          },
          "metadata": {},
          "execution_count": 15
        }
      ]
    },
    {
      "cell_type": "code",
      "source": [
        "df.info()"
      ],
      "metadata": {
        "execution": {
          "iopub.status.busy": "2022-04-20T10:07:42.496166Z",
          "iopub.execute_input": "2022-04-20T10:07:42.496646Z",
          "iopub.status.idle": "2022-04-20T10:07:42.507607Z",
          "shell.execute_reply.started": "2022-04-20T10:07:42.496589Z",
          "shell.execute_reply": "2022-04-20T10:07:42.506707Z"
        },
        "trusted": true,
        "colab": {
          "base_uri": "https://localhost:8080/"
        },
        "id": "nZtQY2MIZaLD",
        "outputId": "35112d36-b87b-4c12-ee21-74f96a993ae0"
      },
      "execution_count": null,
      "outputs": [
        {
          "output_type": "stream",
          "name": "stdout",
          "text": [
            "<class 'pandas.core.frame.DataFrame'>\n",
            "RangeIndex: 142 entries, 0 to 141\n",
            "Data columns (total 20 columns):\n",
            " #   Column          Non-Null Count  Dtype  \n",
            "---  ------          --------------  -----  \n",
            " 0   class           142 non-null    int64  \n",
            " 1   age             142 non-null    object \n",
            " 2   sex             142 non-null    int64  \n",
            " 3   steroid         142 non-null    int64  \n",
            " 4   antivirals      142 non-null    int64  \n",
            " 5   fatigue         142 non-null    int64  \n",
            " 6   malaise         142 non-null    int64  \n",
            " 7   anorexia        142 non-null    int64  \n",
            " 8   liver_big       142 non-null    int64  \n",
            " 9   liver_firm      142 non-null    int64  \n",
            " 10  spleen_palable  142 non-null    int64  \n",
            " 11  spiders         142 non-null    int64  \n",
            " 12  ascites         142 non-null    int64  \n",
            " 13  varices         142 non-null    int64  \n",
            " 14  bilirubin       142 non-null    float64\n",
            " 15  alk_phosphate   142 non-null    int64  \n",
            " 16  sgot            142 non-null    int64  \n",
            " 17  albumin         142 non-null    float64\n",
            " 18  protime         142 non-null    int64  \n",
            " 19  histology       142 non-null    int64  \n",
            "dtypes: float64(2), int64(17), object(1)\n",
            "memory usage: 22.3+ KB\n"
          ]
        }
      ]
    },
    {
      "cell_type": "code",
      "source": [
        "sns.boxplot(x ='alk_phosphate', data=df)"
      ],
      "metadata": {
        "execution": {
          "iopub.status.busy": "2022-04-20T10:07:42.658393Z",
          "iopub.execute_input": "2022-04-20T10:07:42.658726Z",
          "iopub.status.idle": "2022-04-20T10:07:42.813443Z",
          "shell.execute_reply.started": "2022-04-20T10:07:42.658671Z",
          "shell.execute_reply": "2022-04-20T10:07:42.812757Z"
        },
        "trusted": true,
        "colab": {
          "base_uri": "https://localhost:8080/",
          "height": 519
        },
        "id": "g9YrQWVxZaLD",
        "outputId": "ddfc3ccd-c04a-4f3d-ed79-d07443bf298e"
      },
      "execution_count": null,
      "outputs": [
        {
          "output_type": "execute_result",
          "data": {
            "text/plain": [
              "<matplotlib.axes._subplots.AxesSubplot at 0x7ff19df3a710>"
            ]
          },
          "metadata": {},
          "execution_count": 17
        },
        {
          "output_type": "display_data",
          "data": {
            "text/plain": [
              "<Figure size 720x576 with 1 Axes>"
            ],
            "image/png": "[encoded data removed]"
          },
          "metadata": {}
        }
      ]
    },
    {
      "cell_type": "code",
      "source": [
        "from scipy import stats "
      ],
      "metadata": {
        "execution": {
          "iopub.status.busy": "2022-04-20T10:07:42.814917Z",
          "iopub.execute_input": "2022-04-20T10:07:42.815287Z",
          "iopub.status.idle": "2022-04-20T10:07:42.818749Z",
          "shell.execute_reply.started": "2022-04-20T10:07:42.815247Z",
          "shell.execute_reply": "2022-04-20T10:07:42.818159Z"
        },
        "trusted": true,
        "id": "9dA1VG60ZaLD"
      },
      "execution_count": null,
      "outputs": []
    },
    {
      "cell_type": "code",
      "source": [
        "df['alk_phosphate']  = (df.alk_phosphate - df.alk_phosphate.min()) / (df.alk_phosphate.max() - df.alk_phosphate.min())"
      ],
      "metadata": {
        "execution": {
          "iopub.status.busy": "2022-04-20T10:07:42.886465Z",
          "iopub.execute_input": "2022-04-20T10:07:42.886912Z",
          "iopub.status.idle": "2022-04-20T10:07:42.893682Z",
          "shell.execute_reply.started": "2022-04-20T10:07:42.886868Z",
          "shell.execute_reply": "2022-04-20T10:07:42.893058Z"
        },
        "trusted": true,
        "id": "K8aJVT8AZaLE"
      },
      "execution_count": null,
      "outputs": []
    },
    {
      "cell_type": "code",
      "source": [
        "df.alk_phosphate=df.alk_phosphate.round(2)"
      ],
      "metadata": {
        "execution": {
          "iopub.status.busy": "2022-04-20T10:07:43.116995Z",
          "iopub.execute_input": "2022-04-20T10:07:43.117252Z",
          "iopub.status.idle": "2022-04-20T10:07:43.122235Z",
          "shell.execute_reply.started": "2022-04-20T10:07:43.117207Z",
          "shell.execute_reply": "2022-04-20T10:07:43.121147Z"
        },
        "trusted": true,
        "id": "SV7RuQErZaLE"
      },
      "execution_count": null,
      "outputs": []
    },
    {
      "cell_type": "code",
      "source": [
        "sns.boxplot(x ='alk_phosphate', data=df)"
      ],
      "metadata": {
        "execution": {
          "iopub.status.busy": "2022-04-20T10:07:43.273315Z",
          "iopub.execute_input": "2022-04-20T10:07:43.273665Z",
          "iopub.status.idle": "2022-04-20T10:07:43.430554Z",
          "shell.execute_reply.started": "2022-04-20T10:07:43.273606Z",
          "shell.execute_reply": "2022-04-20T10:07:43.429633Z"
        },
        "trusted": true,
        "colab": {
          "base_uri": "https://localhost:8080/",
          "height": 519
        },
        "id": "tnPlgbURZaLE",
        "outputId": "b495b085-aa86-4b89-bc57-adf6d4c40ff0"
      },
      "execution_count": null,
      "outputs": [
        {
          "output_type": "execute_result",
          "data": {
            "text/plain": [
              "<matplotlib.axes._subplots.AxesSubplot at 0x7ff19d978250>"
            ]
          },
          "metadata": {},
          "execution_count": 21
        },
        {
          "output_type": "display_data",
          "data": {
            "text/plain": [
              "<Figure size 720x576 with 1 Axes>"
            ],
            "image/png": "[encoded data removed]"
          },
          "metadata": {}
        }
      ]
    },
    {
      "cell_type": "code",
      "source": [
        "df['age'] = pd.Categorical(df['age'])"
      ],
      "metadata": {
        "execution": {
          "iopub.status.busy": "2022-04-20T10:11:21.068669Z",
          "iopub.execute_input": "2022-04-20T10:11:21.069033Z",
          "iopub.status.idle": "2022-04-20T10:11:21.075914Z",
          "shell.execute_reply.started": "2022-04-20T10:11:21.068976Z",
          "shell.execute_reply": "2022-04-20T10:11:21.074958Z"
        },
        "trusted": true,
        "id": "KzdhRO9EZaLE"
      },
      "execution_count": null,
      "outputs": []
    },
    {
      "cell_type": "code",
      "source": [
        "dfDummies = pd.get_dummies(df['age'], prefix = 'age')"
      ],
      "metadata": {
        "execution": {
          "iopub.status.busy": "2022-04-20T10:11:21.555689Z",
          "iopub.execute_input": "2022-04-20T10:11:21.556248Z",
          "iopub.status.idle": "2022-04-20T10:11:21.562926Z",
          "shell.execute_reply.started": "2022-04-20T10:11:21.556133Z",
          "shell.execute_reply": "2022-04-20T10:11:21.561661Z"
        },
        "trusted": true,
        "id": "WArPWN6zZaLE"
      },
      "execution_count": null,
      "outputs": []
    },
    {
      "cell_type": "code",
      "source": [
        "df = pd.concat([df, dfDummies], axis=1)"
      ],
      "metadata": {
        "execution": {
          "iopub.status.busy": "2022-04-20T10:11:22.228769Z",
          "iopub.execute_input": "2022-04-20T10:11:22.229136Z",
          "iopub.status.idle": "2022-04-20T10:11:22.236878Z",
          "shell.execute_reply.started": "2022-04-20T10:11:22.229080Z",
          "shell.execute_reply": "2022-04-20T10:11:22.235965Z"
        },
        "trusted": true,
        "id": "Xn7uCqnwZaLE"
      },
      "execution_count": null,
      "outputs": []
    },
    {
      "cell_type": "code",
      "source": [
        "df.head(5)"
      ],
      "metadata": {
        "execution": {
          "iopub.status.busy": "2022-04-20T10:11:22.605809Z",
          "iopub.execute_input": "2022-04-20T10:11:22.606135Z",
          "iopub.status.idle": "2022-04-20T10:11:22.635783Z",
          "shell.execute_reply.started": "2022-04-20T10:11:22.606082Z",
          "shell.execute_reply": "2022-04-20T10:11:22.635144Z"
        },
        "trusted": true,
        "colab": {
          "base_uri": "https://localhost:8080/",
          "height": 235
        },
        "id": "h3MMY-T-ZaLF",
        "outputId": "a7d40653-616b-4658-8d1d-010506890565"
      },
      "execution_count": null,
      "outputs": [
        {
          "output_type": "execute_result",
          "data": {
            "text/plain": [
              "   class    age  sex  steroid  antivirals  fatigue  malaise  anorexia  \\\n",
              "0      2  Adult    2        1           2        2        2         2   \n",
              "1      2    Old    1        1           2        1        2         2   \n",
              "2      2    Old    1        2           2        1        2         2   \n",
              "3      2  Adult    1        2           2        2        2         2   \n",
              "4      2  Adult    1        2           2        2        2         2   \n",
              "\n",
              "   liver_big  liver_firm  ...  bilirubin  alk_phosphate  sgot  albumin  \\\n",
              "0          1           2  ...        1.0           0.22    18      4.0   \n",
              "1          1           2  ...        0.9           0.41    42      3.5   \n",
              "2          2           2  ...        0.7           0.26    32      4.0   \n",
              "3          2           2  ...        1.0           0.29   200      4.0   \n",
              "4          2           2  ...        0.9           0.26    28      4.0   \n",
              "\n",
              "   protime  histology  age_Adult  age_Old  age_Teenager  age_Young  \n",
              "0       61          1          1        0             0          0  \n",
              "1       61          1          0        1             0          0  \n",
              "2       61          1          0        1             0          0  \n",
              "3       61          1          1        0             0          0  \n",
              "4       75          1          1        0             0          0  \n",
              "\n",
              "[5 rows x 24 columns]"
            ],
            "text/html": [
              "\n",
              "  <div id=\"df-da115697-5ddc-4322-8e41-d0aa82b50b6e\">\n",
              "    <div class=\"colab-df-container\">\n",
              "      <div>\n",
              "<style scoped>\n",
              "    .dataframe tbody tr th:only-of-type {\n",
              "        vertical-align: middle;\n",
              "    }\n",
              "\n",
              "    .dataframe tbody tr th {\n",
              "        vertical-align: top;\n",
              "    }\n",
              "\n",
              "    .dataframe thead th {\n",
              "        text-align: right;\n",
              "    }\n",
              "</style>\n",
              "<table border=\"1\" class=\"dataframe\">\n",
              "  <thead>\n",
              "    <tr style=\"text-align: right;\">\n",
              "      <th></th>\n",
              "      <th>class</th>\n",
              "      <th>age</th>\n",
              "      <th>sex</th>\n",
              "      <th>steroid</th>\n",
              "      <th>antivirals</th>\n",
              "      <th>fatigue</th>\n",
              "      <th>malaise</th>\n",
              "      <th>anorexia</th>\n",
              "      <th>liver_big</th>\n",
              "      <th>liver_firm</th>\n",
              "      <th>...</th>\n",
              "      <th>bilirubin</th>\n",
              "      <th>alk_phosphate</th>\n",
              "      <th>sgot</th>\n",
              "      <th>albumin</th>\n",
              "      <th>protime</th>\n",
              "      <th>histology</th>\n",
              "      <th>age_Adult</th>\n",
              "      <th>age_Old</th>\n",
              "      <th>age_Teenager</th>\n",
              "      <th>age_Young</th>\n",
              "    </tr>\n",
              "  </thead>\n",
              "  <tbody>\n",
              "    <tr>\n",
              "      <th>0</th>\n",
              "      <td>2</td>\n",
              "      <td>Adult</td>\n",
              "      <td>2</td>\n",
              "      <td>1</td>\n",
              "      <td>2</td>\n",
              "      <td>2</td>\n",
              "      <td>2</td>\n",
              "      <td>2</td>\n",
              "      <td>1</td>\n",
              "      <td>2</td>\n",
              "      <td>...</td>\n",
              "      <td>1.0</td>\n",
              "      <td>0.22</td>\n",
              "      <td>18</td>\n",
              "      <td>4.0</td>\n",
              "      <td>61</td>\n",
              "      <td>1</td>\n",
              "      <td>1</td>\n",
              "      <td>0</td>\n",
              "      <td>0</td>\n",
              "      <td>0</td>\n",
              "    </tr>\n",
              "    <tr>\n",
              "      <th>1</th>\n",
              "      <td>2</td>\n",
              "      <td>Old</td>\n",
              "      <td>1</td>\n",
              "      <td>1</td>\n",
              "      <td>2</td>\n",
              "      <td>1</td>\n",
              "      <td>2</td>\n",
              "      <td>2</td>\n",
              "      <td>1</td>\n",
              "      <td>2</td>\n",
              "      <td>...</td>\n",
              "      <td>0.9</td>\n",
              "      <td>0.41</td>\n",
              "      <td>42</td>\n",
              "      <td>3.5</td>\n",
              "      <td>61</td>\n",
              "      <td>1</td>\n",
              "      <td>0</td>\n",
              "      <td>1</td>\n",
              "      <td>0</td>\n",
              "      <td>0</td>\n",
              "    </tr>\n",
              "    <tr>\n",
              "      <th>2</th>\n",
              "      <td>2</td>\n",
              "      <td>Old</td>\n",
              "      <td>1</td>\n",
              "      <td>2</td>\n",
              "      <td>2</td>\n",
              "      <td>1</td>\n",
              "      <td>2</td>\n",
              "      <td>2</td>\n",
              "      <td>2</td>\n",
              "      <td>2</td>\n",
              "      <td>...</td>\n",
              "      <td>0.7</td>\n",
              "      <td>0.26</td>\n",
              "      <td>32</td>\n",
              "      <td>4.0</td>\n",
              "      <td>61</td>\n",
              "      <td>1</td>\n",
              "      <td>0</td>\n",
              "      <td>1</td>\n",
              "      <td>0</td>\n",
              "      <td>0</td>\n",
              "    </tr>\n",
              "    <tr>\n",
              "      <th>3</th>\n",
              "      <td>2</td>\n",
              "      <td>Adult</td>\n",
              "      <td>1</td>\n",
              "      <td>2</td>\n",
              "      <td>2</td>\n",
              "      <td>2</td>\n",
              "      <td>2</td>\n",
              "      <td>2</td>\n",
              "      <td>2</td>\n",
              "      <td>2</td>\n",
              "      <td>...</td>\n",
              "      <td>1.0</td>\n",
              "      <td>0.29</td>\n",
              "      <td>200</td>\n",
              "      <td>4.0</td>\n",
              "      <td>61</td>\n",
              "      <td>1</td>\n",
              "      <td>1</td>\n",
              "      <td>0</td>\n",
              "      <td>0</td>\n",
              "      <td>0</td>\n",
              "    </tr>\n",
              "    <tr>\n",
              "      <th>4</th>\n",
              "      <td>2</td>\n",
              "      <td>Adult</td>\n",
              "      <td>1</td>\n",
              "      <td>2</td>\n",
              "      <td>2</td>\n",
              "      <td>2</td>\n",
              "      <td>2</td>\n",
              "      <td>2</td>\n",
              "      <td>2</td>\n",
              "      <td>2</td>\n",
              "      <td>...</td>\n",
              "      <td>0.9</td>\n",
              "      <td>0.26</td>\n",
              "      <td>28</td>\n",
              "      <td>4.0</td>\n",
              "      <td>75</td>\n",
              "      <td>1</td>\n",
              "      <td>1</td>\n",
              "      <td>0</td>\n",
              "      <td>0</td>\n",
              "      <td>0</td>\n",
              "    </tr>\n",
              "  </tbody>\n",
              "</table>\n",
              "<p>5 rows × 24 columns</p>\n",
              "</div>\n",
              "      <button class=\"colab-df-convert\" onclick=\"convertToInteractive('df-da115697-5ddc-4322-8e41-d0aa82b50b6e')\"\n",
              "              title=\"Convert this dataframe to an interactive table.\"\n",
              "              style=\"display:none;\">\n",
              "        \n",
              "  <svg xmlns=\"http://www.w3.org/2000/svg\" height=\"24px\"viewBox=\"0 0 24 24\"\n",
              "       width=\"24px\">\n",
              "    <path d=\"M0 0h24v24H0V0z\" fill=\"none\"/>\n",
              "    <path d=\"M18.56 5.44l.94 2.06.94-2.06 2.06-.94-2.06-.94-.94-2.06-.94 2.06-2.06.94zm-11 1L8.5 8.5l.94-2.06 2.06-.94-2.06-.94L8.5 2.5l-.94 2.06-2.06.94zm10 10l.94 2.06.94-2.06 2.06-.94-2.06-.94-.94-2.06-.94 2.06-2.06.94z\"/><path d=\"M17.41 7.96l-1.37-1.37c-.4-.4-.92-.59-1.43-.59-.52 0-1.04.2-1.43.59L10.3 9.45l-7.72 7.72c-.78.78-.78 2.05 0 2.83L4 21.41c.39.39.9.59 1.41.59.51 0 1.02-.2 1.41-.59l7.78-7.78 2.81-2.81c.8-.78.8-2.07 0-2.86zM5.41 20L4 18.59l7.72-7.72 1.47 1.35L5.41 20z\"/>\n",
              "  </svg>\n",
              "      </button>\n",
              "      \n",
              "  <style>\n",
              "    .colab-df-container {\n",
              "      display:flex;\n",
              "      flex-wrap:wrap;\n",
              "      gap: 12px;\n",
              "    }\n",
              "\n",
              "    .colab-df-convert {\n",
              "      background-color: #E8F0FE;\n",
              "      border: none;\n",
              "      border-radius: 50%;\n",
              "      cursor: pointer;\n",
              "      display: none;\n",
              "      fill: #1967D2;\n",
              "      height: 32px;\n",
              "      padding: 0 0 0 0;\n",
              "      width: 32px;\n",
              "    }\n",
              "\n",
              "    .colab-df-convert:hover {\n",
              "      background-color: #E2EBFA;\n",
              "      box-shadow: 0px 1px 2px rgba(60, 64, 67, 0.3), 0px 1px 3px 1px rgba(60, 64, 67, 0.15);\n",
              "      fill: #174EA6;\n",
              "    }\n",
              "\n",
              "    [theme=dark] .colab-df-convert {\n",
              "      background-color: #3B4455;\n",
              "      fill: #D2E3FC;\n",
              "    }\n",
              "\n",
              "    [theme=dark] .colab-df-convert:hover {\n",
              "      background-color: #434B5C;\n",
              "      box-shadow: 0px 1px 3px 1px rgba(0, 0, 0, 0.15);\n",
              "      filter: drop-shadow(0px 1px 2px rgba(0, 0, 0, 0.3));\n",
              "      fill: #FFFFFF;\n",
              "    }\n",
              "  </style>\n",
              "\n",
              "      <script>\n",
              "        const buttonEl =\n",
              "          document.querySelector('#df-da115697-5ddc-4322-8e41-d0aa82b50b6e button.colab-df-convert');\n",
              "        buttonEl.style.display =\n",
              "          google.colab.kernel.accessAllowed ? 'block' : 'none';\n",
              "\n",
              "        async function convertToInteractive(key) {\n",
              "          const element = document.querySelector('#df-da115697-5ddc-4322-8e41-d0aa82b50b6e');\n",
              "          const dataTable =\n",
              "            await google.colab.kernel.invokeFunction('convertToInteractive',\n",
              "                                                     [key], {});\n",
              "          if (!dataTable) return;\n",
              "\n",
              "          const docLinkHtml = 'Like what you see? Visit the ' +\n",
              "            '<a target=\"_blank\" href=https://colab.research.google.com/notebooks/data_table.ipynb>data table notebook</a>'\n",
              "            + ' to learn more about interactive tables.';\n",
              "          element.innerHTML = '';\n",
              "          dataTable['output_type'] = 'display_data';\n",
              "          await google.colab.output.renderOutput(dataTable, element);\n",
              "          const docLink = document.createElement('div');\n",
              "          docLink.innerHTML = docLinkHtml;\n",
              "          element.appendChild(docLink);\n",
              "        }\n",
              "      </script>\n",
              "    </div>\n",
              "  </div>\n",
              "  "
            ]
          },
          "metadata": {},
          "execution_count": 25
        }
      ]
    },
    {
      "cell_type": "code",
      "source": [
        "del df['age']"
      ],
      "metadata": {
        "execution": {
          "iopub.status.busy": "2022-04-20T10:11:22.775824Z",
          "iopub.execute_input": "2022-04-20T10:11:22.776288Z",
          "iopub.status.idle": "2022-04-20T10:11:22.780674Z",
          "shell.execute_reply.started": "2022-04-20T10:11:22.776243Z",
          "shell.execute_reply": "2022-04-20T10:11:22.779952Z"
        },
        "trusted": true,
        "id": "KaIlQvveZaLF"
      },
      "execution_count": null,
      "outputs": []
    },
    {
      "cell_type": "code",
      "source": [
        "sns.boxplot(x ='sgot', data=df)"
      ],
      "metadata": {
        "execution": {
          "iopub.status.busy": "2022-04-20T10:11:23.210410Z",
          "iopub.execute_input": "2022-04-20T10:11:23.210657Z",
          "iopub.status.idle": "2022-04-20T10:11:23.342106Z",
          "shell.execute_reply.started": "2022-04-20T10:11:23.210615Z",
          "shell.execute_reply": "2022-04-20T10:11:23.341150Z"
        },
        "trusted": true,
        "colab": {
          "base_uri": "https://localhost:8080/",
          "height": 519
        },
        "id": "Xqdw6imqZaLF",
        "outputId": "27a841d1-a6ed-413a-fe67-d5933c252fcf"
      },
      "execution_count": null,
      "outputs": [
        {
          "output_type": "execute_result",
          "data": {
            "text/plain": [
              "<matplotlib.axes._subplots.AxesSubplot at 0x7ff19d8ef390>"
            ]
          },
          "metadata": {},
          "execution_count": 27
        },
        {
          "output_type": "display_data",
          "data": {
            "text/plain": [
              "<Figure size 720x576 with 1 Axes>"
            ],
            "image/png": "[encoded data removed]"
          },
          "metadata": {}
        }
      ]
    },
    {
      "cell_type": "code",
      "source": [
        "df['sgot']  = (df.sgot - df.sgot.min()) / (df.sgot.max() - df.sgot.min())"
      ],
      "metadata": {
        "execution": {
          "iopub.status.busy": "2022-04-20T10:11:23.368776Z",
          "iopub.execute_input": "2022-04-20T10:11:23.369049Z",
          "iopub.status.idle": "2022-04-20T10:11:23.377338Z",
          "shell.execute_reply.started": "2022-04-20T10:11:23.369001Z",
          "shell.execute_reply": "2022-04-20T10:11:23.376471Z"
        },
        "trusted": true,
        "id": "uA8ui5LRZaLF"
      },
      "execution_count": null,
      "outputs": []
    },
    {
      "cell_type": "code",
      "source": [
        "df.sgot=df.sgot.round(2)"
      ],
      "metadata": {
        "execution": {
          "iopub.status.busy": "2022-04-20T10:11:23.604512Z",
          "iopub.execute_input": "2022-04-20T10:11:23.604977Z",
          "iopub.status.idle": "2022-04-20T10:11:23.609363Z",
          "shell.execute_reply.started": "2022-04-20T10:11:23.604935Z",
          "shell.execute_reply": "2022-04-20T10:11:23.608776Z"
        },
        "trusted": true,
        "id": "TBpWd_eZZaLF"
      },
      "execution_count": null,
      "outputs": []
    },
    {
      "cell_type": "code",
      "source": [
        "sns.boxplot(x ='sgot', data=df)"
      ],
      "metadata": {
        "execution": {
          "iopub.status.busy": "2022-04-20T10:11:23.891425Z",
          "iopub.execute_input": "2022-04-20T10:11:23.891924Z",
          "iopub.status.idle": "2022-04-20T10:11:24.049315Z",
          "shell.execute_reply.started": "2022-04-20T10:11:23.891873Z",
          "shell.execute_reply": "2022-04-20T10:11:24.048331Z"
        },
        "trusted": true,
        "colab": {
          "base_uri": "https://localhost:8080/",
          "height": 519
        },
        "id": "wOg9Lr0QZaLF",
        "outputId": "678722b3-d9de-4d6e-b767-89b93ce67549"
      },
      "execution_count": null,
      "outputs": [
        {
          "output_type": "execute_result",
          "data": {
            "text/plain": [
              "<matplotlib.axes._subplots.AxesSubplot at 0x7ff19d8c8350>"
            ]
          },
          "metadata": {},
          "execution_count": 30
        },
        {
          "output_type": "display_data",
          "data": {
            "text/plain": [
              "<Figure size 720x576 with 1 Axes>"
            ],
            "image/png": "[encoded data removed]"
          },
          "metadata": {}
        }
      ]
    },
    {
      "cell_type": "code",
      "source": [
        "df['bilirubin']  = (df.bilirubin - df.bilirubin.min()) / (df.bilirubin.max() - df.bilirubin.min())"
      ],
      "metadata": {
        "execution": {
          "iopub.status.busy": "2022-04-20T10:11:24.054555Z",
          "iopub.execute_input": "2022-04-20T10:11:24.054988Z",
          "iopub.status.idle": "2022-04-20T10:11:24.063298Z",
          "shell.execute_reply.started": "2022-04-20T10:11:24.054805Z",
          "shell.execute_reply": "2022-04-20T10:11:24.062571Z"
        },
        "trusted": true,
        "id": "lhTdUZfnZaLG"
      },
      "execution_count": null,
      "outputs": []
    },
    {
      "cell_type": "code",
      "source": [
        "df.bilirubin=df.bilirubin.round(2)"
      ],
      "metadata": {
        "execution": {
          "iopub.status.busy": "2022-04-20T10:11:24.160410Z",
          "iopub.execute_input": "2022-04-20T10:11:24.160635Z",
          "iopub.status.idle": "2022-04-20T10:11:24.167392Z",
          "shell.execute_reply.started": "2022-04-20T10:11:24.160590Z",
          "shell.execute_reply": "2022-04-20T10:11:24.166781Z"
        },
        "trusted": true,
        "id": "fKWZ8EfcZaLG"
      },
      "execution_count": null,
      "outputs": []
    },
    {
      "cell_type": "code",
      "source": [
        "df['protime']  = (df.protime - df.protime.min()) / (df.protime.max() - df.protime.min())\n",
        "df.protime=df.protime.round(2)"
      ],
      "metadata": {
        "execution": {
          "iopub.status.busy": "2022-04-20T10:11:24.340671Z",
          "iopub.execute_input": "2022-04-20T10:11:24.341093Z",
          "iopub.status.idle": "2022-04-20T10:11:24.347372Z",
          "shell.execute_reply.started": "2022-04-20T10:11:24.341051Z",
          "shell.execute_reply": "2022-04-20T10:11:24.346934Z"
        },
        "trusted": true,
        "id": "uMJXgCB5ZaLG"
      },
      "execution_count": null,
      "outputs": []
    },
    {
      "cell_type": "code",
      "source": [
        "df['albumin']  = (df.albumin - df.albumin.min()) / (df.albumin.max() - df.albumin.min())\n",
        "df.albumin=df.albumin.round(2)"
      ],
      "metadata": {
        "execution": {
          "iopub.status.busy": "2022-04-20T10:11:24.448540Z",
          "iopub.execute_input": "2022-04-20T10:11:24.449974Z",
          "iopub.status.idle": "2022-04-20T10:11:24.456048Z",
          "shell.execute_reply.started": "2022-04-20T10:11:24.449940Z",
          "shell.execute_reply": "2022-04-20T10:11:24.455459Z"
        },
        "trusted": true,
        "id": "_ZQJOD96ZaLG"
      },
      "execution_count": null,
      "outputs": []
    },
    {
      "cell_type": "code",
      "source": [
        "dfDummies = pd.get_dummies(df['sex'], prefix = 'sex')"
      ],
      "metadata": {
        "execution": {
          "iopub.status.busy": "2022-04-20T10:11:25.911690Z",
          "iopub.execute_input": "2022-04-20T10:11:25.911957Z",
          "iopub.status.idle": "2022-04-20T10:11:25.919217Z",
          "shell.execute_reply.started": "2022-04-20T10:11:25.911910Z",
          "shell.execute_reply": "2022-04-20T10:11:25.918657Z"
        },
        "trusted": true,
        "id": "YADk3IbyZaLG"
      },
      "execution_count": null,
      "outputs": []
    },
    {
      "cell_type": "code",
      "source": [
        "df = pd.concat([df, dfDummies], axis=1)"
      ],
      "metadata": {
        "execution": {
          "iopub.status.busy": "2022-04-20T10:11:26.078787Z",
          "iopub.execute_input": "2022-04-20T10:11:26.079159Z",
          "iopub.status.idle": "2022-04-20T10:11:26.084789Z",
          "shell.execute_reply.started": "2022-04-20T10:11:26.079117Z",
          "shell.execute_reply": "2022-04-20T10:11:26.084270Z"
        },
        "trusted": true,
        "id": "tpFgmQInZaLG"
      },
      "execution_count": null,
      "outputs": []
    },
    {
      "cell_type": "code",
      "source": [
        "del df['sex'];"
      ],
      "metadata": {
        "execution": {
          "iopub.status.busy": "2022-04-20T10:11:26.299755Z",
          "iopub.execute_input": "2022-04-20T10:11:26.300165Z",
          "iopub.status.idle": "2022-04-20T10:11:26.304866Z",
          "shell.execute_reply.started": "2022-04-20T10:11:26.300123Z",
          "shell.execute_reply": "2022-04-20T10:11:26.304248Z"
        },
        "trusted": true,
        "id": "gn7kViBAZaLG"
      },
      "execution_count": null,
      "outputs": []
    },
    {
      "cell_type": "code",
      "source": [
        "dfDummies = pd.get_dummies(df['steroid'], prefix = 'steroid')\n",
        "df = pd.concat([df, dfDummies], axis=1)\n",
        "del df['steroid'];"
      ],
      "metadata": {
        "execution": {
          "iopub.status.busy": "2022-04-20T10:11:26.489254Z",
          "iopub.execute_input": "2022-04-20T10:11:26.489616Z",
          "iopub.status.idle": "2022-04-20T10:11:26.497757Z",
          "shell.execute_reply.started": "2022-04-20T10:11:26.489571Z",
          "shell.execute_reply": "2022-04-20T10:11:26.496656Z"
        },
        "trusted": true,
        "id": "mn6FoT_WZaLG"
      },
      "execution_count": null,
      "outputs": []
    },
    {
      "cell_type": "code",
      "source": [
        "dfDummies = pd.get_dummies(df['antivirals'], prefix = 'antivirals')\n",
        "df = pd.concat([df, dfDummies], axis=1)\n",
        "del df['antivirals'];"
      ],
      "metadata": {
        "execution": {
          "iopub.status.busy": "2022-04-20T10:11:26.643898Z",
          "iopub.execute_input": "2022-04-20T10:11:26.644234Z",
          "iopub.status.idle": "2022-04-20T10:11:26.654008Z",
          "shell.execute_reply.started": "2022-04-20T10:11:26.644177Z",
          "shell.execute_reply": "2022-04-20T10:11:26.652974Z"
        },
        "trusted": true,
        "id": "E-fRJ4tpZaLH"
      },
      "execution_count": null,
      "outputs": []
    },
    {
      "cell_type": "code",
      "source": [
        "dfDummies = pd.get_dummies(df['fatigue'], prefix = 'fatigue')\n",
        "df = pd.concat([df, dfDummies], axis=1)\n",
        "del df['fatigue'];"
      ],
      "metadata": {
        "execution": {
          "iopub.status.busy": "2022-04-20T10:11:26.751536Z",
          "iopub.execute_input": "2022-04-20T10:11:26.752100Z",
          "iopub.status.idle": "2022-04-20T10:11:26.761142Z",
          "shell.execute_reply.started": "2022-04-20T10:11:26.752053Z",
          "shell.execute_reply": "2022-04-20T10:11:26.760553Z"
        },
        "trusted": true,
        "id": "KkLfpJxhZaLH"
      },
      "execution_count": null,
      "outputs": []
    },
    {
      "cell_type": "code",
      "source": [
        "dfDummies = pd.get_dummies(df['malaise'], prefix = 'malaise')\n",
        "df = pd.concat([df, dfDummies], axis=1)\n",
        "del df['malaise'];"
      ],
      "metadata": {
        "execution": {
          "iopub.status.busy": "2022-04-20T10:11:26.863103Z",
          "iopub.execute_input": "2022-04-20T10:11:26.863571Z",
          "iopub.status.idle": "2022-04-20T10:11:26.872295Z",
          "shell.execute_reply.started": "2022-04-20T10:11:26.863526Z",
          "shell.execute_reply": "2022-04-20T10:11:26.871480Z"
        },
        "trusted": true,
        "id": "sfja2QLpZaLH"
      },
      "execution_count": null,
      "outputs": []
    },
    {
      "cell_type": "code",
      "source": [
        "dfDummies = pd.get_dummies(df['anorexia'], prefix = 'anorexia')\n",
        "df = pd.concat([df, dfDummies], axis=1)\n",
        "del df['anorexia'];"
      ],
      "metadata": {
        "execution": {
          "iopub.status.busy": "2022-04-20T10:11:28.051130Z",
          "iopub.execute_input": "2022-04-20T10:11:28.051484Z",
          "iopub.status.idle": "2022-04-20T10:11:28.061511Z",
          "shell.execute_reply.started": "2022-04-20T10:11:28.051423Z",
          "shell.execute_reply": "2022-04-20T10:11:28.060643Z"
        },
        "trusted": true,
        "id": "j9E70vbHZaLH"
      },
      "execution_count": null,
      "outputs": []
    },
    {
      "cell_type": "code",
      "source": [
        "dfDummies = pd.get_dummies(df['spleen_palable'], prefix = 'spleen_palable')\n",
        "df = pd.concat([df, dfDummies], axis=1)\n",
        "del df['spleen_palable'];"
      ],
      "metadata": {
        "execution": {
          "iopub.status.busy": "2022-04-20T10:11:28.238348Z",
          "iopub.execute_input": "2022-04-20T10:11:28.238679Z",
          "iopub.status.idle": "2022-04-20T10:11:28.246512Z",
          "shell.execute_reply.started": "2022-04-20T10:11:28.238533Z",
          "shell.execute_reply": "2022-04-20T10:11:28.246066Z"
        },
        "trusted": true,
        "id": "HQR1H6FRZaLH"
      },
      "execution_count": null,
      "outputs": []
    },
    {
      "cell_type": "code",
      "source": [
        "dfDummies = pd.get_dummies(df['liver_big'], prefix = 'liver_big')\n",
        "df = pd.concat([df, dfDummies], axis=1)\n",
        "del df['liver_big'];"
      ],
      "metadata": {
        "execution": {
          "iopub.status.busy": "2022-04-20T10:11:28.349884Z",
          "iopub.execute_input": "2022-04-20T10:11:28.350205Z",
          "iopub.status.idle": "2022-04-20T10:11:28.359207Z",
          "shell.execute_reply.started": "2022-04-20T10:11:28.350173Z",
          "shell.execute_reply": "2022-04-20T10:11:28.358256Z"
        },
        "trusted": true,
        "id": "hZfzIpZFZaLH"
      },
      "execution_count": null,
      "outputs": []
    },
    {
      "cell_type": "code",
      "source": [
        "dfDummies = pd.get_dummies(df['liver_firm'], prefix = 'liver_firm')\n",
        "df = pd.concat([df, dfDummies], axis=1)\n",
        "del df['liver_firm'];"
      ],
      "metadata": {
        "execution": {
          "iopub.status.busy": "2022-04-20T10:11:29.756999Z",
          "iopub.execute_input": "2022-04-20T10:11:29.757242Z",
          "iopub.status.idle": "2022-04-20T10:11:29.765744Z",
          "shell.execute_reply.started": "2022-04-20T10:11:29.757200Z",
          "shell.execute_reply": "2022-04-20T10:11:29.764878Z"
        },
        "trusted": true,
        "id": "LmvkDNfrZaLI"
      },
      "execution_count": null,
      "outputs": []
    },
    {
      "cell_type": "code",
      "source": [
        "dfDummies = pd.get_dummies(df['spiders'], prefix = 'spiders')\n",
        "df = pd.concat([df, dfDummies], axis=1)\n",
        "del df['spiders'];"
      ],
      "metadata": {
        "execution": {
          "iopub.status.busy": "2022-04-20T10:11:29.925154Z",
          "iopub.execute_input": "2022-04-20T10:11:29.925500Z",
          "iopub.status.idle": "2022-04-20T10:11:29.935815Z",
          "shell.execute_reply.started": "2022-04-20T10:11:29.925440Z",
          "shell.execute_reply": "2022-04-20T10:11:29.934960Z"
        },
        "trusted": true,
        "id": "bRAfeeK2ZaLI"
      },
      "execution_count": null,
      "outputs": []
    },
    {
      "cell_type": "code",
      "source": [
        "dfDummies = pd.get_dummies(df['ascites'], prefix = 'ascites')\n",
        "df = pd.concat([df, dfDummies], axis=1)\n",
        "del df['ascites'];"
      ],
      "metadata": {
        "execution": {
          "iopub.status.busy": "2022-04-20T10:11:30.145780Z",
          "iopub.execute_input": "2022-04-20T10:11:30.146106Z",
          "iopub.status.idle": "2022-04-20T10:11:30.155849Z",
          "shell.execute_reply.started": "2022-04-20T10:11:30.146056Z",
          "shell.execute_reply": "2022-04-20T10:11:30.155173Z"
        },
        "trusted": true,
        "id": "U0yKghLMZaLI"
      },
      "execution_count": null,
      "outputs": []
    },
    {
      "cell_type": "code",
      "source": [
        "dfDummies = pd.get_dummies(df['varices'], prefix = 'varices')\n",
        "df = pd.concat([df, dfDummies], axis=1)\n",
        "del df['varices'];"
      ],
      "metadata": {
        "execution": {
          "iopub.status.busy": "2022-04-20T10:11:31.685089Z",
          "iopub.execute_input": "2022-04-20T10:11:31.685566Z",
          "iopub.status.idle": "2022-04-20T10:11:31.695136Z",
          "shell.execute_reply.started": "2022-04-20T10:11:31.685519Z",
          "shell.execute_reply": "2022-04-20T10:11:31.694162Z"
        },
        "trusted": true,
        "id": "lR1peos-ZaLI"
      },
      "execution_count": null,
      "outputs": []
    },
    {
      "cell_type": "code",
      "source": [
        "df[\"class\"].replace((1,2),(0,1),inplace=True)"
      ],
      "metadata": {
        "execution": {
          "iopub.status.busy": "2022-04-20T10:11:31.853940Z",
          "iopub.execute_input": "2022-04-20T10:11:31.854406Z",
          "iopub.status.idle": "2022-04-20T10:11:31.860173Z",
          "shell.execute_reply.started": "2022-04-20T10:11:31.854352Z",
          "shell.execute_reply": "2022-04-20T10:11:31.859125Z"
        },
        "trusted": true,
        "id": "BsV5V1S4ZaLI"
      },
      "execution_count": null,
      "outputs": []
    },
    {
      "cell_type": "code",
      "source": [
        "df[\"class\"]=df[\"class\"].astype(\"bool\")"
      ],
      "metadata": {
        "execution": {
          "iopub.status.busy": "2022-04-20T10:11:33.458121Z",
          "iopub.execute_input": "2022-04-20T10:11:33.458409Z",
          "iopub.status.idle": "2022-04-20T10:11:33.463061Z",
          "shell.execute_reply.started": "2022-04-20T10:11:33.458364Z",
          "shell.execute_reply": "2022-04-20T10:11:33.462444Z"
        },
        "trusted": true,
        "id": "aV4d1p4HZaLI"
      },
      "execution_count": null,
      "outputs": []
    },
    {
      "cell_type": "code",
      "source": [
        "df.describe()"
      ],
      "metadata": {
        "scrolled": true,
        "execution": {
          "iopub.status.busy": "2022-04-20T10:11:33.634643Z",
          "iopub.execute_input": "2022-04-20T10:11:33.635073Z",
          "iopub.status.idle": "2022-04-20T10:11:33.757957Z",
          "shell.execute_reply.started": "2022-04-20T10:11:33.635035Z",
          "shell.execute_reply": "2022-04-20T10:11:33.757338Z"
        },
        "trusted": true,
        "colab": {
          "base_uri": "https://localhost:8080/",
          "height": 393
        },
        "id": "evZbEDORZaLI",
        "outputId": "b2976a24-7579-4a3f-a9bc-9d07610d9a04"
      },
      "execution_count": null,
      "outputs": [
        {
          "output_type": "execute_result",
          "data": {
            "text/plain": [
              "        bilirubin  alk_phosphate        sgot     albumin     protime  \\\n",
              "count  142.000000     142.000000  142.000000  142.000000  142.000000   \n",
              "mean     0.140493       0.295563    0.109859    0.402958    0.617042   \n",
              "std      0.151888       0.176312    0.129724    0.143214    0.176967   \n",
              "min      0.000000       0.000000    0.000000    0.000000    0.000000   \n",
              "25%      0.050000       0.192500    0.030000    0.330000    0.562500   \n",
              "50%      0.090000       0.280000    0.070000    0.420000    0.610000   \n",
              "75%      0.157500       0.350000    0.137500    0.490000    0.660000   \n",
              "max      1.000000       1.000000    1.000000    1.000000    1.000000   \n",
              "\n",
              "        histology   age_Adult     age_Old  age_Teenager   age_Young  ...  \\\n",
              "count  142.000000  142.000000  142.000000    142.000000  142.000000  ...   \n",
              "mean     1.443662    0.443662    0.457746      0.007042    0.091549  ...   \n",
              "std      0.498575    0.498575    0.499975      0.083918    0.289410  ...   \n",
              "min      1.000000    0.000000    0.000000      0.000000    0.000000  ...   \n",
              "25%      1.000000    0.000000    0.000000      0.000000    0.000000  ...   \n",
              "50%      1.000000    0.000000    0.000000      0.000000    0.000000  ...   \n",
              "75%      2.000000    1.000000    1.000000      0.000000    0.000000  ...   \n",
              "max      2.000000    1.000000    1.000000      1.000000    1.000000  ...   \n",
              "\n",
              "       liver_big_1  liver_big_2  liver_firm_1  liver_firm_2   spiders_1  \\\n",
              "count   142.000000   142.000000    142.000000    142.000000  142.000000   \n",
              "mean      0.176056     0.823944      0.415493      0.584507    0.330986   \n",
              "std       0.382216     0.382216      0.494551      0.494551    0.472234   \n",
              "min       0.000000     0.000000      0.000000      0.000000    0.000000   \n",
              "25%       0.000000     1.000000      0.000000      0.000000    0.000000   \n",
              "50%       0.000000     1.000000      0.000000      1.000000    0.000000   \n",
              "75%       0.000000     1.000000      1.000000      1.000000    1.000000   \n",
              "max       1.000000     1.000000      1.000000      1.000000    1.000000   \n",
              "\n",
              "        spiders_2   ascites_1   ascites_2   varices_1   varices_2  \n",
              "count  142.000000  142.000000  142.000000  142.000000  142.000000  \n",
              "mean     0.669014    0.119718    0.880282    0.119718    0.880282  \n",
              "std      0.472234    0.325781    0.325781    0.325781    0.325781  \n",
              "min      0.000000    0.000000    0.000000    0.000000    0.000000  \n",
              "25%      0.000000    0.000000    1.000000    0.000000    1.000000  \n",
              "50%      1.000000    0.000000    1.000000    0.000000    1.000000  \n",
              "75%      1.000000    0.000000    1.000000    0.000000    1.000000  \n",
              "max      1.000000    1.000000    1.000000    1.000000    1.000000  \n",
              "\n",
              "[8 rows x 34 columns]"
            ],
            "text/html": [
              "\n",
              "  <div id=\"df-fdf2a1f7-e9db-4ea5-83a9-9e8e19387f6e\">\n",
              "    <div class=\"colab-df-container\">\n",
              "      <div>\n",
              "<style scoped>\n",
              "    .dataframe tbody tr th:only-of-type {\n",
              "        vertical-align: middle;\n",
              "    }\n",
              "\n",
              "    .dataframe tbody tr th {\n",
              "        vertical-align: top;\n",
              "    }\n",
              "\n",
              "    .dataframe thead th {\n",
              "        text-align: right;\n",
              "    }\n",
              "</style>\n",
              "<table border=\"1\" class=\"dataframe\">\n",
              "  <thead>\n",
              "    <tr style=\"text-align: right;\">\n",
              "      <th></th>\n",
              "      <th>bilirubin</th>\n",
              "      <th>alk_phosphate</th>\n",
              "      <th>sgot</th>\n",
              "      <th>albumin</th>\n",
              "      <th>protime</th>\n",
              "      <th>histology</th>\n",
              "      <th>age_Adult</th>\n",
              "      <th>age_Old</th>\n",
              "      <th>age_Teenager</th>\n",
              "      <th>age_Young</th>\n",
              "      <th>...</th>\n",
              "      <th>liver_big_1</th>\n",
              "      <th>liver_big_2</th>\n",
              "      <th>liver_firm_1</th>\n",
              "      <th>liver_firm_2</th>\n",
              "      <th>spiders_1</th>\n",
              "      <th>spiders_2</th>\n",
              "      <th>ascites_1</th>\n",
              "      <th>ascites_2</th>\n",
              "      <th>varices_1</th>\n",
              "      <th>varices_2</th>\n",
              "    </tr>\n",
              "  </thead>\n",
              "  <tbody>\n",
              "    <tr>\n",
              "      <th>count</th>\n",
              "      <td>142.000000</td>\n",
              "      <td>142.000000</td>\n",
              "      <td>142.000000</td>\n",
              "      <td>142.000000</td>\n",
              "      <td>142.000000</td>\n",
              "      <td>142.000000</td>\n",
              "      <td>142.000000</td>\n",
              "      <td>142.000000</td>\n",
              "      <td>142.000000</td>\n",
              "      <td>142.000000</td>\n",
              "      <td>...</td>\n",
              "      <td>142.000000</td>\n",
              "      <td>142.000000</td>\n",
              "      <td>142.000000</td>\n",
              "      <td>142.000000</td>\n",
              "      <td>142.000000</td>\n",
              "      <td>142.000000</td>\n",
              "      <td>142.000000</td>\n",
              "      <td>142.000000</td>\n",
              "      <td>142.000000</td>\n",
              "      <td>142.000000</td>\n",
              "    </tr>\n",
              "    <tr>\n",
              "      <th>mean</th>\n",
              "      <td>0.140493</td>\n",
              "      <td>0.295563</td>\n",
              "      <td>0.109859</td>\n",
              "      <td>0.402958</td>\n",
              "      <td>0.617042</td>\n",
              "      <td>1.443662</td>\n",
              "      <td>0.443662</td>\n",
              "      <td>0.457746</td>\n",
              "      <td>0.007042</td>\n",
              "      <td>0.091549</td>\n",
              "      <td>...</td>\n",
              "      <td>0.176056</td>\n",
              "      <td>0.823944</td>\n",
              "      <td>0.415493</td>\n",
              "      <td>0.584507</td>\n",
              "      <td>0.330986</td>\n",
              "      <td>0.669014</td>\n",
              "      <td>0.119718</td>\n",
              "      <td>0.880282</td>\n",
              "      <td>0.119718</td>\n",
              "      <td>0.880282</td>\n",
              "    </tr>\n",
              "    <tr>\n",
              "      <th>std</th>\n",
              "      <td>0.151888</td>\n",
              "      <td>0.176312</td>\n",
              "      <td>0.129724</td>\n",
              "      <td>0.143214</td>\n",
              "      <td>0.176967</td>\n",
              "      <td>0.498575</td>\n",
              "      <td>0.498575</td>\n",
              "      <td>0.499975</td>\n",
              "      <td>0.083918</td>\n",
              "      <td>0.289410</td>\n",
              "      <td>...</td>\n",
              "      <td>0.382216</td>\n",
              "      <td>0.382216</td>\n",
              "      <td>0.494551</td>\n",
              "      <td>0.494551</td>\n",
              "      <td>0.472234</td>\n",
              "      <td>0.472234</td>\n",
              "      <td>0.325781</td>\n",
              "      <td>0.325781</td>\n",
              "      <td>0.325781</td>\n",
              "      <td>0.325781</td>\n",
              "    </tr>\n",
              "    <tr>\n",
              "      <th>min</th>\n",
              "      <td>0.000000</td>\n",
              "      <td>0.000000</td>\n",
              "      <td>0.000000</td>\n",
              "      <td>0.000000</td>\n",
              "      <td>0.000000</td>\n",
              "      <td>1.000000</td>\n",
              "      <td>0.000000</td>\n",
              "      <td>0.000000</td>\n",
              "      <td>0.000000</td>\n",
              "      <td>0.000000</td>\n",
              "      <td>...</td>\n",
              "      <td>0.000000</td>\n",
              "      <td>0.000000</td>\n",
              "      <td>0.000000</td>\n",
              "      <td>0.000000</td>\n",
              "      <td>0.000000</td>\n",
              "      <td>0.000000</td>\n",
              "      <td>0.000000</td>\n",
              "      <td>0.000000</td>\n",
              "      <td>0.000000</td>\n",
              "      <td>0.000000</td>\n",
              "    </tr>\n",
              "    <tr>\n",
              "      <th>25%</th>\n",
              "      <td>0.050000</td>\n",
              "      <td>0.192500</td>\n",
              "      <td>0.030000</td>\n",
              "      <td>0.330000</td>\n",
              "      <td>0.562500</td>\n",
              "      <td>1.000000</td>\n",
              "      <td>0.000000</td>\n",
              "      <td>0.000000</td>\n",
              "      <td>0.000000</td>\n",
              "      <td>0.000000</td>\n",
              "      <td>...</td>\n",
              "      <td>0.000000</td>\n",
              "      <td>1.000000</td>\n",
              "      <td>0.000000</td>\n",
              "      <td>0.000000</td>\n",
              "      <td>0.000000</td>\n",
              "      <td>0.000000</td>\n",
              "      <td>0.000000</td>\n",
              "      <td>1.000000</td>\n",
              "      <td>0.000000</td>\n",
              "      <td>1.000000</td>\n",
              "    </tr>\n",
              "    <tr>\n",
              "      <th>50%</th>\n",
              "      <td>0.090000</td>\n",
              "      <td>0.280000</td>\n",
              "      <td>0.070000</td>\n",
              "      <td>0.420000</td>\n",
              "      <td>0.610000</td>\n",
              "      <td>1.000000</td>\n",
              "      <td>0.000000</td>\n",
              "      <td>0.000000</td>\n",
              "      <td>0.000000</td>\n",
              "      <td>0.000000</td>\n",
              "      <td>...</td>\n",
              "      <td>0.000000</td>\n",
              "      <td>1.000000</td>\n",
              "      <td>0.000000</td>\n",
              "      <td>1.000000</td>\n",
              "      <td>0.000000</td>\n",
              "      <td>1.000000</td>\n",
              "      <td>0.000000</td>\n",
              "      <td>1.000000</td>\n",
              "      <td>0.000000</td>\n",
              "      <td>1.000000</td>\n",
              "    </tr>\n",
              "    <tr>\n",
              "      <th>75%</th>\n",
              "      <td>0.157500</td>\n",
              "      <td>0.350000</td>\n",
              "      <td>0.137500</td>\n",
              "      <td>0.490000</td>\n",
              "      <td>0.660000</td>\n",
              "      <td>2.000000</td>\n",
              "      <td>1.000000</td>\n",
              "      <td>1.000000</td>\n",
              "      <td>0.000000</td>\n",
              "      <td>0.000000</td>\n",
              "      <td>...</td>\n",
              "      <td>0.000000</td>\n",
              "      <td>1.000000</td>\n",
              "      <td>1.000000</td>\n",
              "      <td>1.000000</td>\n",
              "      <td>1.000000</td>\n",
              "      <td>1.000000</td>\n",
              "      <td>0.000000</td>\n",
              "      <td>1.000000</td>\n",
              "      <td>0.000000</td>\n",
              "      <td>1.000000</td>\n",
              "    </tr>\n",
              "    <tr>\n",
              "      <th>max</th>\n",
              "      <td>1.000000</td>\n",
              "      <td>1.000000</td>\n",
              "      <td>1.000000</td>\n",
              "      <td>1.000000</td>\n",
              "      <td>1.000000</td>\n",
              "      <td>2.000000</td>\n",
              "      <td>1.000000</td>\n",
              "      <td>1.000000</td>\n",
              "      <td>1.000000</td>\n",
              "      <td>1.000000</td>\n",
              "      <td>...</td>\n",
              "      <td>1.000000</td>\n",
              "      <td>1.000000</td>\n",
              "      <td>1.000000</td>\n",
              "      <td>1.000000</td>\n",
              "      <td>1.000000</td>\n",
              "      <td>1.000000</td>\n",
              "      <td>1.000000</td>\n",
              "      <td>1.000000</td>\n",
              "      <td>1.000000</td>\n",
              "      <td>1.000000</td>\n",
              "    </tr>\n",
              "  </tbody>\n",
              "</table>\n",
              "<p>8 rows × 34 columns</p>\n",
              "</div>\n",
              "      <button class=\"colab-df-convert\" onclick=\"convertToInteractive('df-fdf2a1f7-e9db-4ea5-83a9-9e8e19387f6e')\"\n",
              "              title=\"Convert this dataframe to an interactive table.\"\n",
              "              style=\"display:none;\">\n",
              "        \n",
              "  <svg xmlns=\"http://www.w3.org/2000/svg\" height=\"24px\"viewBox=\"0 0 24 24\"\n",
              "       width=\"24px\">\n",
              "    <path d=\"M0 0h24v24H0V0z\" fill=\"none\"/>\n",
              "    <path d=\"M18.56 5.44l.94 2.06.94-2.06 2.06-.94-2.06-.94-.94-2.06-.94 2.06-2.06.94zm-11 1L8.5 8.5l.94-2.06 2.06-.94-2.06-.94L8.5 2.5l-.94 2.06-2.06.94zm10 10l.94 2.06.94-2.06 2.06-.94-2.06-.94-.94-2.06-.94 2.06-2.06.94z\"/><path d=\"M17.41 7.96l-1.37-1.37c-.4-.4-.92-.59-1.43-.59-.52 0-1.04.2-1.43.59L10.3 9.45l-7.72 7.72c-.78.78-.78 2.05 0 2.83L4 21.41c.39.39.9.59 1.41.59.51 0 1.02-.2 1.41-.59l7.78-7.78 2.81-2.81c.8-.78.8-2.07 0-2.86zM5.41 20L4 18.59l7.72-7.72 1.47 1.35L5.41 20z\"/>\n",
              "  </svg>\n",
              "      </button>\n",
              "      \n",
              "  <style>\n",
              "    .colab-df-container {\n",
              "      display:flex;\n",
              "      flex-wrap:wrap;\n",
              "      gap: 12px;\n",
              "    }\n",
              "\n",
              "    .colab-df-convert {\n",
              "      background-color: #E8F0FE;\n",
              "      border: none;\n",
              "      border-radius: 50%;\n",
              "      cursor: pointer;\n",
              "      display: none;\n",
              "      fill: #1967D2;\n",
              "      height: 32px;\n",
              "      padding: 0 0 0 0;\n",
              "      width: 32px;\n",
              "    }\n",
              "\n",
              "    .colab-df-convert:hover {\n",
              "      background-color: #E2EBFA;\n",
              "      box-shadow: 0px 1px 2px rgba(60, 64, 67, 0.3), 0px 1px 3px 1px rgba(60, 64, 67, 0.15);\n",
              "      fill: #174EA6;\n",
              "    }\n",
              "\n",
              "    [theme=dark] .colab-df-convert {\n",
              "      background-color: #3B4455;\n",
              "      fill: #D2E3FC;\n",
              "    }\n",
              "\n",
              "    [theme=dark] .colab-df-convert:hover {\n",
              "      background-color: #434B5C;\n",
              "      box-shadow: 0px 1px 3px 1px rgba(0, 0, 0, 0.15);\n",
              "      filter: drop-shadow(0px 1px 2px rgba(0, 0, 0, 0.3));\n",
              "      fill: #FFFFFF;\n",
              "    }\n",
              "  </style>\n",
              "\n",
              "      <script>\n",
              "        const buttonEl =\n",
              "          document.querySelector('#df-fdf2a1f7-e9db-4ea5-83a9-9e8e19387f6e button.colab-df-convert');\n",
              "        buttonEl.style.display =\n",
              "          google.colab.kernel.accessAllowed ? 'block' : 'none';\n",
              "\n",
              "        async function convertToInteractive(key) {\n",
              "          const element = document.querySelector('#df-fdf2a1f7-e9db-4ea5-83a9-9e8e19387f6e');\n",
              "          const dataTable =\n",
              "            await google.colab.kernel.invokeFunction('convertToInteractive',\n",
              "                                                     [key], {});\n",
              "          if (!dataTable) return;\n",
              "\n",
              "          const docLinkHtml = 'Like what you see? Visit the ' +\n",
              "            '<a target=\"_blank\" href=https://colab.research.google.com/notebooks/data_table.ipynb>data table notebook</a>'\n",
              "            + ' to learn more about interactive tables.';\n",
              "          element.innerHTML = '';\n",
              "          dataTable['output_type'] = 'display_data';\n",
              "          await google.colab.output.renderOutput(dataTable, element);\n",
              "          const docLink = document.createElement('div');\n",
              "          docLink.innerHTML = docLinkHtml;\n",
              "          element.appendChild(docLink);\n",
              "        }\n",
              "      </script>\n",
              "    </div>\n",
              "  </div>\n",
              "  "
            ]
          },
          "metadata": {},
          "execution_count": 51
        }
      ]
    },
    {
      "cell_type": "code",
      "source": [
        "df.dtypes"
      ],
      "metadata": {
        "colab": {
          "base_uri": "https://localhost:8080/"
        },
        "id": "wPoOwo06bz1Z",
        "outputId": "a0f7f038-b582-4e50-ec9d-3052bdce516a"
      },
      "execution_count": null,
      "outputs": [
        {
          "output_type": "execute_result",
          "data": {
            "text/plain": [
              "class                  bool\n",
              "bilirubin           float64\n",
              "alk_phosphate       float64\n",
              "sgot                float64\n",
              "albumin             float64\n",
              "protime             float64\n",
              "histology             int64\n",
              "age_Adult             uint8\n",
              "age_Old               uint8\n",
              "age_Teenager          uint8\n",
              "age_Young             uint8\n",
              "sex_1                 uint8\n",
              "sex_2                 uint8\n",
              "steroid_1             uint8\n",
              "steroid_2             uint8\n",
              "antivirals_1          uint8\n",
              "antivirals_2          uint8\n",
              "fatigue_1             uint8\n",
              "fatigue_2             uint8\n",
              "malaise_1             uint8\n",
              "malaise_2             uint8\n",
              "anorexia_1            uint8\n",
              "anorexia_2            uint8\n",
              "spleen_palable_1      uint8\n",
              "spleen_palable_2      uint8\n",
              "liver_big_1           uint8\n",
              "liver_big_2           uint8\n",
              "liver_firm_1          uint8\n",
              "liver_firm_2          uint8\n",
              "spiders_1             uint8\n",
              "spiders_2             uint8\n",
              "ascites_1             uint8\n",
              "ascites_2             uint8\n",
              "varices_1             uint8\n",
              "varices_2             uint8\n",
              "dtype: object"
            ]
          },
          "metadata": {},
          "execution_count": 52
        }
      ]
    },
    {
      "cell_type": "code",
      "source": [
        "# data[data.columns[:]].corr()['class'][:].sort_values(ascending=False)[:50]\n",
        "corrr_matrix = df[df.columns[:]].corr()['class'][:].sort_values(ascending=False)\n",
        "# display(corrr_matrix)\n",
        "top_10_features = corrr_matrix.index[:11]\n",
        "top_10_features\n",
        "# sns.heatmap(corrr_matrix[:16], annot=True, cmap='vlag')"
      ],
      "metadata": {
        "colab": {
          "base_uri": "https://localhost:8080/"
        },
        "id": "oHK5_IdXcklq",
        "outputId": "a32a2aca-31b8-44d5-a9ad-ff34e44a6b3e"
      },
      "execution_count": null,
      "outputs": [
        {
          "output_type": "execute_result",
          "data": {
            "text/plain": [
              "Index(['class', 'ascites_2', 'albumin', 'spiders_2', 'varices_2', 'malaise_2',\n",
              "       'protime', 'fatigue_2', 'spleen_palable_2', 'anorexia_2', 'sex_2'],\n",
              "      dtype='object')"
            ]
          },
          "metadata": {},
          "execution_count": 53
        }
      ]
    },
    {
      "cell_type": "code",
      "source": [
        ""
      ],
      "metadata": {
        "id": "VxBWMH71gnIR"
      },
      "execution_count": null,
      "outputs": []
    },
    {
      "cell_type": "code",
      "source": [
        "corr_matrix = df[top_10_features].corr()\n",
        "corr_matrix.rename(columns = {'sex_2':'gender'}, inplace = True)\n",
        "corr_matrix"
      ],
      "metadata": {
        "colab": {
          "base_uri": "https://localhost:8080/",
          "height": 394
        },
        "id": "QZuYCjNNcEMg",
        "outputId": "9cdc14fc-e16b-4dfc-836e-eb3924fa82d0"
      },
      "execution_count": null,
      "outputs": [
        {
          "output_type": "execute_result",
          "data": {
            "text/plain": [
              "                     class  ascites_2   albumin  spiders_2  varices_2  \\\n",
              "class             1.000000   0.498499  0.453842   0.402217   0.386317   \n",
              "ascites_2         0.498499   1.000000  0.554875   0.293804   0.398588   \n",
              "albumin           0.453842   0.554875  1.000000   0.293523   0.352703   \n",
              "spiders_2         0.402217   0.293804  0.293523   1.000000   0.386004   \n",
              "varices_2         0.386317   0.398588  0.352703   0.386004   1.000000   \n",
              "malaise_2         0.341807   0.336718  0.298824   0.343011   0.202660   \n",
              "protime           0.298737   0.287823  0.294454   0.238556   0.250918   \n",
              "fatigue_2         0.278514   0.276079  0.292033   0.370594   0.185645   \n",
              "spleen_palable_2  0.188224   0.042434  0.189869   0.269376   0.208278   \n",
              "anorexia_2        0.166678   0.189854  0.174526   0.311883   0.189854   \n",
              "sex_2             0.162705   0.126740  0.033014  -0.050403   0.056163   \n",
              "\n",
              "                  malaise_2   protime  fatigue_2  spleen_palable_2  \\\n",
              "class              0.341807  0.298737   0.278514          0.188224   \n",
              "ascites_2          0.336718  0.287823   0.276079          0.042434   \n",
              "albumin            0.298824  0.294454   0.292033          0.189869   \n",
              "spiders_2          0.343011  0.238556   0.370594          0.269376   \n",
              "varices_2          0.202660  0.250918   0.185645          0.208278   \n",
              "malaise_2          1.000000  0.183469   0.586435          0.027075   \n",
              "protime            0.183469  1.000000   0.194021          0.108906   \n",
              "fatigue_2          0.586435  0.194021   1.000000          0.175707   \n",
              "spleen_palable_2   0.027075  0.108906   0.175707          1.000000   \n",
              "anorexia_2         0.610718  0.029146   0.379249          0.066147   \n",
              "sex_2             -0.013959 -0.011126  -0.066254         -0.067021   \n",
              "\n",
              "                  anorexia_2    gender  \n",
              "class               0.166678  0.162705  \n",
              "ascites_2           0.189854  0.126740  \n",
              "albumin             0.174526  0.033014  \n",
              "spiders_2           0.311883 -0.050403  \n",
              "varices_2           0.189854  0.056163  \n",
              "malaise_2           0.610718 -0.013959  \n",
              "protime             0.029146 -0.011126  \n",
              "fatigue_2           0.379249 -0.066254  \n",
              "spleen_palable_2    0.066147 -0.067021  \n",
              "anorexia_2          1.000000  0.003602  \n",
              "sex_2               0.003602  1.000000  "
            ],
            "text/html": [
              "\n",
              "  <div id=\"df-1bd90888-284a-42ab-9ae6-02d47d6d312e\">\n",
              "    <div class=\"colab-df-container\">\n",
              "      <div>\n",
              "<style scoped>\n",
              "    .dataframe tbody tr th:only-of-type {\n",
              "        vertical-align: middle;\n",
              "    }\n",
              "\n",
              "    .dataframe tbody tr th {\n",
              "        vertical-align: top;\n",
              "    }\n",
              "\n",
              "    .dataframe thead th {\n",
              "        text-align: right;\n",
              "    }\n",
              "</style>\n",
              "<table border=\"1\" class=\"dataframe\">\n",
              "  <thead>\n",
              "    <tr style=\"text-align: right;\">\n",
              "      <th></th>\n",
              "      <th>class</th>\n",
              "      <th>ascites_2</th>\n",
              "      <th>albumin</th>\n",
              "      <th>spiders_2</th>\n",
              "      <th>varices_2</th>\n",
              "      <th>malaise_2</th>\n",
              "      <th>protime</th>\n",
              "      <th>fatigue_2</th>\n",
              "      <th>spleen_palable_2</th>\n",
              "      <th>anorexia_2</th>\n",
              "      <th>gender</th>\n",
              "    </tr>\n",
              "  </thead>\n",
              "  <tbody>\n",
              "    <tr>\n",
              "      <th>class</th>\n",
              "      <td>1.000000</td>\n",
              "      <td>0.498499</td>\n",
              "      <td>0.453842</td>\n",
              "      <td>0.402217</td>\n",
              "      <td>0.386317</td>\n",
              "      <td>0.341807</td>\n",
              "      <td>0.298737</td>\n",
              "      <td>0.278514</td>\n",
              "      <td>0.188224</td>\n",
              "      <td>0.166678</td>\n",
              "      <td>0.162705</td>\n",
              "    </tr>\n",
              "    <tr>\n",
              "      <th>ascites_2</th>\n",
              "      <td>0.498499</td>\n",
              "      <td>1.000000</td>\n",
              "      <td>0.554875</td>\n",
              "      <td>0.293804</td>\n",
              "      <td>0.398588</td>\n",
              "      <td>0.336718</td>\n",
              "      <td>0.287823</td>\n",
              "      <td>0.276079</td>\n",
              "      <td>0.042434</td>\n",
              "      <td>0.189854</td>\n",
              "      <td>0.126740</td>\n",
              "    </tr>\n",
              "    <tr>\n",
              "      <th>albumin</th>\n",
              "      <td>0.453842</td>\n",
              "      <td>0.554875</td>\n",
              "      <td>1.000000</td>\n",
              "      <td>0.293523</td>\n",
              "      <td>0.352703</td>\n",
              "      <td>0.298824</td>\n",
              "      <td>0.294454</td>\n",
              "      <td>0.292033</td>\n",
              "      <td>0.189869</td>\n",
              "      <td>0.174526</td>\n",
              "      <td>0.033014</td>\n",
              "    </tr>\n",
              "    <tr>\n",
              "      <th>spiders_2</th>\n",
              "      <td>0.402217</td>\n",
              "      <td>0.293804</td>\n",
              "      <td>0.293523</td>\n",
              "      <td>1.000000</td>\n",
              "      <td>0.386004</td>\n",
              "      <td>0.343011</td>\n",
              "      <td>0.238556</td>\n",
              "      <td>0.370594</td>\n",
              "      <td>0.269376</td>\n",
              "      <td>0.311883</td>\n",
              "      <td>-0.050403</td>\n",
              "    </tr>\n",
              "    <tr>\n",
              "      <th>varices_2</th>\n",
              "      <td>0.386317</td>\n",
              "      <td>0.398588</td>\n",
              "      <td>0.352703</td>\n",
              "      <td>0.386004</td>\n",
              "      <td>1.000000</td>\n",
              "      <td>0.202660</td>\n",
              "      <td>0.250918</td>\n",
              "      <td>0.185645</td>\n",
              "      <td>0.208278</td>\n",
              "      <td>0.189854</td>\n",
              "      <td>0.056163</td>\n",
              "    </tr>\n",
              "    <tr>\n",
              "      <th>malaise_2</th>\n",
              "      <td>0.341807</td>\n",
              "      <td>0.336718</td>\n",
              "      <td>0.298824</td>\n",
              "      <td>0.343011</td>\n",
              "      <td>0.202660</td>\n",
              "      <td>1.000000</td>\n",
              "      <td>0.183469</td>\n",
              "      <td>0.586435</td>\n",
              "      <td>0.027075</td>\n",
              "      <td>0.610718</td>\n",
              "      <td>-0.013959</td>\n",
              "    </tr>\n",
              "    <tr>\n",
              "      <th>protime</th>\n",
              "      <td>0.298737</td>\n",
              "      <td>0.287823</td>\n",
              "      <td>0.294454</td>\n",
              "      <td>0.238556</td>\n",
              "      <td>0.250918</td>\n",
              "      <td>0.183469</td>\n",
              "      <td>1.000000</td>\n",
              "      <td>0.194021</td>\n",
              "      <td>0.108906</td>\n",
              "      <td>0.029146</td>\n",
              "      <td>-0.011126</td>\n",
              "    </tr>\n",
              "    <tr>\n",
              "      <th>fatigue_2</th>\n",
              "      <td>0.278514</td>\n",
              "      <td>0.276079</td>\n",
              "      <td>0.292033</td>\n",
              "      <td>0.370594</td>\n",
              "      <td>0.185645</td>\n",
              "      <td>0.586435</td>\n",
              "      <td>0.194021</td>\n",
              "      <td>1.000000</td>\n",
              "      <td>0.175707</td>\n",
              "      <td>0.379249</td>\n",
              "      <td>-0.066254</td>\n",
              "    </tr>\n",
              "    <tr>\n",
              "      <th>spleen_palable_2</th>\n",
              "      <td>0.188224</td>\n",
              "      <td>0.042434</td>\n",
              "      <td>0.189869</td>\n",
              "      <td>0.269376</td>\n",
              "      <td>0.208278</td>\n",
              "      <td>0.027075</td>\n",
              "      <td>0.108906</td>\n",
              "      <td>0.175707</td>\n",
              "      <td>1.000000</td>\n",
              "      <td>0.066147</td>\n",
              "      <td>-0.067021</td>\n",
              "    </tr>\n",
              "    <tr>\n",
              "      <th>anorexia_2</th>\n",
              "      <td>0.166678</td>\n",
              "      <td>0.189854</td>\n",
              "      <td>0.174526</td>\n",
              "      <td>0.311883</td>\n",
              "      <td>0.189854</td>\n",
              "      <td>0.610718</td>\n",
              "      <td>0.029146</td>\n",
              "      <td>0.379249</td>\n",
              "      <td>0.066147</td>\n",
              "      <td>1.000000</td>\n",
              "      <td>0.003602</td>\n",
              "    </tr>\n",
              "    <tr>\n",
              "      <th>sex_2</th>\n",
              "      <td>0.162705</td>\n",
              "      <td>0.126740</td>\n",
              "      <td>0.033014</td>\n",
              "      <td>-0.050403</td>\n",
              "      <td>0.056163</td>\n",
              "      <td>-0.013959</td>\n",
              "      <td>-0.011126</td>\n",
              "      <td>-0.066254</td>\n",
              "      <td>-0.067021</td>\n",
              "      <td>0.003602</td>\n",
              "      <td>1.000000</td>\n",
              "    </tr>\n",
              "  </tbody>\n",
              "</table>\n",
              "</div>\n",
              "      <button class=\"colab-df-convert\" onclick=\"convertToInteractive('df-1bd90888-284a-42ab-9ae6-02d47d6d312e')\"\n",
              "              title=\"Convert this dataframe to an interactive table.\"\n",
              "              style=\"display:none;\">\n",
              "        \n",
              "  <svg xmlns=\"http://www.w3.org/2000/svg\" height=\"24px\"viewBox=\"0 0 24 24\"\n",
              "       width=\"24px\">\n",
              "    <path d=\"M0 0h24v24H0V0z\" fill=\"none\"/>\n",
              "    <path d=\"M18.56 5.44l.94 2.06.94-2.06 2.06-.94-2.06-.94-.94-2.06-.94 2.06-2.06.94zm-11 1L8.5 8.5l.94-2.06 2.06-.94-2.06-.94L8.5 2.5l-.94 2.06-2.06.94zm10 10l.94 2.06.94-2.06 2.06-.94-2.06-.94-.94-2.06-.94 2.06-2.06.94z\"/><path d=\"M17.41 7.96l-1.37-1.37c-.4-.4-.92-.59-1.43-.59-.52 0-1.04.2-1.43.59L10.3 9.45l-7.72 7.72c-.78.78-.78 2.05 0 2.83L4 21.41c.39.39.9.59 1.41.59.51 0 1.02-.2 1.41-.59l7.78-7.78 2.81-2.81c.8-.78.8-2.07 0-2.86zM5.41 20L4 18.59l7.72-7.72 1.47 1.35L5.41 20z\"/>\n",
              "  </svg>\n",
              "      </button>\n",
              "      \n",
              "  <style>\n",
              "    .colab-df-container {\n",
              "      display:flex;\n",
              "      flex-wrap:wrap;\n",
              "      gap: 12px;\n",
              "    }\n",
              "\n",
              "    .colab-df-convert {\n",
              "      background-color: #E8F0FE;\n",
              "      border: none;\n",
              "      border-radius: 50%;\n",
              "      cursor: pointer;\n",
              "      display: none;\n",
              "      fill: #1967D2;\n",
              "      height: 32px;\n",
              "      padding: 0 0 0 0;\n",
              "      width: 32px;\n",
              "    }\n",
              "\n",
              "    .colab-df-convert:hover {\n",
              "      background-color: #E2EBFA;\n",
              "      box-shadow: 0px 1px 2px rgba(60, 64, 67, 0.3), 0px 1px 3px 1px rgba(60, 64, 67, 0.15);\n",
              "      fill: #174EA6;\n",
              "    }\n",
              "\n",
              "    [theme=dark] .colab-df-convert {\n",
              "      background-color: #3B4455;\n",
              "      fill: #D2E3FC;\n",
              "    }\n",
              "\n",
              "    [theme=dark] .colab-df-convert:hover {\n",
              "      background-color: #434B5C;\n",
              "      box-shadow: 0px 1px 3px 1px rgba(0, 0, 0, 0.15);\n",
              "      filter: drop-shadow(0px 1px 2px rgba(0, 0, 0, 0.3));\n",
              "      fill: #FFFFFF;\n",
              "    }\n",
              "  </style>\n",
              "\n",
              "      <script>\n",
              "        const buttonEl =\n",
              "          document.querySelector('#df-1bd90888-284a-42ab-9ae6-02d47d6d312e button.colab-df-convert');\n",
              "        buttonEl.style.display =\n",
              "          google.colab.kernel.accessAllowed ? 'block' : 'none';\n",
              "\n",
              "        async function convertToInteractive(key) {\n",
              "          const element = document.querySelector('#df-1bd90888-284a-42ab-9ae6-02d47d6d312e');\n",
              "          const dataTable =\n",
              "            await google.colab.kernel.invokeFunction('convertToInteractive',\n",
              "                                                     [key], {});\n",
              "          if (!dataTable) return;\n",
              "\n",
              "          const docLinkHtml = 'Like what you see? Visit the ' +\n",
              "            '<a target=\"_blank\" href=https://colab.research.google.com/notebooks/data_table.ipynb>data table notebook</a>'\n",
              "            + ' to learn more about interactive tables.';\n",
              "          element.innerHTML = '';\n",
              "          dataTable['output_type'] = 'display_data';\n",
              "          await google.colab.output.renderOutput(dataTable, element);\n",
              "          const docLink = document.createElement('div');\n",
              "          docLink.innerHTML = docLinkHtml;\n",
              "          element.appendChild(docLink);\n",
              "        }\n",
              "      </script>\n",
              "    </div>\n",
              "  </div>\n",
              "  "
            ]
          },
          "metadata": {},
          "execution_count": 54
        }
      ]
    },
    {
      "cell_type": "code",
      "source": [
        ""
      ],
      "metadata": {
        "id": "J7NaBWYvfZF4"
      },
      "execution_count": null,
      "outputs": []
    },
    {
      "cell_type": "code",
      "source": [
        "top_5_features = corrr_matrix.index[1:6]"
      ],
      "metadata": {
        "id": "i3jhoCwJesKU"
      },
      "execution_count": null,
      "outputs": []
    },
    {
      "cell_type": "code",
      "source": [
        "top_5_features = list(top_5_features)\n",
        "top_5_df = df[top_5_features]"
      ],
      "metadata": {
        "id": "sb0JpeZTgNyv"
      },
      "execution_count": null,
      "outputs": []
    },
    {
      "cell_type": "code",
      "source": [
        "corr = df.corr()\n",
        "top_5_df = corr.iloc[:,1:6]\n",
        "# top_5_df"
      ],
      "metadata": {
        "id": "gzDoe7_5goVn"
      },
      "execution_count": null,
      "outputs": []
    },
    {
      "cell_type": "code",
      "source": [
        "sns.pairplot(top_5_df)"
      ],
      "metadata": {
        "colab": {
          "base_uri": "https://localhost:8080/",
          "height": 920
        },
        "id": "WP-43KiCiRwK",
        "outputId": "5c4a89fb-9610-460d-8972-cc8aeaad8894"
      },
      "execution_count": null,
      "outputs": [
        {
          "output_type": "execute_result",
          "data": {
            "text/plain": [
              "<seaborn.axisgrid.PairGrid at 0x7ff1955258d0>"
            ]
          },
          "metadata": {},
          "execution_count": 88
        },
        {
          "output_type": "display_data",
          "data": {
            "text/plain": [
              "<Figure size 900x900 with 30 Axes>"
            ],
            "image/png": "[encoded data removed]"
          },
          "metadata": {
            "needs_background": "light"
          }
        }
      ]
    },
    {
      "cell_type": "code",
      "source": [
        "corr_matrix.rename({'sex_2':'gender'},  inplace = True)"
      ],
      "metadata": {
        "id": "RRe0NItbgLg_"
      },
      "execution_count": null,
      "outputs": []
    },
    {
      "cell_type": "code",
      "source": [
        "type(corr)"
      ],
      "metadata": {
        "colab": {
          "base_uri": "https://localhost:8080/"
        },
        "id": "vx0JZ1-ggldW",
        "outputId": "56bfad70-e2eb-4833-f57a-adac3b9fb5e3"
      },
      "execution_count": null,
      "outputs": [
        {
          "output_type": "execute_result",
          "data": {
            "text/plain": [
              "pandas.core.frame.DataFrame"
            ]
          },
          "metadata": {},
          "execution_count": 84
        }
      ]
    },
    {
      "cell_type": "code",
      "source": [
        "plt.figure(figsize=(15,15))\n",
        "# plt.rcParams.update({'font.size': 18})\n",
        "# rankings_pd.rename(columns = {'test':'TEST'}, inplace = True)\n",
        "type(corrr_matrix)\n",
        "mask = np.triu(corr_matrix)\n",
        "# mask = np.triu(np.ones_like(matrix, dtype=bool))\n",
        "sns.heatmap(corr_matrix, annot=True, cmap='vlag', mask = mask, linewidths=3)\n",
        "# plt.savefig('correlation_matrix.png')\n",
        "# plt.show"
      ],
      "metadata": {
        "colab": {
          "base_uri": "https://localhost:8080/",
          "height": 968
        },
        "id": "ROBU4gLCdp7x",
        "outputId": "c6d6482d-5daf-49f5-c10b-906d986ce42c"
      },
      "execution_count": null,
      "outputs": [
        {
          "output_type": "execute_result",
          "data": {
            "text/plain": [
              "<matplotlib.axes._subplots.AxesSubplot at 0x7ff19d8d7ad0>"
            ]
          },
          "metadata": {},
          "execution_count": 56
        },
        {
          "output_type": "display_data",
          "data": {
            "text/plain": [
              "<Figure size 1080x1080 with 2 Axes>"
            ],
            "image/png": "[encoded data removed]"
          },
          "metadata": {}
        }
      ]
    },
    {
      "cell_type": "code",
      "source": [
        "from sklearn.ensemble import RandomForestClassifier\n",
        "from sklearn.model_selection import StratifiedKFold\n",
        "from sklearn.feature_selection import RFECV\n",
        "\n",
        "# Load classification dataset\n",
        "y = df['class'].copy()\n",
        "X = df.drop('class',axis=1)\n",
        "estimator = RandomForestClassifier()\n",
        "cv = StratifiedKFold(5)\n",
        "visualizer = RFECV(estimator, cv=cv, scoring='f1_weighted')\n",
        "visualizer.fit(X, y)        # Fit the data to the visualizer\n",
        "# visualizer.show()           # Finalize and render the figure"
      ],
      "metadata": {
        "execution": {
          "iopub.status.busy": "2022-04-20T10:11:35.398921Z",
          "iopub.execute_input": "2022-04-20T10:11:35.399335Z",
          "iopub.status.idle": "2022-04-20T10:11:39.446323Z",
          "shell.execute_reply.started": "2022-04-20T10:11:35.399298Z",
          "shell.execute_reply": "2022-04-20T10:11:39.445537Z"
        },
        "trusted": true,
        "colab": {
          "base_uri": "https://localhost:8080/"
        },
        "id": "Gt-xXkFNZaLJ",
        "outputId": "6af354c7-1eb2-468f-eb16-043d3af07f0b"
      },
      "execution_count": null,
      "outputs": [
        {
          "output_type": "execute_result",
          "data": {
            "text/plain": [
              "RFECV(cv=StratifiedKFold(n_splits=5, random_state=None, shuffle=False),\n",
              "      estimator=RandomForestClassifier(), scoring='f1_weighted')"
            ]
          },
          "metadata": {},
          "execution_count": 57
        }
      ]
    },
    {
      "cell_type": "code",
      "source": [
        "# print summaries for the selection of attributes\n",
        "print(visualizer.support_)\n",
        "print(visualizer.ranking_)\n",
        "#storing index of the false columns\n",
        "cols=[index for index,value in enumerate(visualizer.support_) if value == False] \n",
        "print(cols)\n",
        "features= X.columns\n",
        "print(features)"
      ],
      "metadata": {
        "execution": {
          "iopub.status.busy": "2022-04-20T10:11:39.447737Z",
          "iopub.execute_input": "2022-04-20T10:11:39.447997Z",
          "iopub.status.idle": "2022-04-20T10:11:39.455700Z",
          "shell.execute_reply.started": "2022-04-20T10:11:39.447954Z",
          "shell.execute_reply": "2022-04-20T10:11:39.454958Z"
        },
        "trusted": true,
        "id": "D8k9z1H3ZaLJ",
        "colab": {
          "base_uri": "https://localhost:8080/"
        },
        "outputId": "0d92f2b2-79f3-466c-d31c-b126a32cd317"
      },
      "execution_count": null,
      "outputs": [
        {
          "output_type": "stream",
          "name": "stdout",
          "text": [
            "[ True  True  True  True  True False False False False False False False\n",
            " False False False False False False False False False False False False\n",
            " False False False False  True False  True  True False False]\n",
            "[ 1  1  1  1  1  8 20  9 27 25 22 23 16 21 26 24 17 19  4 11 15 13  7 14\n",
            " 18 12 10  5  1  3  1  1  6  2]\n",
            "[5, 6, 7, 8, 9, 10, 11, 12, 13, 14, 15, 16, 17, 18, 19, 20, 21, 22, 23, 24, 25, 26, 27, 29, 32, 33]\n",
            "Index(['bilirubin', 'alk_phosphate', 'sgot', 'albumin', 'protime', 'histology',\n",
            "       'age_Adult', 'age_Old', 'age_Teenager', 'age_Young', 'sex_1', 'sex_2',\n",
            "       'steroid_1', 'steroid_2', 'antivirals_1', 'antivirals_2', 'fatigue_1',\n",
            "       'fatigue_2', 'malaise_1', 'malaise_2', 'anorexia_1', 'anorexia_2',\n",
            "       'spleen_palable_1', 'spleen_palable_2', 'liver_big_1', 'liver_big_2',\n",
            "       'liver_firm_1', 'liver_firm_2', 'spiders_1', 'spiders_2', 'ascites_1',\n",
            "       'ascites_2', 'varices_1', 'varices_2'],\n",
            "      dtype='object')\n"
          ]
        }
      ]
    },
    {
      "cell_type": "code",
      "source": [
        "sorted_features=pd.DataFrame(list(zip(features,visualizer.support_))).sort_values(by=1,ascending=False)\n",
        "print(sorted_features)"
      ],
      "metadata": {
        "execution": {
          "iopub.status.busy": "2022-04-20T10:11:39.456942Z",
          "iopub.execute_input": "2022-04-20T10:11:39.457230Z",
          "iopub.status.idle": "2022-04-20T10:11:39.473194Z",
          "shell.execute_reply.started": "2022-04-20T10:11:39.457164Z",
          "shell.execute_reply": "2022-04-20T10:11:39.472567Z"
        },
        "trusted": true,
        "id": "X9aFyc7NZaLJ",
        "colab": {
          "base_uri": "https://localhost:8080/"
        },
        "outputId": "2f103c64-a73a-4132-bad0-dff86a7b9efd"
      },
      "execution_count": null,
      "outputs": [
        {
          "output_type": "stream",
          "name": "stdout",
          "text": [
            "                   0      1\n",
            "0          bilirubin   True\n",
            "31         ascites_2   True\n",
            "1      alk_phosphate   True\n",
            "30         ascites_1   True\n",
            "28         spiders_1   True\n",
            "4            protime   True\n",
            "3            albumin   True\n",
            "2               sgot   True\n",
            "32         varices_1  False\n",
            "29         spiders_2  False\n",
            "19         malaise_2  False\n",
            "27      liver_firm_2  False\n",
            "26      liver_firm_1  False\n",
            "25       liver_big_2  False\n",
            "24       liver_big_1  False\n",
            "23  spleen_palable_2  False\n",
            "22  spleen_palable_1  False\n",
            "21        anorexia_2  False\n",
            "20        anorexia_1  False\n",
            "17         fatigue_2  False\n",
            "18         malaise_1  False\n",
            "16         fatigue_1  False\n",
            "15      antivirals_2  False\n",
            "14      antivirals_1  False\n",
            "13         steroid_2  False\n",
            "12         steroid_1  False\n",
            "11             sex_2  False\n",
            "10             sex_1  False\n",
            "9          age_Young  False\n",
            "8       age_Teenager  False\n",
            "7            age_Old  False\n",
            "6          age_Adult  False\n",
            "5          histology  False\n",
            "33         varices_2  False\n"
          ]
        }
      ]
    },
    {
      "cell_type": "code",
      "source": [
        "#dropping faetures that are not that informative column index starts from zero index\n",
        "X_after_dropping = X.drop(X.columns[cols],axis=1)\n",
        "print(\"Shape of X: \", X.shape)\n",
        "print(\"Shape of y: \", y.shape)\n",
        "features_orig= X.columns\n",
        "features_select=X_after_dropping.columns\n",
        "print(features_select)"
      ],
      "metadata": {
        "execution": {
          "iopub.status.busy": "2022-04-20T10:11:39.474124Z",
          "iopub.execute_input": "2022-04-20T10:11:39.474385Z",
          "iopub.status.idle": "2022-04-20T10:11:39.485614Z",
          "shell.execute_reply.started": "2022-04-20T10:11:39.474341Z",
          "shell.execute_reply": "2022-04-20T10:11:39.484927Z"
        },
        "trusted": true,
        "id": "hlxiePwrZaLJ",
        "colab": {
          "base_uri": "https://localhost:8080/"
        },
        "outputId": "5c95d747-2cef-4fd7-db96-dd81a782e15e"
      },
      "execution_count": null,
      "outputs": [
        {
          "output_type": "stream",
          "name": "stdout",
          "text": [
            "Shape of X:  (142, 34)\n",
            "Shape of y:  (142,)\n",
            "Index(['bilirubin', 'alk_phosphate', 'sgot', 'albumin', 'protime', 'spiders_1',\n",
            "       'ascites_1', 'ascites_2'],\n",
            "      dtype='object')\n"
          ]
        }
      ]
    },
    {
      "cell_type": "code",
      "source": [
        "X_after_dropping.head()"
      ],
      "metadata": {
        "execution": {
          "iopub.status.busy": "2022-04-20T10:11:40.937545Z",
          "iopub.execute_input": "2022-04-20T10:11:40.937769Z",
          "iopub.status.idle": "2022-04-20T10:11:40.964399Z",
          "shell.execute_reply.started": "2022-04-20T10:11:40.937739Z",
          "shell.execute_reply": "2022-04-20T10:11:40.963435Z"
        },
        "trusted": true,
        "id": "qfnK1H5dZaLJ",
        "colab": {
          "base_uri": "https://localhost:8080/",
          "height": 206
        },
        "outputId": "845f2954-df19-413f-c766-a08844d7edb2"
      },
      "execution_count": null,
      "outputs": [
        {
          "output_type": "execute_result",
          "data": {
            "text/plain": [
              "   bilirubin  alk_phosphate  sgot  albumin  protime  spiders_1  ascites_1  \\\n",
              "0       0.09           0.22  0.01     0.44     0.61          0          0   \n",
              "1       0.08           0.41  0.04     0.33     0.61          0          0   \n",
              "2       0.05           0.26  0.03     0.44     0.61          0          0   \n",
              "3       0.09           0.29  0.29     0.44     0.61          0          0   \n",
              "4       0.08           0.26  0.02     0.44     0.75          0          0   \n",
              "\n",
              "   ascites_2  \n",
              "0          1  \n",
              "1          1  \n",
              "2          1  \n",
              "3          1  \n",
              "4          1  "
            ],
            "text/html": [
              "\n",
              "  <div id=\"df-e5e3e759-11e4-4b8c-95ad-f49220a720be\">\n",
              "    <div class=\"colab-df-container\">\n",
              "      <div>\n",
              "<style scoped>\n",
              "    .dataframe tbody tr th:only-of-type {\n",
              "        vertical-align: middle;\n",
              "    }\n",
              "\n",
              "    .dataframe tbody tr th {\n",
              "        vertical-align: top;\n",
              "    }\n",
              "\n",
              "    .dataframe thead th {\n",
              "        text-align: right;\n",
              "    }\n",
              "</style>\n",
              "<table border=\"1\" class=\"dataframe\">\n",
              "  <thead>\n",
              "    <tr style=\"text-align: right;\">\n",
              "      <th></th>\n",
              "      <th>bilirubin</th>\n",
              "      <th>alk_phosphate</th>\n",
              "      <th>sgot</th>\n",
              "      <th>albumin</th>\n",
              "      <th>protime</th>\n",
              "      <th>spiders_1</th>\n",
              "      <th>ascites_1</th>\n",
              "      <th>ascites_2</th>\n",
              "    </tr>\n",
              "  </thead>\n",
              "  <tbody>\n",
              "    <tr>\n",
              "      <th>0</th>\n",
              "      <td>0.09</td>\n",
              "      <td>0.22</td>\n",
              "      <td>0.01</td>\n",
              "      <td>0.44</td>\n",
              "      <td>0.61</td>\n",
              "      <td>0</td>\n",
              "      <td>0</td>\n",
              "      <td>1</td>\n",
              "    </tr>\n",
              "    <tr>\n",
              "      <th>1</th>\n",
              "      <td>0.08</td>\n",
              "      <td>0.41</td>\n",
              "      <td>0.04</td>\n",
              "      <td>0.33</td>\n",
              "      <td>0.61</td>\n",
              "      <td>0</td>\n",
              "      <td>0</td>\n",
              "      <td>1</td>\n",
              "    </tr>\n",
              "    <tr>\n",
              "      <th>2</th>\n",
              "      <td>0.05</td>\n",
              "      <td>0.26</td>\n",
              "      <td>0.03</td>\n",
              "      <td>0.44</td>\n",
              "      <td>0.61</td>\n",
              "      <td>0</td>\n",
              "      <td>0</td>\n",
              "      <td>1</td>\n",
              "    </tr>\n",
              "    <tr>\n",
              "      <th>3</th>\n",
              "      <td>0.09</td>\n",
              "      <td>0.29</td>\n",
              "      <td>0.29</td>\n",
              "      <td>0.44</td>\n",
              "      <td>0.61</td>\n",
              "      <td>0</td>\n",
              "      <td>0</td>\n",
              "      <td>1</td>\n",
              "    </tr>\n",
              "    <tr>\n",
              "      <th>4</th>\n",
              "      <td>0.08</td>\n",
              "      <td>0.26</td>\n",
              "      <td>0.02</td>\n",
              "      <td>0.44</td>\n",
              "      <td>0.75</td>\n",
              "      <td>0</td>\n",
              "      <td>0</td>\n",
              "      <td>1</td>\n",
              "    </tr>\n",
              "  </tbody>\n",
              "</table>\n",
              "</div>\n",
              "      <button class=\"colab-df-convert\" onclick=\"convertToInteractive('df-e5e3e759-11e4-4b8c-95ad-f49220a720be')\"\n",
              "              title=\"Convert this dataframe to an interactive table.\"\n",
              "              style=\"display:none;\">\n",
              "        \n",
              "  <svg xmlns=\"http://www.w3.org/2000/svg\" height=\"24px\"viewBox=\"0 0 24 24\"\n",
              "       width=\"24px\">\n",
              "    <path d=\"M0 0h24v24H0V0z\" fill=\"none\"/>\n",
              "    <path d=\"M18.56 5.44l.94 2.06.94-2.06 2.06-.94-2.06-.94-.94-2.06-.94 2.06-2.06.94zm-11 1L8.5 8.5l.94-2.06 2.06-.94-2.06-.94L8.5 2.5l-.94 2.06-2.06.94zm10 10l.94 2.06.94-2.06 2.06-.94-2.06-.94-.94-2.06-.94 2.06-2.06.94z\"/><path d=\"M17.41 7.96l-1.37-1.37c-.4-.4-.92-.59-1.43-.59-.52 0-1.04.2-1.43.59L10.3 9.45l-7.72 7.72c-.78.78-.78 2.05 0 2.83L4 21.41c.39.39.9.59 1.41.59.51 0 1.02-.2 1.41-.59l7.78-7.78 2.81-2.81c.8-.78.8-2.07 0-2.86zM5.41 20L4 18.59l7.72-7.72 1.47 1.35L5.41 20z\"/>\n",
              "  </svg>\n",
              "      </button>\n",
              "      \n",
              "  <style>\n",
              "    .colab-df-container {\n",
              "      display:flex;\n",
              "      flex-wrap:wrap;\n",
              "      gap: 12px;\n",
              "    }\n",
              "\n",
              "    .colab-df-convert {\n",
              "      background-color: #E8F0FE;\n",
              "      border: none;\n",
              "      border-radius: 50%;\n",
              "      cursor: pointer;\n",
              "      display: none;\n",
              "      fill: #1967D2;\n",
              "      height: 32px;\n",
              "      padding: 0 0 0 0;\n",
              "      width: 32px;\n",
              "    }\n",
              "\n",
              "    .colab-df-convert:hover {\n",
              "      background-color: #E2EBFA;\n",
              "      box-shadow: 0px 1px 2px rgba(60, 64, 67, 0.3), 0px 1px 3px 1px rgba(60, 64, 67, 0.15);\n",
              "      fill: #174EA6;\n",
              "    }\n",
              "\n",
              "    [theme=dark] .colab-df-convert {\n",
              "      background-color: #3B4455;\n",
              "      fill: #D2E3FC;\n",
              "    }\n",
              "\n",
              "    [theme=dark] .colab-df-convert:hover {\n",
              "      background-color: #434B5C;\n",
              "      box-shadow: 0px 1px 3px 1px rgba(0, 0, 0, 0.15);\n",
              "      filter: drop-shadow(0px 1px 2px rgba(0, 0, 0, 0.3));\n",
              "      fill: #FFFFFF;\n",
              "    }\n",
              "  </style>\n",
              "\n",
              "      <script>\n",
              "        const buttonEl =\n",
              "          document.querySelector('#df-e5e3e759-11e4-4b8c-95ad-f49220a720be button.colab-df-convert');\n",
              "        buttonEl.style.display =\n",
              "          google.colab.kernel.accessAllowed ? 'block' : 'none';\n",
              "\n",
              "        async function convertToInteractive(key) {\n",
              "          const element = document.querySelector('#df-e5e3e759-11e4-4b8c-95ad-f49220a720be');\n",
              "          const dataTable =\n",
              "            await google.colab.kernel.invokeFunction('convertToInteractive',\n",
              "                                                     [key], {});\n",
              "          if (!dataTable) return;\n",
              "\n",
              "          const docLinkHtml = 'Like what you see? Visit the ' +\n",
              "            '<a target=\"_blank\" href=https://colab.research.google.com/notebooks/data_table.ipynb>data table notebook</a>'\n",
              "            + ' to learn more about interactive tables.';\n",
              "          element.innerHTML = '';\n",
              "          dataTable['output_type'] = 'display_data';\n",
              "          await google.colab.output.renderOutput(dataTable, element);\n",
              "          const docLink = document.createElement('div');\n",
              "          docLink.innerHTML = docLinkHtml;\n",
              "          element.appendChild(docLink);\n",
              "        }\n",
              "      </script>\n",
              "    </div>\n",
              "  </div>\n",
              "  "
            ]
          },
          "metadata": {},
          "execution_count": 61
        }
      ]
    },
    {
      "cell_type": "code",
      "source": [
        "#create train-test split parts for manual split\n",
        "trainX, testX, trainy, testy= skm.train_test_split(X_after_dropping, y, test_size=0.25, random_state=99)\n",
        "print(\"\\n Shape of train split: \")\n",
        "print(trainX.shape, trainy.shape)\n",
        "print(\"\\n Shape of test split: \")\n",
        "print(testX.shape, testy.shape)"
      ],
      "metadata": {
        "execution": {
          "iopub.status.busy": "2022-04-20T10:11:41.180586Z",
          "iopub.execute_input": "2022-04-20T10:11:41.180809Z",
          "iopub.status.idle": "2022-04-20T10:11:41.189296Z",
          "shell.execute_reply.started": "2022-04-20T10:11:41.180779Z",
          "shell.execute_reply": "2022-04-20T10:11:41.188092Z"
        },
        "trusted": true,
        "id": "bS2SoCuJZaLJ",
        "colab": {
          "base_uri": "https://localhost:8080/"
        },
        "outputId": "6c18cf31-8582-44cc-c46e-8006469f9ed5"
      },
      "execution_count": null,
      "outputs": [
        {
          "output_type": "stream",
          "name": "stdout",
          "text": [
            "\n",
            " Shape of train split: \n",
            "(106, 8) (106,)\n",
            "\n",
            " Shape of test split: \n",
            "(36, 8) (36,)\n"
          ]
        }
      ]
    },
    {
      "cell_type": "code",
      "source": [
        "# Random Forest\n",
        "clf = RandomForestClassifier(n_estimators=50)\n",
        "clf.fit(trainX,trainy)\n",
        "\n",
        "predictions = clf.predict(testX)\n",
        "\n",
        "acc_RF = accuracy_score(testy, predictions)*100\n",
        "print('Accuracy of Random Forest (%): \\n',acc_RF)\n",
        "      \n",
        "\n",
        "fpr1 , tpr1, _ = roc_curve(testy, predictions)\n",
        "auc_RF = auc(fpr1, tpr1)*100\n",
        "print(\"AUC of Random Forest (%): \\n\", auc_RF)\n",
        "\n",
        "pre_RF = precision_score(testy,predictions)\n",
        "print('Precision Score (%): \\n',pre_RF )\n",
        "rec_RF = recall_score(testy,predictions)\n",
        "print('Recall Score (%): \\n', rec_RF)"
      ],
      "metadata": {
        "execution": {
          "iopub.status.busy": "2022-04-20T10:11:41.471021Z",
          "iopub.execute_input": "2022-04-20T10:11:41.471242Z",
          "iopub.status.idle": "2022-04-20T10:11:41.548468Z",
          "shell.execute_reply.started": "2022-04-20T10:11:41.471212Z",
          "shell.execute_reply": "2022-04-20T10:11:41.547950Z"
        },
        "trusted": true,
        "id": "e7crJWNxZaLJ",
        "colab": {
          "base_uri": "https://localhost:8080/"
        },
        "outputId": "9c2cfa54-c8bd-423f-cb23-adbe282df70e"
      },
      "execution_count": null,
      "outputs": [
        {
          "output_type": "stream",
          "name": "stdout",
          "text": [
            "Accuracy of Random Forest (%): \n",
            " 80.55555555555556\n",
            "AUC of Random Forest (%): \n",
            " 60.83743842364531\n",
            "Precision Score (%): \n",
            " 0.84375\n",
            "Recall Score (%): \n",
            " 0.9310344827586207\n"
          ]
        }
      ]
    },
    {
      "cell_type": "code",
      "source": [
        "#confusion matrix\n",
        "from sklearn.metrics import confusion_matrix\n",
        "# ConfusionMatrixDisplay.from_estimator(clf, X_test, y_test)\n",
        "cm = confusion_matrix(testy, predictions)\n",
        "\n",
        "ax= plt.subplot()\n",
        "sns.heatmap(cm, annot=True, fmt='g', ax=ax);  #annot=True to annotate cells, ftm='g' to disable scientific notation\n",
        "\n",
        "# labels, title and ticks\n",
        "ax.set_xlabel('Predicted labels');ax.set_ylabel('True labels'); \n",
        "ax.set_title('RandomForestConfusion Matrix'); "
      ],
      "metadata": {
        "execution": {
          "iopub.status.busy": "2022-04-20T10:13:59.680572Z",
          "iopub.execute_input": "2022-04-20T10:13:59.681036Z",
          "iopub.status.idle": "2022-04-20T10:13:59.885674Z",
          "shell.execute_reply.started": "2022-04-20T10:13:59.680996Z",
          "shell.execute_reply": "2022-04-20T10:13:59.884679Z"
        },
        "trusted": true,
        "id": "Noy1Ru5FZaLK",
        "colab": {
          "base_uri": "https://localhost:8080/",
          "height": 518
        },
        "outputId": "79eae3b5-cce2-4b7b-bded-5fbaf3832d4d"
      },
      "execution_count": null,
      "outputs": [
        {
          "output_type": "display_data",
          "data": {
            "text/plain": [
              "<Figure size 720x576 with 2 Axes>"
            ],
            "image/png": "[encoded data removed]"
          },
          "metadata": {}
        }
      ]
    },
    {
      "cell_type": "code",
      "source": [
        "mlp_gs = MLPClassifier(max_iter=200)\n",
        "parameter_space = {\n",
        "    'hidden_layer_sizes': [(10,30,10),(20,)],\n",
        "    'activation': ['tanh', 'relu'],\n",
        "    'solver': ['sgd', 'adam'],\n",
        "    'alpha': [0.0001, 0.05],\n",
        "    'learning_rate': ['constant','adaptive'],\n",
        "}\n",
        "from sklearn.model_selection import GridSearchCV\n",
        "clf = GridSearchCV(mlp_gs, parameter_space, n_jobs=-1, cv=5)\n",
        "clf.fit(trainX,trainy)"
      ],
      "metadata": {
        "execution": {
          "iopub.status.busy": "2022-04-20T10:14:10.627103Z",
          "iopub.execute_input": "2022-04-20T10:14:10.627445Z",
          "iopub.status.idle": "2022-04-20T10:14:19.553641Z",
          "shell.execute_reply.started": "2022-04-20T10:14:10.627388Z",
          "shell.execute_reply": "2022-04-20T10:14:19.552798Z"
        },
        "trusted": true,
        "id": "k0zxpYHyZaLK",
        "colab": {
          "base_uri": "https://localhost:8080/"
        },
        "outputId": "5e8a4dff-5fb3-499c-e9c3-090e722cb6e9"
      },
      "execution_count": null,
      "outputs": [
        {
          "output_type": "stream",
          "name": "stderr",
          "text": [
            "/usr/local/lib/python3.7/dist-packages/sklearn/neural_network/_multilayer_perceptron.py:696: ConvergenceWarning: Stochastic Optimizer: Maximum iterations (200) reached and the optimization hasn't converged yet.\n",
            "  ConvergenceWarning,\n"
          ]
        },
        {
          "output_type": "execute_result",
          "data": {
            "text/plain": [
              "GridSearchCV(cv=5, estimator=MLPClassifier(), n_jobs=-1,\n",
              "             param_grid={'activation': ['tanh', 'relu'],\n",
              "                         'alpha': [0.0001, 0.05],\n",
              "                         'hidden_layer_sizes': [(10, 30, 10), (20,)],\n",
              "                         'learning_rate': ['constant', 'adaptive'],\n",
              "                         'solver': ['sgd', 'adam']})"
            ]
          },
          "metadata": {},
          "execution_count": 65
        }
      ]
    },
    {
      "cell_type": "code",
      "source": [
        "print('Best parameters found:\\n', clf.best_params_)"
      ],
      "metadata": {
        "execution": {
          "iopub.status.busy": "2022-04-20T10:14:19.555628Z",
          "iopub.execute_input": "2022-04-20T10:14:19.556085Z",
          "iopub.status.idle": "2022-04-20T10:14:19.562150Z",
          "shell.execute_reply.started": "2022-04-20T10:14:19.556030Z",
          "shell.execute_reply": "2022-04-20T10:14:19.561108Z"
        },
        "trusted": true,
        "id": "IPpCgj8ZZaLK",
        "colab": {
          "base_uri": "https://localhost:8080/"
        },
        "outputId": "e89ec05a-ec13-4ccf-aaa2-1607488d18c1"
      },
      "execution_count": null,
      "outputs": [
        {
          "output_type": "stream",
          "name": "stdout",
          "text": [
            "Best parameters found:\n",
            " {'activation': 'relu', 'alpha': 0.05, 'hidden_layer_sizes': (10, 30, 10), 'learning_rate': 'constant', 'solver': 'adam'}\n"
          ]
        }
      ]
    },
    {
      "cell_type": "code",
      "source": [
        "\n",
        "clf = MLPClassifier(solver='lbfgs',hidden_layer_sizes=20,batch_size=200,max_iter=200, random_state=1)\n",
        "clf.fit(trainX,trainy)\n",
        "predictions = clf.predict(testX)\n",
        "\n",
        "acc_NN = accuracy_score(testy, predictions)*100\n",
        "print('Accuracy of MLP/Neural Network (%): \\n',acc_NN)\n",
        "      \n",
        "\n",
        "fpr2 , tpr2, _ = roc_curve(testy, predictions)\n",
        "auc_NN = auc(fpr2, tpr2)*100\n",
        "print(\"AUC of MLP/Neural Network (%): \\n\", auc_NN)\n",
        "\n",
        "pre_NN = precision_score(testy,predictions)\n",
        "print('Precision Score (%): \\n',pre_NN )\n",
        "rec_NN = recall_score(testy,predictions)\n",
        "print('Recall Score (%): \\n', rec_NN)"
      ],
      "metadata": {
        "execution": {
          "iopub.status.busy": "2022-04-20T10:14:19.563503Z",
          "iopub.execute_input": "2022-04-20T10:14:19.563710Z",
          "iopub.status.idle": "2022-04-20T10:14:19.594292Z",
          "shell.execute_reply.started": "2022-04-20T10:14:19.563669Z",
          "shell.execute_reply": "2022-04-20T10:14:19.593530Z"
        },
        "trusted": true,
        "id": "Z--idPSMZaLK",
        "colab": {
          "base_uri": "https://localhost:8080/"
        },
        "outputId": "3d54cd22-e5c3-4615-9171-bbb1a4e4e411"
      },
      "execution_count": null,
      "outputs": [
        {
          "output_type": "stream",
          "name": "stdout",
          "text": [
            "Accuracy of MLP/Neural Network (%): \n",
            " 83.33333333333334\n",
            "AUC of MLP/Neural Network (%): \n",
            " 67.98029556650246\n",
            "Precision Score (%): \n",
            " 0.8709677419354839\n",
            "Recall Score (%): \n",
            " 0.9310344827586207\n"
          ]
        }
      ]
    },
    {
      "cell_type": "code",
      "source": [
        "predictions[0]"
      ],
      "metadata": {
        "execution": {
          "iopub.status.busy": "2022-04-20T10:14:19.595302Z",
          "iopub.execute_input": "2022-04-20T10:14:19.595516Z",
          "iopub.status.idle": "2022-04-20T10:14:19.600302Z",
          "shell.execute_reply.started": "2022-04-20T10:14:19.595473Z",
          "shell.execute_reply": "2022-04-20T10:14:19.599651Z"
        },
        "trusted": true,
        "id": "0yeVCVAkZaLK",
        "colab": {
          "base_uri": "https://localhost:8080/"
        },
        "outputId": "b5767c79-c40b-455f-a3ec-a9e6e70329b3"
      },
      "execution_count": null,
      "outputs": [
        {
          "output_type": "execute_result",
          "data": {
            "text/plain": [
              "True"
            ]
          },
          "metadata": {},
          "execution_count": 68
        }
      ]
    },
    {
      "cell_type": "code",
      "source": [
        "#confusion matrix\n",
        "from sklearn.metrics import confusion_matrix\n",
        "# ConfusionMatrixDisplay.from_estimator(clf, X_test, y_test)\n",
        "cm = confusion_matrix(testy, predictions)\n",
        "\n",
        "ax= plt.subplot()\n",
        "sns.heatmap(cm, annot=True, fmt='g', ax=ax);  #annot=True to annotate cells, ftm='g' to disable scientific notation\n",
        "\n",
        "# labels, title and ticks\n",
        "ax.set_xlabel('Predicted labels');ax.set_ylabel('True labels'); \n",
        "ax.set_title('MLP Confusion Matrix'); "
      ],
      "metadata": {
        "execution": {
          "iopub.status.busy": "2022-04-20T10:14:24.046219Z",
          "iopub.execute_input": "2022-04-20T10:14:24.046580Z",
          "iopub.status.idle": "2022-04-20T10:14:24.259826Z",
          "shell.execute_reply.started": "2022-04-20T10:14:24.046522Z",
          "shell.execute_reply": "2022-04-20T10:14:24.258979Z"
        },
        "trusted": true,
        "id": "bGbIn30AZaLK",
        "colab": {
          "base_uri": "https://localhost:8080/",
          "height": 518
        },
        "outputId": "d601f6f9-f6a6-4ec5-8b89-92723cf98538"
      },
      "execution_count": null,
      "outputs": [
        {
          "output_type": "display_data",
          "data": {
            "text/plain": [
              "<Figure size 720x576 with 2 Axes>"
            ],
            "image/png": "[encoded data removed]"
          },
          "metadata": {}
        }
      ]
    },
    {
      "cell_type": "code",
      "source": [
        "import numpy as np\n",
        "import pandas as pd\n",
        "%matplotlib inline\n",
        "import matplotlib\n",
        "import seaborn as sns\n",
        "matplotlib.rcParams['savefig.dpi'] = 144\n",
        "import sklearn.preprocessing as skp\n",
        "import sklearn.model_selection as skm\n",
        "\n",
        "# import classificaiton modules\n",
        "\n",
        "from sklearn.neighbors import KNeighborsClassifier\n",
        "from sklearn.naive_bayes import GaussianNB\n",
        "\n",
        "from sklearn.metrics import accuracy_score, confusion_matrix,precision_score, recall_score, roc_auc_score, roc_curve, auc, f1_score"
      ],
      "metadata": {
        "execution": {
          "iopub.status.busy": "2022-04-20T10:14:26.090789Z",
          "iopub.execute_input": "2022-04-20T10:14:26.091141Z",
          "iopub.status.idle": "2022-04-20T10:14:26.106055Z",
          "shell.execute_reply.started": "2022-04-20T10:14:26.091087Z",
          "shell.execute_reply": "2022-04-20T10:14:26.105123Z"
        },
        "trusted": true,
        "id": "4h8QJ3iXZaLQ"
      },
      "execution_count": null,
      "outputs": []
    },
    {
      "cell_type": "code",
      "source": [
        "# K- NN on nanual Split\n",
        "\n",
        "clf = KNeighborsClassifier(n_neighbors=20)\n",
        "clf.fit(trainX,trainy)\n",
        "predictions = clf.predict(testX)\n",
        "\n",
        "acc_K_NN = accuracy_score(testy, predictions)*100\n",
        "print('Accuracy of KNN (%): \\n',acc_K_NN)\n",
        "      \n",
        "\n",
        "fpr3 , tpr3, _ = roc_curve(testy, predictions)\n",
        "auc_KNN = auc(fpr3, tpr3)*100\n",
        "print(\"AUC of KNN (%): \\n\", auc_KNN)\n",
        "\n",
        "pre_KNN = precision_score(testy,predictions)\n",
        "print('Precision Score (%): \\n',pre_KNN )\n",
        "rec_KNN = recall_score(testy,predictions)\n",
        "print('Recall Score (%): \\n', rec_KNN)\n"
      ],
      "metadata": {
        "execution": {
          "iopub.status.busy": "2022-04-20T10:14:26.959855Z",
          "iopub.execute_input": "2022-04-20T10:14:26.960153Z",
          "iopub.status.idle": "2022-04-20T10:14:26.981790Z",
          "shell.execute_reply.started": "2022-04-20T10:14:26.960104Z",
          "shell.execute_reply": "2022-04-20T10:14:26.980953Z"
        },
        "trusted": true,
        "id": "8xInR_UEZaLQ",
        "colab": {
          "base_uri": "https://localhost:8080/"
        },
        "outputId": "8424f52a-b687-4735-d775-dfe47fcf754f"
      },
      "execution_count": null,
      "outputs": [
        {
          "output_type": "stream",
          "name": "stdout",
          "text": [
            "Accuracy of KNN (%): \n",
            " 80.55555555555556\n",
            "AUC of KNN (%): \n",
            " 60.83743842364531\n",
            "Precision Score (%): \n",
            " 0.84375\n",
            "Recall Score (%): \n",
            " 0.9310344827586207\n"
          ]
        }
      ]
    },
    {
      "cell_type": "code",
      "source": [
        "#confusion matrix\n",
        "from sklearn.metrics import confusion_matrix\n",
        "# ConfusionMatrixDisplay.from_estimator(clf, X_test, y_test)\n",
        "cm = confusion_matrix(testy, predictions)\n",
        "\n",
        "ax= plt.subplot()\n",
        "sns.heatmap(cm, annot=True, fmt='g', ax=ax);  #annot=True to annotate cells, ftm='g' to disable scientific notation\n",
        "\n",
        "# labels, title and ticks\n",
        "ax.set_xlabel('Predicted labels');ax.set_ylabel('True labels'); \n",
        "ax.set_title('KNN Confusion Matrix'); "
      ],
      "metadata": {
        "execution": {
          "iopub.status.busy": "2022-04-20T10:14:32.901923Z",
          "iopub.execute_input": "2022-04-20T10:14:32.902174Z",
          "iopub.status.idle": "2022-04-20T10:14:33.077532Z",
          "shell.execute_reply.started": "2022-04-20T10:14:32.902125Z",
          "shell.execute_reply": "2022-04-20T10:14:33.076671Z"
        },
        "trusted": true,
        "id": "t14FbSBZZaLQ",
        "colab": {
          "base_uri": "https://localhost:8080/",
          "height": 301
        },
        "outputId": "ffa9d66d-319c-45c1-a267-4f9b699261bf"
      },
      "execution_count": null,
      "outputs": [
        {
          "output_type": "display_data",
          "data": {
            "text/plain": [
              "<Figure size 432x288 with 2 Axes>"
            ],
            "image/png": "[encoded data removed]"
          },
          "metadata": {
            "needs_background": "light"
          }
        }
      ]
    },
    {
      "cell_type": "code",
      "source": [
        "algos=[\"Random Forest\",\"MLP/Neural Network\",\"K Nearest Neighbor\"]\n",
        "acc=[acc_RF,acc_NN,acc_K_NN]\n",
        "auc=[auc_RF,auc_NN,auc_KNN]\n",
        "recall=[pre_RF,pre_NN,pre_KNN]\n",
        "prec=[rec_RF,rec_NN,rec_KNN]\n",
        "comp={\"Algorithms\":algos,\"Accuracies\":acc,\"Area Under the Curve\":auc,\"Recall\":recall,\"Precision\":prec}\n",
        "compdf=pd.DataFrame(comp)\n",
        "display(compdf.sort_values(by=[\"Accuracies\",\"Area Under the Curve\",\"Recall\",\"Precision\"], ascending=False))"
      ],
      "metadata": {
        "execution": {
          "iopub.status.busy": "2022-04-20T10:14:48.112897Z",
          "iopub.execute_input": "2022-04-20T10:14:48.113418Z",
          "iopub.status.idle": "2022-04-20T10:14:48.135179Z",
          "shell.execute_reply.started": "2022-04-20T10:14:48.113373Z",
          "shell.execute_reply": "2022-04-20T10:14:48.134699Z"
        },
        "trusted": true,
        "id": "y0DPFx-1ZaLQ",
        "colab": {
          "base_uri": "https://localhost:8080/",
          "height": 143
        },
        "outputId": "0033e640-c12f-43bb-f1fd-1a102d0fec7a"
      },
      "execution_count": null,
      "outputs": [
        {
          "output_type": "display_data",
          "data": {
            "text/plain": [
              "           Algorithms  Accuracies  Area Under the Curve    Recall  Precision\n",
              "1  MLP/Neural Network   83.333333             67.980296  0.870968   0.931034\n",
              "0       Random Forest   80.555556             60.837438  0.843750   0.931034\n",
              "2  K Nearest Neighbor   80.555556             60.837438  0.843750   0.931034"
            ],
            "text/html": [
              "\n",
              "  <div id=\"df-b95d1071-3f2d-46fc-9057-86b030a2aa61\">\n",
              "    <div class=\"colab-df-container\">\n",
              "      <div>\n",
              "<style scoped>\n",
              "    .dataframe tbody tr th:only-of-type {\n",
              "        vertical-align: middle;\n",
              "    }\n",
              "\n",
              "    .dataframe tbody tr th {\n",
              "        vertical-align: top;\n",
              "    }\n",
              "\n",
              "    .dataframe thead th {\n",
              "        text-align: right;\n",
              "    }\n",
              "</style>\n",
              "<table border=\"1\" class=\"dataframe\">\n",
              "  <thead>\n",
              "    <tr style=\"text-align: right;\">\n",
              "      <th></th>\n",
              "      <th>Algorithms</th>\n",
              "      <th>Accuracies</th>\n",
              "      <th>Area Under the Curve</th>\n",
              "      <th>Recall</th>\n",
              "      <th>Precision</th>\n",
              "    </tr>\n",
              "  </thead>\n",
              "  <tbody>\n",
              "    <tr>\n",
              "      <th>1</th>\n",
              "      <td>MLP/Neural Network</td>\n",
              "      <td>83.333333</td>\n",
              "      <td>67.980296</td>\n",
              "      <td>0.870968</td>\n",
              "      <td>0.931034</td>\n",
              "    </tr>\n",
              "    <tr>\n",
              "      <th>0</th>\n",
              "      <td>Random Forest</td>\n",
              "      <td>80.555556</td>\n",
              "      <td>60.837438</td>\n",
              "      <td>0.843750</td>\n",
              "      <td>0.931034</td>\n",
              "    </tr>\n",
              "    <tr>\n",
              "      <th>2</th>\n",
              "      <td>K Nearest Neighbor</td>\n",
              "      <td>80.555556</td>\n",
              "      <td>60.837438</td>\n",
              "      <td>0.843750</td>\n",
              "      <td>0.931034</td>\n",
              "    </tr>\n",
              "  </tbody>\n",
              "</table>\n",
              "</div>\n",
              "      <button class=\"colab-df-convert\" onclick=\"convertToInteractive('df-b95d1071-3f2d-46fc-9057-86b030a2aa61')\"\n",
              "              title=\"Convert this dataframe to an interactive table.\"\n",
              "              style=\"display:none;\">\n",
              "        \n",
              "  <svg xmlns=\"http://www.w3.org/2000/svg\" height=\"24px\"viewBox=\"0 0 24 24\"\n",
              "       width=\"24px\">\n",
              "    <path d=\"M0 0h24v24H0V0z\" fill=\"none\"/>\n",
              "    <path d=\"M18.56 5.44l.94 2.06.94-2.06 2.06-.94-2.06-.94-.94-2.06-.94 2.06-2.06.94zm-11 1L8.5 8.5l.94-2.06 2.06-.94-2.06-.94L8.5 2.5l-.94 2.06-2.06.94zm10 10l.94 2.06.94-2.06 2.06-.94-2.06-.94-.94-2.06-.94 2.06-2.06.94z\"/><path d=\"M17.41 7.96l-1.37-1.37c-.4-.4-.92-.59-1.43-.59-.52 0-1.04.2-1.43.59L10.3 9.45l-7.72 7.72c-.78.78-.78 2.05 0 2.83L4 21.41c.39.39.9.59 1.41.59.51 0 1.02-.2 1.41-.59l7.78-7.78 2.81-2.81c.8-.78.8-2.07 0-2.86zM5.41 20L4 18.59l7.72-7.72 1.47 1.35L5.41 20z\"/>\n",
              "  </svg>\n",
              "      </button>\n",
              "      \n",
              "  <style>\n",
              "    .colab-df-container {\n",
              "      display:flex;\n",
              "      flex-wrap:wrap;\n",
              "      gap: 12px;\n",
              "    }\n",
              "\n",
              "    .colab-df-convert {\n",
              "      background-color: #E8F0FE;\n",
              "      border: none;\n",
              "      border-radius: 50%;\n",
              "      cursor: pointer;\n",
              "      display: none;\n",
              "      fill: #1967D2;\n",
              "      height: 32px;\n",
              "      padding: 0 0 0 0;\n",
              "      width: 32px;\n",
              "    }\n",
              "\n",
              "    .colab-df-convert:hover {\n",
              "      background-color: #E2EBFA;\n",
              "      box-shadow: 0px 1px 2px rgba(60, 64, 67, 0.3), 0px 1px 3px 1px rgba(60, 64, 67, 0.15);\n",
              "      fill: #174EA6;\n",
              "    }\n",
              "\n",
              "    [theme=dark] .colab-df-convert {\n",
              "      background-color: #3B4455;\n",
              "      fill: #D2E3FC;\n",
              "    }\n",
              "\n",
              "    [theme=dark] .colab-df-convert:hover {\n",
              "      background-color: #434B5C;\n",
              "      box-shadow: 0px 1px 3px 1px rgba(0, 0, 0, 0.15);\n",
              "      filter: drop-shadow(0px 1px 2px rgba(0, 0, 0, 0.3));\n",
              "      fill: #FFFFFF;\n",
              "    }\n",
              "  </style>\n",
              "\n",
              "      <script>\n",
              "        const buttonEl =\n",
              "          document.querySelector('#df-b95d1071-3f2d-46fc-9057-86b030a2aa61 button.colab-df-convert');\n",
              "        buttonEl.style.display =\n",
              "          google.colab.kernel.accessAllowed ? 'block' : 'none';\n",
              "\n",
              "        async function convertToInteractive(key) {\n",
              "          const element = document.querySelector('#df-b95d1071-3f2d-46fc-9057-86b030a2aa61');\n",
              "          const dataTable =\n",
              "            await google.colab.kernel.invokeFunction('convertToInteractive',\n",
              "                                                     [key], {});\n",
              "          if (!dataTable) return;\n",
              "\n",
              "          const docLinkHtml = 'Like what you see? Visit the ' +\n",
              "            '<a target=\"_blank\" href=https://colab.research.google.com/notebooks/data_table.ipynb>data table notebook</a>'\n",
              "            + ' to learn more about interactive tables.';\n",
              "          element.innerHTML = '';\n",
              "          dataTable['output_type'] = 'display_data';\n",
              "          await google.colab.output.renderOutput(dataTable, element);\n",
              "          const docLink = document.createElement('div');\n",
              "          docLink.innerHTML = docLinkHtml;\n",
              "          element.appendChild(docLink);\n",
              "        }\n",
              "      </script>\n",
              "    </div>\n",
              "  </div>\n",
              "  "
            ]
          },
          "metadata": {}
        }
      ]
    },
    {
      "cell_type": "code",
      "source": [
        "import sklearn.metrics as metrics\n",
        "roc_auc1 = metrics.auc(fpr1, tpr1)\n",
        "roc_auc2 = metrics.auc(fpr2, tpr2)\n",
        "roc_auc3 = metrics.auc(fpr3, tpr3)\n",
        "# method I: plt\n",
        "import matplotlib.pyplot as plt\n",
        "plt.figure()\n",
        "plt.title('Receiver Operating Characteristic')\n",
        "plt.plot(fpr1, tpr1, 'b', label = 'ROC DecisionTree AUC = %0.2f' % roc_auc1)\n",
        "plt.plot(fpr2, tpr2, 'r', label = 'ROC of MLP AUC = %0.2f' % roc_auc2)\n",
        "plt.plot(fpr3, tpr3, 'g', label = 'ROC of KNN AUC = %0.2f' % roc_auc3)\n",
        "plt.legend(loc = 'lower right')\n",
        "plt.plot([0, 1], [0, 1],'r--')\n",
        "plt.xlim([0, 1])\n",
        "plt.ylim([0, 1])\n",
        "plt.ylabel('True Positive Rate')\n",
        "plt.xlabel('False Positive Rate')\n",
        "plt.show()"
      ],
      "metadata": {
        "execution": {
          "iopub.status.busy": "2022-04-20T10:15:13.450316Z",
          "iopub.execute_input": "2022-04-20T10:15:13.450773Z",
          "iopub.status.idle": "2022-04-20T10:15:13.622382Z",
          "shell.execute_reply.started": "2022-04-20T10:15:13.450728Z",
          "shell.execute_reply": "2022-04-20T10:15:13.621757Z"
        },
        "trusted": true,
        "id": "R970Ja7DZaLQ",
        "colab": {
          "base_uri": "https://localhost:8080/",
          "height": 301
        },
        "outputId": "67d371ce-c707-416a-ba17-3e19b949d088"
      },
      "execution_count": null,
      "outputs": [
        {
          "output_type": "display_data",
          "data": {
            "text/plain": [
              "<Figure size 432x288 with 1 Axes>"
            ],
            "image/png": "[encoded data removed]"
          },
          "metadata": {
            "needs_background": "light"
          }
        }
      ]
    },
    {
      "cell_type": "code",
      "source": [
        "# blending ensemble for classification using hard voting\n",
        "from numpy import hstack\n",
        "from sklearn.datasets import make_classification\n",
        "from sklearn.model_selection import train_test_split\n",
        "from sklearn.metrics import accuracy_score\n",
        "from sklearn.linear_model import LogisticRegression\n",
        "from sklearn.neighbors import KNeighborsClassifier\n",
        "from sklearn.tree import DecisionTreeClassifier\n",
        "from sklearn.svm import SVC\n",
        "from sklearn.naive_bayes import GaussianNB\n",
        "\n",
        "# get the dataset\n",
        "def get_dataset():\n",
        "\tX, y = make_classification(n_samples=10000, n_features=20, n_informative=15, n_redundant=5, random_state=7)\n",
        "\treturn X, y\n",
        "\n",
        "# get a list of base models\n",
        "def get_models():\n",
        "  models = list()\n",
        "  models.append(('lr', LogisticRegression()))\n",
        "  models.append(('knn', KNeighborsClassifier()))\n",
        "  models.append(('cart', DecisionTreeClassifier()))\n",
        "  models.append(('svm', SVC()))\n",
        "  models.append(('bayes', GaussianNB()))\n",
        "  return models\n",
        "\n",
        "# fit the blending ensemble\n",
        "def fit_ensemble(models, X_train, X_val, y_train, y_val):\n",
        "  # fit all models on the training set and predict on hold out set\n",
        "  meta_X = list()\n",
        "  for name, model in models:\n",
        "    # fit in training set\n",
        "    model.fit(X_train, y_train)\n",
        "    # predict on hold out set\n",
        "    yhat = model.predict(X_val)\n",
        "    # reshape predictions into a matrix with one column\n",
        "    yhat = yhat.reshape(len(yhat), 1)\n",
        "    # store predictions as input for blending\n",
        "    meta_X.append(yhat)\n",
        "  # create 2d array from predictions, each set is an input feature\n",
        "  meta_X = hstack(meta_X)\n",
        "  print(meta_X)\n",
        "  # define blending model\n",
        "  blender = LogisticRegression()\n",
        "  # fit on predictions from base models\n",
        "  blender.fit(meta_X, y_val)\n",
        "  return blender\n",
        "\n",
        "# make a prediction with the blending ensemble\n",
        "def predict_ensemble(models, blender, X_test):\n",
        "  # make predictions with base models\n",
        "  meta_X = list()\n",
        "  for name, model in models:\n",
        "    # predict with base model\n",
        "    yhat = model.predict(X_test)\n",
        "    # reshape predictions into a matrix with one column\n",
        "    yhat = yhat.reshape(len(yhat), 1)\n",
        "    # store prediction\n",
        "    meta_X.append(yhat)\n",
        "  # create 2d array from predictions, each set is an input feature\n",
        "  meta_X = hstack(meta_X)\n",
        "  # predict\n",
        "  return blender.predict(meta_X)\n",
        "\n",
        "# define dataset\n",
        "# X, y = get_dataset()\n",
        "# split dataset into train and test sets\n",
        "# X_train_full, X_test, y_train_full, y_test = train_test_split(X, y, test_size=0.5, random_state=1)\n",
        "# split training set into train and validation sets\n",
        "X_train, X_val, y_train, y_val = train_test_split(trainX, trainy, test_size=0.33, random_state=1)\n",
        "# trainX, testX, trainy, testy\n",
        "# summarize data split\n",
        "print('Train: %s, Val: %s, Test: %s' % (X_train.shape, X_val.shape, testX.shape))\n",
        "# create the base models\n",
        "models = get_models()\n",
        "# train the blending ensemble\n",
        "blender = fit_ensemble(models, X_train, X_val, y_train, y_val)\n",
        "# make predictions on test set\n",
        "yhat = predict_ensemble(models, blender, testX)\n",
        "# evaluate predictions\n",
        "score = accuracy_score(testy, yhat)\n",
        "print('Blending Accuracy: %.3f' % (score*100))"
      ],
      "metadata": {
        "id": "LspnT9u1ZaLQ",
        "colab": {
          "base_uri": "https://localhost:8080/"
        },
        "outputId": "f4b5a388-f7e2-47f9-a17c-9e27f2e4dc45"
      },
      "execution_count": null,
      "outputs": [
        {
          "output_type": "stream",
          "name": "stdout",
          "text": [
            "Train: (71, 8), Val: (35, 8), Test: (36, 8)\n",
            "[[ True  True  True  True  True]\n",
            " [ True  True  True  True  True]\n",
            " [ True  True  True  True  True]\n",
            " [ True  True  True  True  True]\n",
            " [ True  True  True  True  True]\n",
            " [ True  True  True  True  True]\n",
            " [ True  True  True  True  True]\n",
            " [ True  True  True  True  True]\n",
            " [ True  True  True  True  True]\n",
            " [ True  True  True  True  True]\n",
            " [ True  True  True  True  True]\n",
            " [ True  True  True  True  True]\n",
            " [ True  True  True  True  True]\n",
            " [ True  True  True  True  True]\n",
            " [ True False  True  True False]\n",
            " [ True  True  True  True  True]\n",
            " [ True False False False False]\n",
            " [ True  True False  True  True]\n",
            " [False False False False False]\n",
            " [ True  True  True  True False]\n",
            " [ True  True  True  True  True]\n",
            " [ True  True  True  True  True]\n",
            " [ True  True  True  True  True]\n",
            " [ True  True  True  True  True]\n",
            " [ True  True  True  True  True]\n",
            " [False False  True False False]\n",
            " [ True  True False  True False]\n",
            " [ True  True  True  True  True]\n",
            " [ True  True  True  True  True]\n",
            " [ True  True  True  True  True]\n",
            " [ True  True  True  True  True]\n",
            " [ True  True  True  True  True]\n",
            " [ True  True  True  True  True]\n",
            " [ True  True  True  True  True]\n",
            " [ True  True  True  True  True]]\n",
            "Blending Accuracy: 80.556\n"
          ]
        }
      ]
    },
    {
      "cell_type": "code",
      "source": [
        "# compare ensemble to each standalone models for regression\n",
        "from numpy import mean\n",
        "from numpy import std\n",
        "from sklearn.datasets import make_regression\n",
        "from sklearn.model_selection import cross_val_score\n",
        "from sklearn.model_selection import RepeatedKFold\n",
        "from sklearn.linear_model import LinearRegression\n",
        "from sklearn.neighbors import KNeighborsRegressor\n",
        "from sklearn.tree import DecisionTreeRegressor\n",
        "from sklearn.svm import SVR\n",
        "from sklearn.ensemble import StackingRegressor\n",
        "from matplotlib import pyplot\n",
        "\n",
        "# get the dataset\n",
        "def get_dataset():\n",
        "\tX, y = make_regression(n_samples=1000, n_features=20, n_informative=15, noise=0.1, random_state=1)\n",
        "\treturn X, y\n",
        "\n",
        "# get a stacking ensemble of models\n",
        "def get_stacking():\n",
        "  # define the base models\n",
        "  level0 = list()\n",
        "  level0.append(('knn', KNeighborsRegressor()))\n",
        "  level0.append(('cart', DecisionTreeRegressor()))\n",
        "  level0.append(('svm', SVR()))\n",
        "  # define meta learner model\n",
        "  level1 = LinearRegression()\n",
        "  # define the stacking ensemble\n",
        "  model = StackingRegressor(estimators=level0, final_estimator=level1, cv=5)\n",
        "  return model\n",
        "\n",
        "# get a list of models to evaluate\n",
        "def get_models():\n",
        "  models = dict()\n",
        "  models['knn'] = KNeighborsRegressor()\n",
        "  models['cart'] = DecisionTreeRegressor()\n",
        "  models['svm'] = SVR()\n",
        "  models['hybrid'] = get_stacking()\n",
        "  return models\n",
        "# trainX, testX, trainy, testy\n",
        "# evaluate a given model using cross-validation\n",
        "def evaluate_model(model, X, y):\n",
        "  cv = RepeatedKFold(n_splits=10, n_repeats=3, random_state=1)\n",
        "  scores = cross_val_score(model, trainX, trainy, scoring='neg_mean_absolute_error', cv=cv, n_jobs=-1, error_score='raise')\n",
        "  return scores\n",
        "\n",
        "# define dataset\n",
        "# X, y = get_dataset()\n",
        "# get the models to evaluate\n",
        "models = get_models()\n",
        "# evaluate the models and store results\n",
        "results, names = list(), list()\n",
        "for name, model in models.items():\n",
        "  scores = evaluate_model(model, X, y)\n",
        "  results.append(scores)\n",
        "  names.append(name)\n",
        "  print('>%s %.3f (%.3f)' % (name, mean(scores), std(scores)))\n",
        "# plot model performance for comparison\n",
        "plt.figure(figsize=(12,12))\n",
        "pyplot.boxplot(results, labels=names, showmeans=True)\n",
        "pyplot.show()"
      ],
      "metadata": {
        "colab": {
          "base_uri": "https://localhost:8080/",
          "height": 772
        },
        "id": "OM6Z1QRomi2B",
        "outputId": "b4dfaa41-1a93-4422-8bfa-d1a30ff50bd7"
      },
      "execution_count": 95,
      "outputs": [
        {
          "output_type": "stream",
          "name": "stdout",
          "text": [
            ">knn -0.164 (0.070)\n",
            ">cart -0.207 (0.115)\n",
            ">svm -0.169 (0.060)\n",
            ">hybrid -0.183 (0.058)\n"
          ]
        },
        {
          "output_type": "display_data",
          "data": {
            "text/plain": [
              "<Figure size 864x864 with 1 Axes>"
            ],
            "image/png": "[encoded data removed]"
          },
          "metadata": {
            "needs_background": "light"
          }
        }
      ]
    },
    {
      "cell_type": "code",
      "source": [
        ""
      ],
      "metadata": {
        "id": "GmGGyKvBq9wf"
      },
      "execution_count": null,
      "outputs": []
    }
  ]
}